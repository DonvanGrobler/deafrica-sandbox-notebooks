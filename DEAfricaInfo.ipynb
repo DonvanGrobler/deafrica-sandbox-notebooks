{
 "cells": [
  {
   "cell_type": "markdown",
   "id": "603997d7",
   "metadata": {},
   "source": [
    "<img align=\"centre\" src=\"Supplementary_data/Github_banner.jpg\" width=\"100%\">"
   ]
  },
  {
   "cell_type": "markdown",
   "id": "d1edbaeb-049c-4c2e-ac0e-df097d919231",
   "metadata": {
    "tags": []
   },
   "source": [
    " <div class=\"alert alert-block alert-success\"><b> Important Updates</b></div>"
   ]
  },
  {
   "cell_type": "markdown",
   "id": "ba38ffac-78b4-4d57-a4b3-ce46819016e5",
   "metadata": {},
   "source": [
    "<span style=\"color:#485461\"><b>Notebooks</b></span>\n",
    "\n",
    "[Link](https://github.com/digitalearthafrica/deafrica-sandbox-notebooks/tree/main/Beginners_guide): *Brief information*\n",
    "\n",
    "<span style=\"color:#485461\"><b>Datasets</b></span>\n",
    "\n",
    "[Link](https://github.com/digitalearthafrica/deafrica-sandbox-notebooks/tree/main/Beginners_guide): *Brief information*"
   ]
  },
  {
   "cell_type": "markdown",
   "id": "4f208aeb-810f-434d-b7f1-eaafaf0e165a",
   "metadata": {},
   "source": [
    " <div class=\"alert alert-block alert-info\"><b> Support </b></div>"
   ]
  },
  {
   "cell_type": "markdown",
   "id": "7e646ac2-58e3-4649-8138-0a6b9b49b5a7",
   "metadata": {},
   "source": [
    " *Helpdesk*"
   ]
  },
  {
   "cell_type": "markdown",
   "id": "4b39c579-84d2-44b0-ab42-a65bb6744c19",
   "metadata": {},
   "source": [
    "<div class=\"alert alert-block alert-danger\">\n",
    "<b>Information</b>\n",
    "</div>"
   ]
  },
  {
   "cell_type": "markdown",
   "id": "59eca579",
   "metadata": {},
   "source": [
    "The Digital Earth Africa Notebooks repository (`deafrica-sandbox-notebooks`) hosts Jupyter Notebooks, Python scripts and workflows for analysing [Digital Earth Africa (DE Africa)](https://www.digitalearthafrica.org/) satellite data and derived products. This documentation is designed to provide a guide to getting started with DE Africa, and to showcase the wide range of geospatial analyses that can be achieved using DE Africa data and open-source software including [Open Data Cube](https://www.opendatacube.org/) and [xarray](http://xarray.pydata.org/en/stable/)."
   ]
  },
  {
   "cell_type": "markdown",
   "id": "9a60f32b-017b-4d42-bbc5-0bba341bcc73",
   "metadata": {},
   "source": [
    "<img align=\"left\" src=\"https://img.shields.io/badge/License-Apache%202.0-blue.svg\">."
   ]
  }
 ],
 "metadata": {
  "jupytext": {
   "cell_metadata_filter": "-all",
   "main_language": "python",
   "notebook_metadata_filter": "-all"
  },
  "kernelspec": {
   "display_name": "Python 3 (ipykernel)",
   "language": "python",
   "name": "python3"
  },
  "language_info": {
   "codemirror_mode": {
    "name": "ipython",
    "version": 3
   },
   "file_extension": ".py",
   "mimetype": "text/x-python",
   "name": "python",
   "nbconvert_exporter": "python",
   "pygments_lexer": "ipython3",
   "version": "3.8.10"
  }
 },
 "nbformat": 4,
 "nbformat_minor": 5
}
