{
 "cells": [
  {
   "cell_type": "markdown",
   "id": "1000142e-5515-45bc-99ac-60f3757e8303",
   "metadata": {},
   "source": [
    "# Digital Earth Africa Notebooks and Sustainable Development Goals and Indicators"
   ]
  },
  {
   "cell_type": "markdown",
   "id": "81f41a9a-aedc-409a-b689-f328eaadb697",
   "metadata": {},
   "source": [
    "## Background \n",
    "\n",
    "A paragraph or two on the importance and contributions of Earth observations in support of the implementation, monitoring and evaluation of the SDGs.\n"
   ]
  },
  {
   "cell_type": "markdown",
   "id": "5ad73c42-7983-4667-8cea-3a205f67e7de",
   "metadata": {},
   "source": [
    "## Sustainable Development Indicators that Digital Earth Africa Notebooks Contribute to as a Direct Measure or as Indirect Support\n"
   ]
  },
  {
   "cell_type": "markdown",
   "id": "b2d7da7e-cf2c-41c0-9792-6e636f376bf6",
   "metadata": {},
   "source": [
    "### Goal 1. End poverty in all its forms everywhere\n"
   ]
  },
  {
   "cell_type": "markdown",
   "id": "91387e12-f436-45e5-9c9f-b8814764cd4a",
   "metadata": {},
   "source": [
    "**Indicator 1.4.2**  Proportion of total adult population with secure tenure rights to land, (a) with legally recognized documentation, and (b) who perceive their rights to land as secure, by sex and type of tenure"
   ]
  },
  {
   "cell_type": "markdown",
   "id": "33529167-e860-4957-8b7d-a52f0b704a86",
   "metadata": {},
   "source": [
    "### Goal 2. End hunger, achieve food security and improved nutrition and promote sustainable agriculture\n",
    " "
   ]
  },
  {
   "cell_type": "markdown",
   "id": "cf4d312c-a933-4cd5-bd1c-07ab141fab33",
   "metadata": {},
   "source": [
    "**Indicator 2.4.1** Proportion of agricultural area under productive and sustainable agriculture"
   ]
  },
  {
   "cell_type": "markdown",
   "id": "ebac8795-8f67-4f17-bb1c-8fe81c526481",
   "metadata": {},
   "source": [
    "[Monitoring change through time using satellite imagery filmstrip plots](Real_world_examples/Change_filmstrips.ipynb)"
   ]
  },
  {
   "cell_type": "markdown",
   "id": "9271a28d-4098-4605-b2f1-68ae0aed18d2",
   "metadata": {},
   "source": [
    "[Measuring crop health](Real_world_examples/Crop_health.ipynb)"
   ]
  },
  {
   "cell_type": "markdown",
   "id": "bb84f13a-8603-4503-9c47-d71c23f86a45",
   "metadata": {},
   "source": [
    "[Forecasting cropland vegetation condition](Real_world_examples/Forecasting_vegetation_condition.ipynb)"
   ]
  },
  {
   "cell_type": "markdown",
   "id": "77413441-6a31-40f6-b9a2-34ae7669ac5c",
   "metadata": {},
   "source": [
    "[Identifying active irrigated cropping](Real_world_examples/Irrigated_cropping.ipynb)"
   ]
  },
  {
   "cell_type": "markdown",
   "id": "c9c2d2f2-b371-49ae-a0dd-4ae1f18613b2",
   "metadata": {},
   "source": [
    "[Vegetation Phenology (Optical)](Real_world_examples/Phenology_optical.ipynb)\n",
    "\n",
    "[Vegetation Phenology (Radar)](Real_world_examples/Phenology_radar.ipynb)"
   ]
  },
  {
   "cell_type": "markdown",
   "id": "814ddc85-6089-4d35-8b65-c733f7f044c3",
   "metadata": {},
   "source": [
    "[Monthly vegetation condition anomalies](Real_world_examples/Vegetation_anomalies_monthly.ipynb)"
   ]
  },
  {
   "cell_type": "markdown",
   "id": "c60e5f55-30b1-46bb-8116-0cd440967d91",
   "metadata": {},
   "source": [
    "Scalable Supervised Machine Learning on the Open Data Cube Notebooks: \n",
    "    \n",
    "[Scalable Supervised Machine Learning on the Open Data Cube ReadME](Real_world_examples/Scalable_machine_learning/0_README.ipynb)\n",
    "\n",
    "[Extracting training data from the ODC](Real_world_examples/Scalable_machine_learning/1_Extract_training_data.ipynb)\n",
    "\n",
    "[Inspecting training data](Real_world_examples/Scalable_machine_learning/2_Inspect_training_data.ipynb)\n",
    "\n",
    "[Evaluate, optimize, and fit a classifier](Real_world_examples/Scalable_machine_learning/3_Evaluate_optimize_fit_classifier.ipynb)\n",
    "\n",
    "[Classifying satellite data](Real_world_examples/Scalable_machine_learning/4_Classify_satellite_data.ipynb)\n",
    "\n",
    "[Object-based filtering of pixel classifications](Real_world_examples/Scalable_machine_learning/5_Object-based_filtering.ipynb)\n"
   ]
  },
  {
   "cell_type": "markdown",
   "id": "67f426b4-848a-4bbc-bce2-3f3b69340928",
   "metadata": {},
   "source": [
    "**Indicator 2.c.1** Indicator of food price anomolies"
   ]
  },
  {
   "cell_type": "markdown",
   "id": "052d352b-b4be-44fd-ba30-dc799e228f45",
   "metadata": {},
   "source": [
    "[Measuring crop health](Real_world_examples/Crop_health.ipynb)"
   ]
  },
  {
   "cell_type": "markdown",
   "id": "7edb2330-e930-46f0-855d-5df4fb0d98ee",
   "metadata": {},
   "source": [
    "[Forecasting cropland vegetation condition](Real_world_examples/Forecasting_vegetation_condition.ipynb)"
   ]
  },
  {
   "cell_type": "markdown",
   "id": "9663e466-2315-403d-9fb2-ee298ad46e3d",
   "metadata": {},
   "source": [
    "[Vegetation Phenology (Optical)](Real_world_examples/Phenology_optical.ipynb)\n",
    "\n",
    "[Vegetation Phenology (Radar)](Real_world_examples/Phenology_radar.ipynb)"
   ]
  },
  {
   "cell_type": "markdown",
   "id": "5336295b-68c1-4a5d-88a4-3585a6496e72",
   "metadata": {},
   "source": [
    "[Rainfall anomalies from Climate Hazards Group InfraRed Precipitation with Station data (CHIRPS)](Real_world_examples/Rainfall_anomaly_CHIRPS.ipynb)"
   ]
  },
  {
   "cell_type": "markdown",
   "id": "20a48622-c55d-4bbe-97fa-b04bc3b29282",
   "metadata": {},
   "source": [
    "### Goal 3. Ensure healthy lives and promote well-being for all at all ages\n"
   ]
  },
  {
   "cell_type": "markdown",
   "id": "79de004b-19e7-488f-9b06-8044cb9eba8f",
   "metadata": {},
   "source": [
    "**Indicator 3.9.1** Mortality rate attributed to household and ambient air pollution"
   ]
  },
  {
   "cell_type": "markdown",
   "id": "95146eda-71f6-469f-b376-dd80940a03ab",
   "metadata": {},
   "source": [
    "### Goal 5. Achieve gender equality and empower all women and girls\n"
   ]
  },
  {
   "cell_type": "markdown",
   "id": "fbe133aa-7451-42fd-89a7-ff49729424bb",
   "metadata": {},
   "source": [
    "**Indicator 5.a.1** (a) Proportion of total agricultural population with ownership or secure rights over agricultural land, by sex; and (b) share of women among owners or rights-bearers of agricultural land, by type of tenure"
   ]
  },
  {
   "cell_type": "markdown",
   "id": "b9d625ce-a6a1-4731-9399-0bbefc8410aa",
   "metadata": {},
   "source": [
    "### Goal 6. Ensure availability and sustainable management of water and sanitation for all\n"
   ]
  },
  {
   "cell_type": "markdown",
   "id": "b1001ab0-7831-43bf-b07a-1c64e0a97947",
   "metadata": {},
   "source": [
    "**Indicator 6.3.1** Proportion of domestic and industrial wastewater flows safely treated"
   ]
  },
  {
   "cell_type": "markdown",
   "id": "0938058d-a8ea-4436-91f0-9679871ba928",
   "metadata": {},
   "source": [
    "**Indicator 6.3.2** Proportion of bodies of water with good ambient water quality"
   ]
  },
  {
   "cell_type": "markdown",
   "id": "673d00cf-5a99-4675-b908-8cd558732493",
   "metadata": {},
   "source": [
    "[Monitoring Water Quality](Frequently_used_code/Monitoring_water_quality.ipynb)"
   ]
  },
  {
   "cell_type": "markdown",
   "id": "9026449f-7109-47b7-969b-478e1faa90b5",
   "metadata": {},
   "source": [
    "[Monitoring chlorophyll-*a* in African waterbodies](Real_world_examples/Chlorophyll_monitoring.ipynb)"
   ]
  },
  {
   "cell_type": "markdown",
   "id": "d1607de0-f9ad-4203-a52d-c5fffd596473",
   "metadata": {},
   "source": [
    "**Indicator 6.4.2** Level of water stress: freshwater withdrawal as a proportion of available freshwater resources"
   ]
  },
  {
   "cell_type": "markdown",
   "id": "c4dd935e-e89a-429a-8732-8f7ead91d1d9",
   "metadata": {},
   "source": [
    "[Identifying active irrigated cropping](Real_world_examples/Irrigated_cropping.ipynb)"
   ]
  },
  {
   "cell_type": "markdown",
   "id": "8bdd4642-77f5-4526-b0d6-d506c737fe6a",
   "metadata": {},
   "source": [
    "[Rainfall anomalies from Climate Hazards Group InfraRed Precipitation with Station data (CHIRPS)](Real_world_examples/Rainfall_anomaly_CHIRPS.ipynb)"
   ]
  },
  {
   "cell_type": "markdown",
   "id": "faa1cbbe-a269-456b-bfd3-f56e91b57cea",
   "metadata": {},
   "source": [
    "[Determining seasonal extent of waterbodies with Sentinel-2](Real_world_examples/Water_extent_sentinel_2.ipynb)"
   ]
  },
  {
   "cell_type": "markdown",
   "id": "e5024fb6-945b-4a14-bc6b-e80bb4754b65",
   "metadata": {},
   "source": [
    "[Mapping longer-term changes in water extent with WOfS](Real_world_examples/Water_extent_WOfS.ipynb)"
   ]
  },
  {
   "cell_type": "markdown",
   "id": "44697dd5-070b-46e4-89c0-93882d91108a",
   "metadata": {},
   "source": [
    "**Indicator 6.5.1** Degree of integrated water resources management\n"
   ]
  },
  {
   "cell_type": "markdown",
   "id": "aaf73433-332e-4f75-affe-23686287b338",
   "metadata": {},
   "source": [
    "**Indicator 6.5.2** Proportion of transboundary basin area with an operational arrangement for water cooperation\n"
   ]
  },
  {
   "cell_type": "markdown",
   "id": "31cff10e-5a6b-4d15-b8ac-fe0a3d0bed71",
   "metadata": {},
   "source": [
    "**Indicator 6.6.1** Change in the extent of water-related ecosystems over time\n"
   ]
  },
  {
   "cell_type": "markdown",
   "id": "2d3e208c-1cd7-4a74-9437-828153221d73",
   "metadata": {},
   "source": [
    "[Extracting contour lines](Frequently_used_code/Contour_extraction.ipynb)"
   ]
  },
  {
   "cell_type": "markdown",
   "id": "5ddf4527-ae74-4e25-9895-36eee9d0c0af",
   "metadata": {},
   "source": [
    "[Monitoring change through time using satellite imagery filmstrip plots](Real_world_examples/Change_filmstrips.ipynb)"
   ]
  },
  {
   "cell_type": "markdown",
   "id": "ad46052c-3ffd-439d-a584-7780e3916364",
   "metadata": {},
   "source": [
    "[Water detection with Sentinel-1](Real_world_examples/Radar_water_detection.ipynb)"
   ]
  },
  {
   "cell_type": "markdown",
   "id": "25f9382b-1ae2-4775-b84b-169771ed88ee",
   "metadata": {},
   "source": [
    "[Rainfall anomalies from Climate Hazards Group InfraRed Precipitation with Station data (CHIRPS)](Real_world_examples/Rainfall_anomaly_CHIRPS.ipynb)"
   ]
  },
  {
   "cell_type": "markdown",
   "id": "66ac3585-88d8-482c-90f9-68fb7b85e5c9",
   "metadata": {},
   "source": [
    "[Wetlands Insight Tool](Real_world_examples/Wetlands_insight_tool.ipynb)"
   ]
  },
  {
   "cell_type": "markdown",
   "id": "f99e505c-37db-4cb9-a6e2-94f6b3922b53",
   "metadata": {},
   "source": [
    "[Determining seasonal extent of waterbodies with Sentinel-2](Real_world_examples/Water_extent_sentinel_2.ipynb)"
   ]
  },
  {
   "cell_type": "markdown",
   "id": "3e5ad0f8-b027-4fee-af2d-e67ca94d3822",
   "metadata": {},
   "source": [
    "[Mapping longer-term changes in water extent with WOfS](Real_world_examples/Water_extent_WOfS.ipynb)"
   ]
  },
  {
   "cell_type": "markdown",
   "id": "52d12cf0-9d4d-433b-9377-81213da2b72a",
   "metadata": {},
   "source": [
    "The Okavango Use Case Notebooks:\n",
    "\n",
    "[Monitoring wetlands in the Okavango](Use_cases/Okavango/0_Wetland_inundation_and_vegetation_dynamics.ipynb)\n",
    "\n",
    "[Mapping long-term changes in the annual water extent of the Okavango Delta](Use_cases/Okavango/1_Water_extent_longterm_WOfS.ipynb)\n",
    "\n",
    "[Mapping the seasonal changes to the open water extent of the Okavango delta](Use_cases/Okavango/2_Water_extent_seasonal_MNDWI.ipynb)\n",
    "\n",
    "[Extracting historical climate (rainfall) data over selected basins](Use_cases/Okavango/3_Historical_rainfall.ipynb)\n",
    "\n",
    "[Visualising the correlation between rainfall, surface water extent, and discharge](Use_cases/Okavango/4_Visualising_rainfall_discharge_water_extent.ipynb)\n",
    "\n",
    "[Modelling discharge at Mohembo using uppercatchment rainfall](Use_cases/Okavango/5_Rainfall_discharge_modelling.ipynb)\n",
    "\n",
    "[Forecasting surface water extent in the Okavango delta](Use_cases/Okavango/6_Forecasting_water_extent.ipynb)"
   ]
  },
  {
   "cell_type": "markdown",
   "id": "2d3257ac-a343-4089-a150-598a3195ddf6",
   "metadata": {},
   "source": [
    "The Monitoring Water Extent Use Case Notebooks:\n",
    "\n",
    "[Mapping water extent and rainfall using Sentinel-1 and CHIRPS](Use_cases/Monitoring_water_extent/Monitoring_water_extent_radar.ipynb)\n",
    "\n",
    "[Mapping water extent and rainfall using WOfS and CHIRPS](Use_cases/Monitoring_water_extent/Monitoring_water_extent_WOfS.ipynb)\n"
   ]
  },
  {
   "cell_type": "markdown",
   "id": "530463a3-2c83-42c7-870d-b9728aa4e13e",
   "metadata": {},
   "source": [
    "### Goal 7. Ensure access to affordable, reliable, sustainable and modern energy for all\n"
   ]
  },
  {
   "cell_type": "markdown",
   "id": "df3b6047-14d8-45e1-9efd-482723596a7d",
   "metadata": {},
   "source": [
    "**Indicator 7.1.1** Proportion of population with access to electricity"
   ]
  },
  {
   "cell_type": "markdown",
   "id": "1005e1fb-8833-4a51-ab29-7cc937775109",
   "metadata": {},
   "source": [
    "### Goal 9. Build resilient infrastructure, promote inclusive and sustainable industrialization and foster innovation"
   ]
  },
  {
   "cell_type": "markdown",
   "id": "94314e30-360e-4ca6-a9af-4517da5b5af3",
   "metadata": {},
   "source": [
    "**Indicator 9.1.1** Proportion of the rural population who live within 2 km of an all-season road"
   ]
  },
  {
   "cell_type": "markdown",
   "id": "118614cc-d916-440b-8784-9c04ec379a36",
   "metadata": {},
   "source": [
    "[Machine learning with the Open Data Cube](Real_world_examples/Machine_learning_with_ODC.ipynb)"
   ]
  },
  {
   "cell_type": "markdown",
   "id": "94db3ce2-cf1d-4a03-b58c-b62262a0acd2",
   "metadata": {},
   "source": [
    "[Urban area mapping using Sentinel 1 data](Real_world_examples/Radar_urban_area_mapping.ipynb)"
   ]
  },
  {
   "cell_type": "markdown",
   "id": "55c57221-7c89-429c-b271-6c7a799c246a",
   "metadata": {},
   "source": [
    "[Urbanization Index Comparisons with Global Human Settlement (GHS)](Real_world_examples/Urban_index_comparison.ipynb)\n",
    "\n",
    "[Detecting change in urban extent](Real_world_examples/Urban_change_detection.ipynb)"
   ]
  },
  {
   "cell_type": "markdown",
   "id": "0d039ee0-f365-459f-a193-db53841def27",
   "metadata": {},
   "source": [
    "**Indicator 9.4.1** CO2 emission per unit of value added\n"
   ]
  },
  {
   "cell_type": "markdown",
   "id": "5a618273-3486-4632-8e99-1f113c08ea9c",
   "metadata": {},
   "source": [
    "### Goal 11. Make cities and human settlements inclusive, safe, resilient and sustainable\n"
   ]
  },
  {
   "cell_type": "markdown",
   "id": "4d563c05-951a-4274-a2c0-783458330cd1",
   "metadata": {},
   "source": [
    "**Indicator 11.1.1** Proportion of urban population living in slums, informal settlements or inadequate housing"
   ]
  },
  {
   "cell_type": "markdown",
   "id": "6c3e71a5-9720-423e-822c-583ba816ffe4",
   "metadata": {},
   "source": [
    "[Machine learning with the Open Data Cube](Real_world_examples/Machine_learning_with_ODC.ipynb)"
   ]
  },
  {
   "cell_type": "markdown",
   "id": "76e60967-de9d-400a-8591-1541dc1509c5",
   "metadata": {},
   "source": [
    "[Urban area mapping using Sentinel 1 data](Real_world_examples/Radar_urban_area_mapping.ipynb)"
   ]
  },
  {
   "cell_type": "markdown",
   "id": "15c59a86-bc22-4d3e-b924-4a2b23d0b00a",
   "metadata": {},
   "source": [
    "[Urbanization Index Comparisons with Global Human Settlement (GHS)](Real_world_examples/Urban_index_comparison.ipynb)\n",
    "\n",
    "[Detecting change in urban extent](Real_world_examples/Urban_change_detection.ipynb)"
   ]
  },
  {
   "cell_type": "markdown",
   "id": "6ee50abb-853f-4644-857b-07bfb735219b",
   "metadata": {},
   "source": [
    "**Indicator 11.2.1** Proportion of population that has convenient access to public transport, by sex, age and persons with disabilities"
   ]
  },
  {
   "cell_type": "markdown",
   "id": "a982025f-7599-437e-be47-af70ebf61add",
   "metadata": {},
   "source": [
    "**Indicator 11.3.1** Ratio of land consumption rate to population growth rate"
   ]
  },
  {
   "cell_type": "markdown",
   "id": "c0c18b4f-96e5-4ff6-a24f-7e984998b2ad",
   "metadata": {},
   "source": [
    "[Monitoring change through time using satellite imagery filmstrip plots](Real_world_examples/Change_filmstrips.ipynb)"
   ]
  },
  {
   "cell_type": "markdown",
   "id": "29d50b21-8ea1-4dd5-a047-b56d082fd10d",
   "metadata": {},
   "source": [
    "[Machine learning with the Open Data Cube](Real_world_examples/Machine_learning_with_ODC.ipynb)"
   ]
  },
  {
   "cell_type": "markdown",
   "id": "ad22d3cf-594f-4e3e-b07f-bded6508e8a1",
   "metadata": {},
   "source": [
    "[Urban area mapping using Sentinel 1 data](Real_world_examples/Radar_urban_area_mapping.ipynb)"
   ]
  },
  {
   "cell_type": "markdown",
   "id": "90b61f16-d8d8-4574-85ee-d5dcaab8a3d7",
   "metadata": {},
   "source": [
    "**Indicator 11.6.2** Annual mean levels of fine particulate matter (e.g. PM2.5 and PM10) in cities (population weighted)"
   ]
  },
  {
   "cell_type": "markdown",
   "id": "98db76e5-724b-4b7f-9d44-a7038c062ccd",
   "metadata": {},
   "source": [
    "**Indicator 11.7.1** Average share of the built-up area of cities that is open space for public use for all, by sex, age and persons with disabilities\n"
   ]
  },
  {
   "cell_type": "markdown",
   "id": "98181f15-8ee4-4c96-84e8-276ea1090508",
   "metadata": {},
   "source": [
    "[Monitoring change through time using satellite imagery filmstrip plots](Real_world_examples/Change_filmstrips.ipynb)"
   ]
  },
  {
   "cell_type": "markdown",
   "id": "cc31a345-3d50-4f1a-aa7d-d298f9d999a2",
   "metadata": {},
   "source": [
    "[Machine learning with the Open Data Cube](Real_world_examples/Machine_learning_with_ODC.ipynb)"
   ]
  },
  {
   "cell_type": "markdown",
   "id": "0584d1cf-9aa3-4d91-9621-0968c4af28bd",
   "metadata": {},
   "source": [
    "[Urbanization Index Comparisons with Global Human Settlement (GHS)](Real_world_examples/Urban_index_comparison.ipynb)\n",
    "\n",
    "[Detecting change in urban extent](Real_world_examples/Urban_change_detection.ipynb)"
   ]
  },
  {
   "cell_type": "markdown",
   "id": "a3ca8284-f7ac-4d9b-b1ec-df66d60090e5",
   "metadata": {},
   "source": [
    "[Urban area mapping using Sentinel 1 data](Real_world_examples/Radar_urban_area_mapping.ipynb)"
   ]
  },
  {
   "cell_type": "markdown",
   "id": "a39aaf2f-1f4b-4070-83cd-5da74f323611",
   "metadata": {},
   "source": [
    "### Goal 12. Ensure sustainable consumption and production patterns"
   ]
  },
  {
   "cell_type": "markdown",
   "id": "9ebe8cbf-e913-43c9-86a8-1eb928e3f3be",
   "metadata": {},
   "source": [
    "**Indicator 12.a.1** Installed renewable energy-generating capacity in developing countries (in watts per capita)"
   ]
  },
  {
   "cell_type": "markdown",
   "id": "a6d6efc9-409a-4b82-80e4-ef5ddf8d5140",
   "metadata": {},
   "source": [
    "### Goal 13. Take urgent action to combat climate change and its impacts3\n"
   ]
  },
  {
   "cell_type": "markdown",
   "id": "d4514959-40cc-41dc-8697-c3cad345e3b3",
   "metadata": {},
   "source": [
    "**Indicator 13.1.1** Number of deaths, missing persons and directly affected persons attributed to disasters per 100,000 population"
   ]
  },
  {
   "cell_type": "markdown",
   "id": "3b663701-80c6-4080-8cd1-5b4e05ce0f08",
   "metadata": {},
   "source": [
    "[Burnt Area Mapping](Real_world_examples/Burnt_area_mapping.ipynb)"
   ]
  },
  {
   "cell_type": "markdown",
   "id": "0e90d3e7-fd2d-4551-8701-168cee3c2ee0",
   "metadata": {},
   "source": [
    "[Rainfall anomalies from Climate Hazards Group InfraRed Precipitation with Station data (CHIRPS)](Real_world_examples/Rainfall_anomaly_CHIRPS.ipynb)"
   ]
  },
  {
   "cell_type": "markdown",
   "id": "c3a65d19-9dbc-4ecb-9d1b-0477c795fd38",
   "metadata": {},
   "source": [
    "[Identifying ships with Sentinel-1s](Real_world_examples/Radar_urban_area_mapping.ipynb)"
   ]
  },
  {
   "cell_type": "markdown",
   "id": "59eed5e8-0823-4270-8ed1-cac19d7d7b85",
   "metadata": {},
   "source": [
    "### Goal 14. Conserve and sustainably use the oceans, seas and marine resources for sustainable development"
   ]
  },
  {
   "cell_type": "markdown",
   "id": "73d96691-817d-45de-b4a7-7e4f64aae1c7",
   "metadata": {},
   "source": [
    "**Indicator 14.1.1** (a) Index of coastal eutrophication; and (b) plastic debris density"
   ]
  },
  {
   "cell_type": "markdown",
   "id": "142ddd97-323f-470e-832c-1b56debf7454",
   "metadata": {},
   "source": [
    "[Monitoring chlorophyll-*a* in African waterbodies](Real_world_examples/Chlorophyll_monitoring.ipynb)"
   ]
  },
  {
   "cell_type": "markdown",
   "id": "1df3041d-0ec4-4a69-bca4-edf9b4dc1392",
   "metadata": {},
   "source": [
    "**Indicator 14.3.1** Average marine acidity (pH) measured at agreed suite of representative sampling stations\n"
   ]
  },
  {
   "cell_type": "markdown",
   "id": "00deed97-0335-49bd-9148-f30cf7f10054",
   "metadata": {},
   "source": [
    "**Indicator 14.4.1** Proportion of fish stocks within biologically sustainable levels"
   ]
  },
  {
   "cell_type": "markdown",
   "id": "f0ef74b1-31ce-4843-a529-669b51fbc38b",
   "metadata": {},
   "source": [
    "**Indicator 14.5.1** Coverage of protected areas in relation to marine areas"
   ]
  },
  {
   "cell_type": "markdown",
   "id": "cfa49c0a-0fe4-4f95-8aba-c6db8d622eba",
   "metadata": {},
   "source": [
    "[Monitoring Mangrove Extents](Real_world_examples/Mangrove_analysis.ipynb)"
   ]
  },
  {
   "cell_type": "markdown",
   "id": "d06fba2d-fe62-40c1-8901-2c2c7c4ea9cf",
   "metadata": {},
   "source": [
    "[Identifying ships with Sentinel-1s](Real_world_examples/Radar_urban_area_mapping.ipynb)"
   ]
  },
  {
   "cell_type": "markdown",
   "id": "249261db-08a8-4ce5-80c3-74a58d75a538",
   "metadata": {},
   "source": [
    "### Goal 15. Protect, restore and promote sustainable use of terrestrial ecosystems, sustainably manage forests, combat desertification, and halt and reverse land degradation and halt biodiversity loss\n"
   ]
  },
  {
   "cell_type": "markdown",
   "id": "2f323c97-7cc8-4e8c-8367-d0613726c957",
   "metadata": {},
   "source": [
    "**Indicator 15.1.1** Forest area as a proportion of total land area"
   ]
  },
  {
   "cell_type": "markdown",
   "id": "6d410129-5a20-4456-b27e-3851c5f85909",
   "metadata": {},
   "source": [
    "[Monitoring Mangrove Extents](Real_world_examples/Mangrove_analysis.ipynb)"
   ]
  },
  {
   "cell_type": "markdown",
   "id": "65a0cc62-32fe-4b31-ac8a-d3f5f6816775",
   "metadata": {},
   "source": [
    "**Indicator 15.1.2** Proportion of important sites for terrestrial and freshwater biodiversity that are covered by protected areas, by ecosystem type"
   ]
  },
  {
   "cell_type": "markdown",
   "id": "fd343b1d-f635-4fdb-8686-bc5629f20bf7",
   "metadata": {},
   "source": [
    "[Monitoring Mangrove Extents](Real_world_examples/Mangrove_analysis.ipynb)"
   ]
  },
  {
   "cell_type": "markdown",
   "id": "84656c0b-aabd-4178-9899-8efc8262405f",
   "metadata": {},
   "source": [
    "The Lake Baringo Use Case Notebooks: \n",
    "\n",
    "[Vegetation phenology in the Ruko Conservancy](Use_cases/Lake_baringo_grazing/Vegetation_phenology_1D.ipynb)\n",
    "\n",
    "[Per-pixel vegetation phenology in the Ruko Conservancy](Use_cases/Lake_baringo_grazing/Vegetation_phenology_perpixel.ipynb)"
   ]
  },
  {
   "cell_type": "markdown",
   "id": "7137906e-e75a-4844-b344-f322c1b580da",
   "metadata": {},
   "source": [
    "**Indicator 15.2.1** Progress towards sustainable forest management\n"
   ]
  },
  {
   "cell_type": "markdown",
   "id": "021a29b3-1c52-445d-97e0-04003ffd65dd",
   "metadata": {},
   "source": [
    "**Indicator 15.3.1** Proportion of land that is degraded over total land area"
   ]
  },
  {
   "cell_type": "markdown",
   "id": "eb525a8e-f65a-44a2-8487-440ce5f3a998",
   "metadata": {},
   "source": [
    "[Monitoring change through time using satellite imagery filmstrip plots](Real_world_examples/Change_filmstrips.ipynb)"
   ]
  },
  {
   "cell_type": "markdown",
   "id": "ee777be8-fa71-4012-b5c5-ec1622f692ec",
   "metadata": {},
   "source": [
    "[Monitoring coastal erosion along Africa's coastline](Real_world_examples/Coastal_erosion.ipynb)"
   ]
  },
  {
   "cell_type": "markdown",
   "id": "af6769a7-4f37-4771-810e-b70a11127b08",
   "metadata": {},
   "source": [
    "[Vegetation Change Detection](Real_world_examples/Vegetation_change_detection.ipynb)"
   ]
  },
  {
   "cell_type": "markdown",
   "id": "63587cce-0697-4d38-9e49-db3d0ae400fa",
   "metadata": {},
   "source": [
    "[Monthly vegetation condition anomalies](Real_world_examples/Vegetation_anomalies_monthly.ipynb)"
   ]
  },
  {
   "cell_type": "markdown",
   "id": "204bec31-7ae4-40f0-bbe5-2ed03c637978",
   "metadata": {},
   "source": [
    "[Surface Mining Screening](Use_cases/Surface_mining_screening/Surface_mining_screening.ipynb)"
   ]
  },
  {
   "cell_type": "markdown",
   "id": "57623caa-d4d7-4fab-80cf-c50ef35d6551",
   "metadata": {},
   "source": [
    "**Indicator 15.4.1** Coverage by protected areas of important sites for mountain biodiversity\n"
   ]
  },
  {
   "cell_type": "markdown",
   "id": "e1d7ec1e-6697-42c1-969f-fb9075c6240e",
   "metadata": {},
   "source": [
    "**Indicator 15.4.2** Mountain Green Cover Index"
   ]
  },
  {
   "cell_type": "markdown",
   "id": "4f065277-2ceb-4a3e-bf0f-6afd7942892d",
   "metadata": {},
   "source": [
    "### Goal 17. Strengthen the means of implementation and revitalize the Global Partnership for Sustainable Development"
   ]
  },
  {
   "cell_type": "markdown",
   "id": "bf227d50-1008-4abc-8253-6a549cf148b3",
   "metadata": {},
   "source": [
    "**Indicator 17.6.1** Fixed Internet broadband subscriptions per 100 inhabitants, by speed"
   ]
  },
  {
   "cell_type": "markdown",
   "id": "df76a4f4-3562-4f35-b765-0b28d73de1d4",
   "metadata": {},
   "source": [
    "**Indicator 17.18.1** Statistical capacity indicator for Sustainable Development Goal monitoring"
   ]
  }
 ],
 "metadata": {
  "kernelspec": {
   "display_name": "Python 3 (ipykernel)",
   "language": "python",
   "name": "python3"
  },
  "language_info": {
   "codemirror_mode": {
    "name": "ipython",
    "version": 3
   },
   "file_extension": ".py",
   "mimetype": "text/x-python",
   "name": "python",
   "nbconvert_exporter": "python",
   "pygments_lexer": "ipython3",
   "version": "3.8.10"
  }
 },
 "nbformat": 4,
 "nbformat_minor": 5
}
