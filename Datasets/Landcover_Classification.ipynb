{
 "cells": [
  {
   "cell_type": "markdown",
   "id": "6c983d84-2706-4eca-a485-abb0486d632b",
   "metadata": {},
   "source": [
    "# Landcover Classification\n",
    "\n",
    "* **Products used:** \n",
    "[io_lulc](https://explorer.digitalearth.africa/products/io_lulc), [esa_worldcover](https://explorer.digitalearth.africa/products/esa_worldcover), [cgls_landcover](https://explorer.digitalearth.africa/products/cgls_landcover), [cci_landcover](https://explorer.digitalearth.africa/products/cci_landcover)"
   ]
  },
  {
   "cell_type": "raw",
   "id": "d95378bc-1750-48b6-a186-8c9ca84677d4",
   "metadata": {
    "raw_mimetype": "text/restructuredtext",
    "tags": []
   },
   "source": [
    "**Keywords**: :index:`data used; ESRI Land Cover`, :index:`datasets; io_lulc`, :index:`data used; ESA WorldCover`, :index:`datasets; esa_worldcover` :index:`data used; Copernicus Global Land Service, Land Use/Land Cover at 100 m`, :index:`datasets; cgls_landcover` :index:`data used; ESA Climate Change Initiative Land Cover`, :index:`datasets; cci_landcover` "
   ]
  },
  {
   "cell_type": "markdown",
   "id": "e3a2ea02-23ef-495e-af24-7c692d024ea0",
   "metadata": {
    "tags": []
   },
   "source": [
    "## Background\n",
    "\n",
    "**L**and **U**se/**L**and **C**over (LULC) maps classify land into broad categories such as water, crops, or built area. They are useful for visualising the dominant land uses in a given area. The total area or proportion of different classes can also be calculated for a specified area.\n",
    "\n",
    "Many organisations publish LULC maps. DE Africa provides access to [the Environmental Systems Research Institute (Esri)/Impact Observatory (IO) land use/land cover (LULC)](https://www.arcgis.com/home/item.html?id=d3da5dd386d140cf93fc9ecbf8da5e31), [European Space Agency (ESA) WorldCover](https://esa-worldcover.org/en), [Copernicus Global Land Service (CGLS) Land Use/Land Cover at 100 m](https://land.copernicus.eu/global/content/annual-100m-global-land-cover-maps-available), and [ESA Climate Change Initiative (CCI) land cover](https://www.esa-landcover-cci.org/). The ESRI/IO and ESA products are derived from ESA Sentinel imagery and available at 10 m resolution annually from 2017 and for the year of 2020 respectively over the entire African continent. The CGLS product is available at 100 m resolution, is updated annually and is currently available from 2015 to 2019. The ESA CCI landcover map that goes back to 1992.\n",
    "\n",
    "The accuracy of landcover maps changes with  location and class, so its important to understand the quality of the maps. ESRI publishes information on the accuracy of the 2020 (10 class version) LULC product, which is neatly summarised in the confusion matrix located [here](https://www.arcgis.com/home/item.html?id=d6642f8a4f6d4685a24ae2dc0c73d4ac). The overall accuracy for all classes is 85 %. Keep in mind that the accuracy statistics in the link are for the globe and not specific to Africa.\n",
    "\n",
    "ESA's WorldCover product comes with an in-depth report on the quality of the product, which we will not reproduce here. However, the full product validation report can be found using the following link: https://esa-worldcover.org/en/data-access. The overall accuracy for Africa is 73.6%.\n",
    "\n",
    "The Copernicus Global Land Cover 100m product has a [scientific publication](https://www.sciencedirect.com/science/article/pii/S0034425721004065?via%3Dihub) exploring the accuracy of the annual landcover maps. The overall accuracy for Africa is ~80 %.\n",
    "\n",
    "\n",
    "**Important details:**\n",
    "* Classes and values"
   ]
  },
  {
   "cell_type": "markdown",
   "id": "48af69d5-ade1-469d-a4a8-89116c634885",
   "metadata": {},
   "source": [
    "|io_lulc value|io_lulc class|esa value|esa class|cgls value|cgls class|cci value|cci class|\n",
    "|---|---|---|---|---|---|---|---|\n",
    "|0|no data|0|no data|0|no data|0|no data|\n",
    "|1|water|10|tree cover|20|shrubs|10|cropland, rainfed|\n",
    "|2|trees|20|shrubland|30|herbaceous vegetation|11|cropland, rainfed, herbaceous cover|\n",
    "|3|not used|30|grassland|40|cultivated and managed vegetation or agriculture|12|cropland, rainfed, tree or shrub cover|\n",
    "|4|flooded vegetation|40|cropland|50|urban or built up|20|cropland, irrigated or post-flooding|\n",
    "|5|crops|50|built up|60|bare or sparse vegetation|30|mosaic cropland/natural vegetation|\n",
    "|6|not used|60|bare/sparse vegetation|70|snow and ice|40|mosaic natural vegetation/cropland|\n",
    "|7|built area|70|snow and ice|80|permanent water bodies|50|tree cover, broadleaved, evergreen, closed to open|\n",
    "|8|bare ground|80|permanent water bodies|90|herbaceous wetland|60|tree cover, broadleaved, deciduous, closed to open|\n",
    "|9|snow/ice|90|herbaceous wetland|100|moss and lichen|61|tree cover, broadleaved, deciduous, closed|\n",
    "|10|clouds|95|mangroves|111|closed forest, evergreen needle leaf|62|tree cover, broadleaved, deciduous, open|\n",
    "|11|rangeland|100|moss and lichen|112|closed forest, evergreen broad leaf|70|tree cover, needleleaved, evergreen, closed to open|\n",
    "|||||113|closed forest, deciduous needle leaf|71|tree cover, needleleaved, evergreen, closed|\n",
    "|||||114|closed forest, deciduous broad leaf|72|tree cover, needleleaved, evergreen, open|\n",
    "|||||115|closed forest, mixed|80|tree cover, needleleaved, deciduous, closed to open|\n",
    "|||||116|closed forest, unknown|81|tree cover, needleleaved, deciduous, closed|\n",
    "|||||121|open forest, evergreen needle leaf|82|tree cover, needleleaved, deciduous, open|\n",
    "|||||122|open forest, evergreen broad leaf|90|tree cover, mixed leaf type|\n",
    "|||||123|open forest, deciduous needle leaf|100|mosaic tree and shrub/herbaceous cover|\n",
    "|||||124|open forest, deciduous broad leaf|110|mosaic herbaceous cover/tree and shrub|\n",
    "|||||125|open forest, mixed|120| shrubland|\n",
    "|||||126|open forest, unknown|121|shrubland, evergreen|\n",
    "|||||200|open sea|122|shrubland, deciduous|\n",
    "|||||||130| grassland|\n",
    "|||||||140|lichens and mosses|\n",
    "|||||||150|sparse vegetation|\n",
    "|||||||151|sparse tree|\n",
    "|||||||152|sparse shrub|\n",
    "|||||||153|sparse herbaceous cover|\n",
    "|||||||160|tree cover, flooded, fresh or brakish water|\n",
    "|||||||170|tree cover, flooded, saline water|\n",
    "|||||||180|shrub or herbaceous cover, flooded, fresh/saline/brakish water|\n",
    "|||||||190|urban areas|\n",
    "|||||||200|bare areas|\n",
    "|||||||201|consolidated bare areas|\n",
    "|||||||202|unconsolidated bare areas|\n",
    "|||||||210|water bodies|\n",
    "|||||||220|permanent snow and ice|"
   ]
  },
  {
   "cell_type": "markdown",
   "id": "de374acb-6041-40cd-9469-1af994a3bc56",
   "metadata": {},
   "source": [
    "* Time range and spatial resolution     "
   ]
  },
  {
   "cell_type": "markdown",
   "id": "3e02757b-0cc8-49f4-868e-8b305a9a3e9f",
   "metadata": {},
   "source": [
    "||**io_lulc**|**esa_worldcover**|**cgls_landcover**|**cci_landcover**|\n",
    "|---|---|---|---|---|\n",
    "|**Time-range**|2017-2021|2020|2015-2019|1992-2019|\n",
    "|**Spatial resolution**|10m|10m|100m|300m|"
   ]
  },
  {
   "cell_type": "markdown",
   "id": "d770a690-e411-4dd7-97ac-91611bd07bd6",
   "metadata": {
    "tags": []
   },
   "source": [
    "## Description\n",
    "\n",
    "In this notebook we will load LULC data using `dc.load()` to return a map of land use and land cover classes for a specified area.\n",
    "\n",
    "Topics covered include:\n",
    "1. Inspecting the LULC product available in the datacube\n",
    "2. Using the `dc.load()` function to load in LULC data\n",
    "3. Plotting LULC using the `plot_lulc()` function\n",
    "4. An example analysis of the area of LULC classes in a given area\n",
    "5. Loading and plotting the 'cover fractions' in CGLS\n",
    "\n",
    "***"
   ]
  },
  {
   "cell_type": "markdown",
   "id": "2bd6a534-e175-4cf4-9dca-3a80d34b0fd7",
   "metadata": {},
   "source": [
    "## Getting started\n",
    "\n",
    "To run this analysis, run all the cells in the notebook, starting with the \"Load packages\" cell."
   ]
  },
  {
   "cell_type": "markdown",
   "id": "bd091564-21a8-4e07-bb8b-a87bda69a2ae",
   "metadata": {},
   "source": [
    "### Load packages"
   ]
  },
  {
   "cell_type": "code",
   "execution_count": 1,
   "id": "8141d3b1-a1f2-431c-85a5-99798c4091c3",
   "metadata": {},
   "outputs": [],
   "source": [
    "%matplotlib inline\n",
    "\n",
    "import datacube\n",
    "import numpy as np\n",
    "import matplotlib.pyplot as plt\n",
    "import matplotlib.ticker as mticker\n",
    "from deafrica_tools.plotting import display_map, plot_lulc"
   ]
  },
  {
   "cell_type": "markdown",
   "id": "349bdf45-5adf-4719-8a15-80b1151680d0",
   "metadata": {},
   "source": [
    "### Connect to the datacube"
   ]
  },
  {
   "cell_type": "code",
   "execution_count": 2,
   "id": "3bc08905-6282-4692-870b-c08915ff4175",
   "metadata": {},
   "outputs": [],
   "source": [
    "dc = datacube.Datacube(app=\"Landcover_Classification\")"
   ]
  },
  {
   "cell_type": "markdown",
   "id": "da5c3566-0165-40e7-bf19-5148d7ca9224",
   "metadata": {},
   "source": [
    "### List measurements\n",
    "\n",
    "We can inspect the data available for LULC using datacube's `list_measurements` functionality. The table below lists the products and measurements available for the two LULC datasets indexed within DE Africa's datacube. We can see that the product contains one layer named 'classification'. The datatype is integer, which corresponds to a LULC class."
   ]
  },
  {
   "cell_type": "code",
   "execution_count": 3,
   "id": "e37e4fc7-fa25-4248-a040-84f0b5618e00",
   "metadata": {},
   "outputs": [
    {
     "data": {
      "text/html": [
       "<div>\n",
       "<style scoped>\n",
       "    .dataframe tbody tr th:only-of-type {\n",
       "        vertical-align: middle;\n",
       "    }\n",
       "\n",
       "    .dataframe tbody tr th {\n",
       "        vertical-align: top;\n",
       "    }\n",
       "\n",
       "    .dataframe thead th {\n",
       "        text-align: right;\n",
       "    }\n",
       "</style>\n",
       "<table border=\"1\" class=\"dataframe\">\n",
       "  <thead>\n",
       "    <tr style=\"text-align: right;\">\n",
       "      <th></th>\n",
       "      <th></th>\n",
       "      <th>name</th>\n",
       "      <th>dtype</th>\n",
       "      <th>units</th>\n",
       "      <th>nodata</th>\n",
       "      <th>aliases</th>\n",
       "    </tr>\n",
       "    <tr>\n",
       "      <th>product</th>\n",
       "      <th>measurement</th>\n",
       "      <th></th>\n",
       "      <th></th>\n",
       "      <th></th>\n",
       "      <th></th>\n",
       "      <th></th>\n",
       "    </tr>\n",
       "  </thead>\n",
       "  <tbody>\n",
       "    <tr>\n",
       "      <th>io_lulc</th>\n",
       "      <th>data</th>\n",
       "      <td>data</td>\n",
       "      <td>uint8</td>\n",
       "      <td>1</td>\n",
       "      <td>0.0</td>\n",
       "      <td>[classification]</td>\n",
       "    </tr>\n",
       "    <tr>\n",
       "      <th>esa_worldcover</th>\n",
       "      <th>classification</th>\n",
       "      <td>classification</td>\n",
       "      <td>uint8</td>\n",
       "      <td>1</td>\n",
       "      <td>0.0</td>\n",
       "      <td>NaN</td>\n",
       "    </tr>\n",
       "    <tr>\n",
       "      <th rowspan=\"13\" valign=\"top\">cgls_landcover</th>\n",
       "      <th>classification</th>\n",
       "      <td>classification</td>\n",
       "      <td>uint8</td>\n",
       "      <td>1</td>\n",
       "      <td>255.0</td>\n",
       "      <td>[class]</td>\n",
       "    </tr>\n",
       "    <tr>\n",
       "      <th>forest_type</th>\n",
       "      <td>forest_type</td>\n",
       "      <td>uint8</td>\n",
       "      <td>percent</td>\n",
       "      <td>255.0</td>\n",
       "      <td>[]</td>\n",
       "    </tr>\n",
       "    <tr>\n",
       "      <th>classification_probability</th>\n",
       "      <td>classification_probability</td>\n",
       "      <td>uint8</td>\n",
       "      <td>percent</td>\n",
       "      <td>255.0</td>\n",
       "      <td>[prob]</td>\n",
       "    </tr>\n",
       "    <tr>\n",
       "      <th>bare_cover_fraction</th>\n",
       "      <td>bare_cover_fraction</td>\n",
       "      <td>uint8</td>\n",
       "      <td>percent</td>\n",
       "      <td>255.0</td>\n",
       "      <td>[bare]</td>\n",
       "    </tr>\n",
       "    <tr>\n",
       "      <th>builtup_cover_fraction</th>\n",
       "      <td>builtup_cover_fraction</td>\n",
       "      <td>uint8</td>\n",
       "      <td>percent</td>\n",
       "      <td>255.0</td>\n",
       "      <td>[builtup]</td>\n",
       "    </tr>\n",
       "    <tr>\n",
       "      <th>crops_cover_fraction</th>\n",
       "      <td>crops_cover_fraction</td>\n",
       "      <td>uint8</td>\n",
       "      <td>percent</td>\n",
       "      <td>255.0</td>\n",
       "      <td>[crops]</td>\n",
       "    </tr>\n",
       "    <tr>\n",
       "      <th>grass_cover_fraction</th>\n",
       "      <td>grass_cover_fraction</td>\n",
       "      <td>uint8</td>\n",
       "      <td>percent</td>\n",
       "      <td>255.0</td>\n",
       "      <td>[grass]</td>\n",
       "    </tr>\n",
       "    <tr>\n",
       "      <th>mosslichen_cover_fraction</th>\n",
       "      <td>mosslichen_cover_fraction</td>\n",
       "      <td>uint8</td>\n",
       "      <td>percent</td>\n",
       "      <td>255.0</td>\n",
       "      <td>[mosslichen]</td>\n",
       "    </tr>\n",
       "    <tr>\n",
       "      <th>permanentwater_cover_fraction</th>\n",
       "      <td>permanentwater_cover_fraction</td>\n",
       "      <td>uint8</td>\n",
       "      <td>percent</td>\n",
       "      <td>255.0</td>\n",
       "      <td>[permanentwater]</td>\n",
       "    </tr>\n",
       "    <tr>\n",
       "      <th>seasonalwater_cover_fraction</th>\n",
       "      <td>seasonalwater_cover_fraction</td>\n",
       "      <td>uint8</td>\n",
       "      <td>percent</td>\n",
       "      <td>255.0</td>\n",
       "      <td>[seasonalwater]</td>\n",
       "    </tr>\n",
       "    <tr>\n",
       "      <th>shrub_cover_fraction</th>\n",
       "      <td>shrub_cover_fraction</td>\n",
       "      <td>uint8</td>\n",
       "      <td>percent</td>\n",
       "      <td>255.0</td>\n",
       "      <td>[shrub]</td>\n",
       "    </tr>\n",
       "    <tr>\n",
       "      <th>snow_cover_fraction</th>\n",
       "      <td>snow_cover_fraction</td>\n",
       "      <td>uint8</td>\n",
       "      <td>percent</td>\n",
       "      <td>255.0</td>\n",
       "      <td>[snow]</td>\n",
       "    </tr>\n",
       "    <tr>\n",
       "      <th>tree_cover_fraction</th>\n",
       "      <td>tree_cover_fraction</td>\n",
       "      <td>uint8</td>\n",
       "      <td>percent</td>\n",
       "      <td>255.0</td>\n",
       "      <td>[tree]</td>\n",
       "    </tr>\n",
       "    <tr>\n",
       "      <th>cci_landcover</th>\n",
       "      <th>classification</th>\n",
       "      <td>classification</td>\n",
       "      <td>uint8</td>\n",
       "      <td>1</td>\n",
       "      <td>0.0</td>\n",
       "      <td>[class]</td>\n",
       "    </tr>\n",
       "  </tbody>\n",
       "</table>\n",
       "</div>"
      ],
      "text/plain": [
       "                                                                       name  \\\n",
       "product        measurement                                                    \n",
       "io_lulc        data                                                    data   \n",
       "esa_worldcover classification                                classification   \n",
       "cgls_landcover classification                                classification   \n",
       "               forest_type                                      forest_type   \n",
       "               classification_probability        classification_probability   \n",
       "               bare_cover_fraction                      bare_cover_fraction   \n",
       "               builtup_cover_fraction                builtup_cover_fraction   \n",
       "               crops_cover_fraction                    crops_cover_fraction   \n",
       "               grass_cover_fraction                    grass_cover_fraction   \n",
       "               mosslichen_cover_fraction          mosslichen_cover_fraction   \n",
       "               permanentwater_cover_fraction  permanentwater_cover_fraction   \n",
       "               seasonalwater_cover_fraction    seasonalwater_cover_fraction   \n",
       "               shrub_cover_fraction                    shrub_cover_fraction   \n",
       "               snow_cover_fraction                      snow_cover_fraction   \n",
       "               tree_cover_fraction                      tree_cover_fraction   \n",
       "cci_landcover  classification                                classification   \n",
       "\n",
       "                                              dtype    units  nodata  \\\n",
       "product        measurement                                             \n",
       "io_lulc        data                           uint8        1     0.0   \n",
       "esa_worldcover classification                 uint8        1     0.0   \n",
       "cgls_landcover classification                 uint8        1   255.0   \n",
       "               forest_type                    uint8  percent   255.0   \n",
       "               classification_probability     uint8  percent   255.0   \n",
       "               bare_cover_fraction            uint8  percent   255.0   \n",
       "               builtup_cover_fraction         uint8  percent   255.0   \n",
       "               crops_cover_fraction           uint8  percent   255.0   \n",
       "               grass_cover_fraction           uint8  percent   255.0   \n",
       "               mosslichen_cover_fraction      uint8  percent   255.0   \n",
       "               permanentwater_cover_fraction  uint8  percent   255.0   \n",
       "               seasonalwater_cover_fraction   uint8  percent   255.0   \n",
       "               shrub_cover_fraction           uint8  percent   255.0   \n",
       "               snow_cover_fraction            uint8  percent   255.0   \n",
       "               tree_cover_fraction            uint8  percent   255.0   \n",
       "cci_landcover  classification                 uint8        1     0.0   \n",
       "\n",
       "                                                       aliases  \n",
       "product        measurement                                      \n",
       "io_lulc        data                           [classification]  \n",
       "esa_worldcover classification                              NaN  \n",
       "cgls_landcover classification                          [class]  \n",
       "               forest_type                                  []  \n",
       "               classification_probability               [prob]  \n",
       "               bare_cover_fraction                      [bare]  \n",
       "               builtup_cover_fraction                [builtup]  \n",
       "               crops_cover_fraction                    [crops]  \n",
       "               grass_cover_fraction                    [grass]  \n",
       "               mosslichen_cover_fraction          [mosslichen]  \n",
       "               permanentwater_cover_fraction  [permanentwater]  \n",
       "               seasonalwater_cover_fraction    [seasonalwater]  \n",
       "               shrub_cover_fraction                    [shrub]  \n",
       "               snow_cover_fraction                      [snow]  \n",
       "               tree_cover_fraction                      [tree]  \n",
       "cci_landcover  classification                          [class]  "
      ]
     },
     "execution_count": 3,
     "metadata": {},
     "output_type": "execute_result"
    }
   ],
   "source": [
    "product_name = ['io_lulc', 'esa_worldcover', 'cgls_landcover', 'cci_landcover'] \n",
    "\n",
    "dc_measurements = dc.list_measurements()\n",
    "dc_measurements.loc[product_name].drop('flags_definition', axis=1)"
   ]
  },
  {
   "cell_type": "markdown",
   "id": "d6b73623-effd-415e-858d-1cc4311746f2",
   "metadata": {},
   "source": [
    "### Analysis parameters\n",
    "\n",
    "This section defines the analysis parameters, including:\n",
    "\n",
    "* `lat, lon, buffer`: center lat/lon and analysis window size for the area of interest\n",
    "* `resolution`: the pixel resolution to use for loading the LULC dataset. The native resolution of the product is 10 metres i.e. `(-10,10)`\n",
    "* `measurements`: the 'band' or measurement to load from the product, we can use the native measurement names of one of the aliases\n",
    "\n",
    "The default location is Madagascar"
   ]
  },
  {
   "cell_type": "code",
   "execution_count": 4,
   "id": "f3de7a78-0385-4238-9fdf-846f7ad4d173",
   "metadata": {},
   "outputs": [],
   "source": [
    "lat, lon = -19.4557, 46.4644\n",
    "\n",
    "buffer = 5.0\n",
    "\n",
    "resolution=(-500, 500) #resample so we can view a large area\n",
    "\n",
    "measurements='classification'\n",
    "\n",
    "#convert the lat,lon,buffer into a range\n",
    "lons = (lon - buffer, lon + buffer)\n",
    "lats = (lat - buffer, lat + buffer)"
   ]
  },
  {
   "cell_type": "markdown",
   "id": "533862aa-1a1f-4407-a648-57f189e39c16",
   "metadata": {},
   "source": [
    "## Load the LULC datasets\n",
    "\n",
    "First, we'll load the ESRI Land Cover. For this annual product, the time window listed in the metadata for a year is from 1 Jan to 1 Jan next year, e.g. 2020 data has a start date of 1 Jan 2020 and end date of 1 Jan 2021. We therefore define the query with both year and month to avoid loading data from a neighboring year."
   ]
  },
  {
   "cell_type": "code",
   "execution_count": 5,
   "id": "1b7e300e-1517-4676-965e-6682243ef326",
   "metadata": {},
   "outputs": [
    {
     "name": "stderr",
     "output_type": "stream",
     "text": [
      "/env/lib/python3.8/site-packages/datacube/utils/geometry/_base.py:608: ShapelyDeprecationWarning: Iteration over multi-part geometries is deprecated and will be removed in Shapely 2.0. Use the `geoms` property to access the constituent parts of a multi-part geometry.\n",
      "  return type(geom)([segmentize_shapely(g) for g in geom])\n"
     ]
    },
    {
     "name": "stdout",
     "output_type": "stream",
     "text": [
      "<xarray.Dataset>\n",
      "Dimensions:         (y: 2407, x: 1931)\n",
      "Coordinates:\n",
      "    time            datetime64[ns] 2020-07-02\n",
      "  * y               (y) float64 -1.825e+06 -1.826e+06 ... -3.028e+06 -3.028e+06\n",
      "  * x               (x) float64 4.001e+06 4.001e+06 ... 4.965e+06 4.966e+06\n",
      "    spatial_ref     int32 6933\n",
      "Data variables:\n",
      "    classification  (y, x) uint8 0 0 0 0 0 0 0 0 0 0 0 ... 0 0 0 0 0 0 0 0 0 0 0\n",
      "Attributes:\n",
      "    crs:           epsg:6933\n",
      "    grid_mapping:  spatial_ref\n"
     ]
    }
   ],
   "source": [
    "#create reusable datacube query object\n",
    "query = {\n",
    "    'time': ('2020-07'),\n",
    "    'x': lons,\n",
    "    'y': lats,\n",
    "    'resolution':resolution,\n",
    "    'output_crs': 'epsg:6933',\n",
    "    'measurements':measurements\n",
    "}\n",
    "\n",
    "#load the data\n",
    "ds_io = dc.load(product='io_lulc', **query).squeeze()\n",
    "\n",
    "print(ds_io)"
   ]
  },
  {
   "cell_type": "markdown",
   "id": "c5804dfe-b3ff-4f0e-82ec-f3e2cab1d444",
   "metadata": {},
   "source": [
    "Now we can load the `esa_worldcover`, `cgls_landcover`, and `cci_landcover` products over the same region."
   ]
  },
  {
   "cell_type": "code",
   "execution_count": null,
   "id": "95684b36-e33f-4400-a9c9-2df64ba529ce",
   "metadata": {},
   "outputs": [],
   "source": [
    "ds_esa = dc.load(product='esa_worldcover', time='2020', measurements=measurements, like=ds_io.geobox).squeeze()\n",
    "\n",
    "print(ds_esa)"
   ]
  },
  {
   "cell_type": "code",
   "execution_count": null,
   "id": "e1bdb275-1e86-48d3-9265-32859f85c70c",
   "metadata": {},
   "outputs": [],
   "source": [
    "ds_cgls = dc.load(product='cgls_landcover', time='2019', measurements=measurements, like=ds_io.geobox).squeeze()\n",
    "\n",
    "print(ds_cgls)"
   ]
  },
  {
   "cell_type": "code",
   "execution_count": null,
   "id": "26d70110-db90-4f2b-a377-4ccc189fa68d",
   "metadata": {},
   "outputs": [],
   "source": [
    "ds_cci = dc.load(product='cci_landcover', time='2019', measurements=measurements, like=ds_io.geobox).squeeze()\n",
    "\n",
    "print(ds_cci)"
   ]
  },
  {
   "cell_type": "markdown",
   "id": "9dbfa5cd-e118-4920-8e45-1aa11bb248cb",
   "metadata": {},
   "source": [
    "## Plotting data\n",
    "\n",
    "We can plot LULC for Madagascar and add a legend which corresponds to the classes using the DE Africa wrapper function `plot_lulc`. We can see that trees dominate the eastern areas of the island, while scrub/shrub is more prevalent on the western side. We can also identify a few cities/towns with the red 'built area' class.  You may also notice that the different datasets don't always agree."
   ]
  },
  {
   "cell_type": "code",
   "execution_count": null,
   "id": "7f2276bb-4f3d-4b30-b1ab-66b9b708fdfd",
   "metadata": {},
   "outputs": [],
   "source": [
    "fig, ax = plt.subplots(2, 2, figsize=(22, 16), sharey=True)\n",
    "plot_lulc(ds_io[measurements], product=\"IO\", legend=True, ax=ax[0, 0])\n",
    "plot_lulc(ds_esa[measurements], product=\"ESA\", legend=True, ax=ax[1, 0])\n",
    "plot_lulc(ds_cgls[measurements], product=\"CGLS\", legend=True, ax=ax[0, 1])\n",
    "plot_lulc(ds_cci[measurements], product=\"CCI\", legend=True, ax=ax[1, 1])\n",
    "ax[0, 0].set_title(\"ESRI/IO Land Cover 2020\")\n",
    "ax[1, 0].set_title(\"ESA WorldCover 2020\")\n",
    "ax[0, 1].set_title(\"CGLS landcover 2019\")\n",
    "ax[1, 1].set_title(\"CCI landcover 2019\")\n",
    "plt.tight_layout();"
   ]
  },
  {
   "cell_type": "markdown",
   "id": "c57a410b-9699-4354-9404-559a92d250c9",
   "metadata": {},
   "source": [
    "## Example Analysis: Investigate the area of classes\n",
    "\n",
    "In this example, we will look more closely at the city of Antananarivo, the capital of Madagascar, which can be seen in red in the map above.  We will load both LULC datasets, calculate the area of each class in each product, and compare the area of classes between the products.  As we are looking at a smaller area, we can load the datasets at 100m resolution (its good practice to down-sample higher resolution datasets to a coarser resolution than vice-versa). We use the 'mode' statistic to down sample the 10m datasets to 100m resolution, this means each pixel will be assigned the most-common class within the 100m metre pixel."
   ]
  },
  {
   "cell_type": "markdown",
   "id": "9554b83c-1528-4472-aba3-4c5fa23a256c",
   "metadata": {},
   "source": [
    "First, let's set up some new parameters"
   ]
  },
  {
   "cell_type": "code",
   "execution_count": null,
   "id": "c3af0892-cdbe-47a6-ac34-926ae891e187",
   "metadata": {},
   "outputs": [],
   "source": [
    "lat, lon =  -18.9028, 47.5203\n",
    "buffer = 0.1\n",
    "resolution=(-100,100)\n",
    "measuremnents='classification'\n",
    "\n",
    "#add lat,lon,buffer to get bounding box\n",
    "lon_range = (lon-buffer, lon+buffer)\n",
    "lat_range =  (lat+buffer, lat-buffer)"
   ]
  },
  {
   "cell_type": "markdown",
   "id": "66afe5d8-ea39-4835-a8ba-d32a49c8e1da",
   "metadata": {},
   "source": [
    "### View selected location"
   ]
  },
  {
   "cell_type": "code",
   "execution_count": null,
   "id": "8ba89d0a-f0e0-46cc-b742-c6ae5dd33edf",
   "metadata": {},
   "outputs": [],
   "source": [
    "display_map(x=lon_range, y=lat_range)"
   ]
  },
  {
   "cell_type": "markdown",
   "id": "bd405429-0364-45a5-8f1a-7e8807cea595",
   "metadata": {},
   "source": [
    "### Load LULC data for Antananarivo"
   ]
  },
  {
   "cell_type": "code",
   "execution_count": null,
   "id": "43e2762b-6c2b-4e06-a433-1dc842831504",
   "metadata": {},
   "outputs": [],
   "source": [
    "query = {\n",
    "    \"x\": lon_range,\n",
    "    \"y\": lat_range,\n",
    "    \"resolution\": resolution,\n",
    "    \"output_crs\": \"epsg:6933\",\n",
    "    \"measurements\": measurements,\n",
    "}\n",
    "\n",
    "# load the esri product\n",
    "ds_io = dc.load(product=\"io_lulc\", resampling='mode', \n",
    "                time='2020-07', **query).squeeze()\n",
    "\n",
    "# load the esa product\n",
    "ds_esa = dc.load(product=\"esa_worldcover\", resampling='mode',\n",
    "                 time='2020', measurements=measurements, like=ds_io.geobox).squeeze()\n",
    "\n",
    "# load the cgls product\n",
    "ds_cgls = dc.load(\n",
    "    product=\"cgls_landcover\",\n",
    "    time=\"2019\",\n",
    "    measurements=measurements,\n",
    "    like=ds_io.geobox\n",
    ").squeeze()\n",
    "\n",
    "# load the cci product\n",
    "ds_cci = dc.load(\n",
    "    product=\"cci_landcover\",\n",
    "    time=\"2019\",\n",
    "    measurements=measurements,\n",
    "    resampling='nearest',\n",
    "    like=ds_io.geobox\n",
    ").squeeze()"
   ]
  },
  {
   "cell_type": "markdown",
   "id": "7d0b8a19-9e67-403d-bb34-469527ae309d",
   "metadata": {},
   "source": [
    "### Plot the datasets"
   ]
  },
  {
   "cell_type": "code",
   "execution_count": null,
   "id": "55a65af7-b6b2-4916-83ae-fdf468febba5",
   "metadata": {},
   "outputs": [],
   "source": [
    "fig,ax = plt.subplots(2,2, figsize=(22,16), sharey=True)\n",
    "plot_lulc(ds_io[measurements], product='IO', legend=True, ax=ax[0,0])\n",
    "plot_lulc(ds_esa[measurements], product='ESA', legend=True, ax=ax[1,0])\n",
    "plot_lulc(ds_cgls[measurements], product='CGLS', legend=True, ax=ax[0,1])\n",
    "plot_lulc(ds_cci[measurements], product='CCI', legend=True, ax=ax[1,1])\n",
    "ax[0,0].set_title('ESRI/IO Land Cover')\n",
    "ax[1,0].set_title('ESA WorldCover')\n",
    "ax[0,1].set_title('CGLS Classification 2019')\n",
    "ax[1,1].set_title('CCI Classification 2019')\n",
    "plt.tight_layout();"
   ]
  },
  {
   "cell_type": "markdown",
   "id": "1c9196dd-fbae-4360-8523-ce7c81ac0f02",
   "metadata": {},
   "source": [
    "### Calculate the area of each class\n",
    "\n",
    "We can use the numpy `np.unique` function to return the pixel count for each class."
   ]
  },
  {
   "cell_type": "code",
   "execution_count": null,
   "id": "b7de766a-e415-4fed-8498-40e0e16718e8",
   "metadata": {},
   "outputs": [],
   "source": [
    "ds_io_counts = np.unique(ds_io[measurements].data, return_counts=True)\n",
    "ds_esa_counts = np.unique(ds_esa[measurements].data, return_counts=True)\n",
    "ds_cgls_counts = np.unique(ds_cgls[measurements].data, return_counts=True)\n",
    "ds_cci_counts = np.unique(ds_cci[measurements].data, return_counts=True)\n",
    "\n",
    "\n",
    "print(ds_io_counts)"
   ]
  },
  {
   "cell_type": "markdown",
   "id": "3b88fd4d-218f-4237-b73f-0f631a637641",
   "metadata": {},
   "source": [
    "We can see above that result is an array with classes 1:8 which corresponds to `water` through to `bareground`, and the count of pixels within these classes. Using the resolution we set in our data loading query, we can calculate the total area of each class in square kilometres and plot the results. Does the plot align with the proportions of class we can visualise in the map of Antananarivo?\n",
    "\n",
    "For more information on area calculations see the water extent calculation section of the Digital Earth Africa Sandbox [training course](https://learn.digitalearthafrica.org/courses/course-v1:digitalearthafrica+DEA101+2021/course/)."
   ]
  },
  {
   "cell_type": "code",
   "execution_count": null,
   "id": "62be6375-db3c-4128-9f95-1675b3f14481",
   "metadata": {},
   "outputs": [],
   "source": [
    "pixel_length = query[\"resolution\"][1]  # in metres, refers to resolution we defined above (-10,10) for Antananarivo\n",
    "m_per_km = 1000  # conversion from metres to kilometres\n",
    "area_per_pixel = pixel_length**2 / m_per_km**2\n",
    "\n",
    "#calculate the area of each class\n",
    "ds_io_area = np.array(ds_io_counts[1] * area_per_pixel)\n",
    "ds_esa_area = np.array(ds_esa_counts[1] * area_per_pixel)\n",
    "ds_cgls_area = np.array(ds_cgls_counts[1] * area_per_pixel)\n",
    "ds_cci_area = np.array(ds_cci_counts[1] * area_per_pixel)"
   ]
  },
  {
   "cell_type": "markdown",
   "id": "c10e8292-0d76-4b44-8621-1f48bc9d5b79",
   "metadata": {},
   "source": [
    "### Plot the area of each class"
   ]
  },
  {
   "cell_type": "markdown",
   "id": "67cf5a45-7d95-4c49-aa53-c9f269e3ec06",
   "metadata": {},
   "source": [
    "In the plot below, are the proportions of classes similar between the products? What are the classes that typically show confusion?\n",
    "\n",
    "> NOTE: The list of classes below reflects those that are _actually in the map_ - if you change the location of the default map, you may need to change the list of classes below. If your region has a different set of classes than those listed below you'll recieve a `ValueError: shape mismatch: objects cannot be broadcast to a single shape`"
   ]
  },
  {
   "cell_type": "code",
   "execution_count": null,
   "id": "681fc53c-c82a-455a-86a9-322243d73d0c",
   "metadata": {},
   "outputs": [],
   "source": [
    "# list of classes actually in the map\n",
    "io_classes = ['water', 'trees', 'flooded veg', 'crops',\n",
    "              'built area', 'bare ground', 'rangeland']\n",
    "\n",
    "esa_classes = ['tree cover', 'shrubland', 'grassland', 'cropland', 'built up',\n",
    "               'bare/sparse veg', 'water bodies', 'wetlands']\n",
    "\n",
    "cgls_classes = ['shrubs', 'herbaceous vegetation', 'cultivated and managed vegetation or agriculture', 'urban or built up', 'bare or sparse vegetation', 'permanent water bodies',\n",
    "                'herbaceous wetland', 'closed forest, evergreen broad leaf', 'open forest, evergreen broad leaf', 'open forest, deciduous broad leaf', 'open forest, unknown']\n",
    "\n",
    "cci_classes = ['cropland, rainfed', 'cropland, rainfed, herbaceous cover', 'mosaic natural vegetation/cropland', 'tree cover, broadleaved, evergreen, closed to open',\n",
    "               'tree cover, broadleaved, deciduous, closed to open', 'mosaic tree and shrub/herbaceous cover', 'mosaic herbaceous cover/tree and shrub',\n",
    "               'tree cover, flooded, saline water', 'shrub or herbaceous cover, flooded, fresh/saline/brakish water', 'urban areas', 'water bodies']"
   ]
  },
  {
   "cell_type": "code",
   "execution_count": null,
   "id": "29719e35-b58a-4d6a-b586-27c37cc54ab9",
   "metadata": {},
   "outputs": [],
   "source": [
    "fig,ax=plt.subplots(1,4, figsize=(20,5))\n",
    "\n",
    "#plot esri\n",
    "ax[0].bar(io_classes, ds_io_area)\n",
    "ticks_loc = ax[0].get_xticks()\n",
    "ax[0].xaxis.set_major_locator(mticker.FixedLocator(ticks_loc))\n",
    "ax[0].set_xticklabels(io_classes, rotation=90)\n",
    "ax[0].set_xlabel(\"LULC class\")\n",
    "ax[0].set_ylabel(\"Area (Sq. km)\")\n",
    "\n",
    "#plot worldcover\n",
    "ax[1].bar(esa_classes, ds_esa_area)\n",
    "ticks_1 = ax[1].get_xticks()\n",
    "ax[1].xaxis.set_major_locator(mticker.FixedLocator(ticks_1))\n",
    "ax[1].set_xticklabels(esa_classes, rotation=90)\n",
    "ax[1].set_xlabel(\"LULC class\")\n",
    "ax[1].set_ylabel(\"Area (Sq. km)\")\n",
    "\n",
    "#plot cgls\n",
    "ax[2].bar(cgls_classes, ds_cgls_area)\n",
    "ticks_2 = ax[2].get_xticks()\n",
    "ax[2].xaxis.set_major_locator(mticker.FixedLocator(ticks_2))\n",
    "ax[2].set_xticklabels(cgls_classes, rotation=90)\n",
    "ax[2].set_xlabel(\"LULC class\")\n",
    "ax[2].set_ylabel(\"Area (Sq. km)\")\n",
    "\n",
    "#plot cci\n",
    "ax[3].bar(cci_classes, ds_cci_area)\n",
    "ticks_2 = ax[2].get_xticks()\n",
    "ax[3].xaxis.set_major_locator(mticker.FixedLocator(ticks_2))\n",
    "ax[3].set_xticklabels(cci_classes, rotation=90)\n",
    "ax[3].set_xlabel(\"LULC class\")\n",
    "ax[3].set_ylabel(\"Area (Sq. km)\")\n",
    "\n",
    "ax[0].set_title('ESRI/IO Land Cover')\n",
    "ax[1].set_title('ESA WorldCover')\n",
    "ax[2].set_title('CGLS Landcover')\n",
    "ax[3].set_title('CCI Landcover');"
   ]
  },
  {
   "cell_type": "markdown",
   "id": "43bb42f4-40d9-479c-b245-b42a453561e5",
   "metadata": {},
   "source": [
    "## Explore CGLS cover fraction\n",
    "\n",
    "In the above analysis we can see that the CGLS product classifies a lof of the area in our Antananarivo bounds as 'urban or built up'. Let's see how this relates to the builtup cover fraction measurement in the CGLS product. \n",
    "\n",
    "The cover fraction measurements in CGLS express the percentage of the pixel that is covered by a specific class of land cover, in this case urban or built-up. We can see below that the percentage cover of urban or built-up area corresponds spatially to the landcover classification."
   ]
  },
  {
   "cell_type": "code",
   "execution_count": null,
   "id": "52a3f40b-c2b8-40c7-b8ec-76a867e7b7ed",
   "metadata": {},
   "outputs": [],
   "source": [
    "#load the cgls product\n",
    "ds_cgls_urbancover = dc.load(product='cgls_landcover', time='2019', measurements='builtup_cover_fraction', like=ds_cgls.geobox).squeeze()\n",
    "\n",
    "#plot the dataset\n",
    "fig,ax = plt.subplots(1,2, figsize=(24,9), sharey=True)\n",
    "ds_cgls_urbancover.builtup_cover_fraction.plot(ax=ax[0])\n",
    "plot_lulc(ds_cgls[measurements], product='CGLS', legend=True, ax=ax[1])\n",
    "\n",
    "ax[0].set_title('Built-up cover %')\n",
    "ax[1].set_title('CGLS Landcover')\n",
    "plt.tight_layout();"
   ]
  },
  {
   "cell_type": "markdown",
   "id": "2bb9a661-6d5c-4b62-9d0f-7b7f07038f9e",
   "metadata": {
    "tags": []
   },
   "source": [
    "---\n",
    "\n",
    "## Additional information\n",
    "\n",
    "**License:** The code in this notebook is licensed under the [Apache License, Version 2.0](https://www.apache.org/licenses/LICENSE-2.0). \n",
    "Digital Earth Africa data is licensed under the [Creative Commons by Attribution 4.0](https://creativecommons.org/licenses/by/4.0/) license.\n",
    "\n",
    "**Contact:** If you need assistance, please post a question on the [Open Data Cube Slack channel](http://slack.opendatacube.org/) or on the [GIS Stack Exchange](https://gis.stackexchange.com/questions/ask?tags=open-data-cube) using the `open-data-cube` tag (you can view previously asked questions [here](https://gis.stackexchange.com/questions/tagged/open-data-cube)).\n",
    "If you would like to report an issue with this notebook, you can file one on [Github](https://github.com/digitalearthafrica/deafrica-sandbox-notebooks).\n",
    "\n",
    "**Compatible datacube version:**"
   ]
  },
  {
   "cell_type": "code",
   "execution_count": null,
   "id": "f9095cb1-fe4a-4cb4-88bc-67be83fee519",
   "metadata": {},
   "outputs": [],
   "source": [
    "print(datacube.__version__)"
   ]
  },
  {
   "cell_type": "markdown",
   "id": "e9b1cbc2-1fc2-4ac6-8e9c-0dba1a615e27",
   "metadata": {},
   "source": [
    "**Last tested:**"
   ]
  },
  {
   "cell_type": "code",
   "execution_count": null,
   "id": "67bf3ff4-d076-4bcf-a409-fc24a4f8c957",
   "metadata": {},
   "outputs": [],
   "source": [
    "from datetime import datetime\n",
    "datetime.today().strftime('%Y-%m-%d')"
   ]
  }
 ],
 "metadata": {
  "kernelspec": {
   "display_name": "Python 3 (ipykernel)",
   "language": "python",
   "name": "python3"
  },
  "language_info": {
   "codemirror_mode": {
    "name": "ipython",
    "version": 3
   },
   "file_extension": ".py",
   "mimetype": "text/x-python",
   "name": "python",
   "nbconvert_exporter": "python",
   "pygments_lexer": "ipython3",
   "version": "3.8.10"
  }
 },
 "nbformat": 4,
 "nbformat_minor": 5
}
