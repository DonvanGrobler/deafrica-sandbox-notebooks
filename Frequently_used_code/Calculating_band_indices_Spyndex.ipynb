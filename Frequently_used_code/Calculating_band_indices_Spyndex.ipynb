{
 "cells": [
  {
   "cell_type": "markdown",
   "id": "628d862f-dd85-47f7-af71-a92ef8c625ab",
   "metadata": {},
   "source": [
    "# Calculating band indices with Spyndex packages\n",
    "\n",
    "* **Products used:** \n",
    "[ s2_l2a](https://explorer.digitalearth.africa/s2_l2a) "
   ]
  },
  {
   "cell_type": "raw",
   "id": "6f4ef5d1-2718-4fa1-97f9-f47245215f7b",
   "metadata": {},
   "source": [
    "**Keywords** :index:`data used; sentinel-2`, :index:`band index; NDVI`, :index:`band package; load_ard`, :index:`band index; EVI`:index:`package`; spyndex`"
   ]
  },
  {
   "cell_type": "markdown",
   "id": "012dc546-8604-405b-ba9b-c400e917be15",
   "metadata": {},
   "source": [
    "## Background\n",
    "\n",
    "Remote sensing indices are combinations of spectral bands used to highlight features in the data and the underlying landscape. The [Spyndex python package](https://www.nature.com/articles/s41597-023-02096-0) provides access to spectral indices from the Awesome Spectral Indices catalogue. This is a standardized, ready to use, curated list of spectral indices. The Spyndex package currently includes [232 optical and radar indices](https://github.com/awesome-spectral-indices/awesome-spectral-indices/blob/main/output/spectral-indices-table.csv). \n",
    "\n",
    "One of the benefits of this package is the large number of `optical and radar` indices available for DE Africa sandbox users to easily calculate a wide range of remote sensing indices that can be used to assist in mapping and monitoring features like vegetation and water consistently through time, or as inputs to machine learning or classification algorithms using Digital Earth Africa's archive of analysis-ready satellite data."
   ]
  },
  {
   "cell_type": "markdown",
   "id": "92c474a6-fdf1-4ddf-8c8b-379dc2b8bc3f",
   "metadata": {},
   "source": [
    "## Description\n",
    "This notebook demonstrates how to:\n",
    " \n",
    "* Load Digital Earth Africa's archive of analysis-ready satellite data using `load_ard`\n",
    "* Calculate a range of vegetation indices using the `spyndex` function \n",
    "* Plot the results for all the indices"
   ]
  },
  {
   "cell_type": "markdown",
   "id": "1ea6993f-a064-45a2-bd72-028c6519b54d",
   "metadata": {},
   "source": [
    "## Getting started\n",
    "To run this analysis, run all the cells in the notebook, starting with the \"Load packages\" cell. "
   ]
  },
  {
   "cell_type": "markdown",
   "id": "5d6e360c-85ac-422e-b6b6-4a2dcc6c4687",
   "metadata": {},
   "source": [
    "### Load packages\n",
    "In addition to the existing packages, the spyndex package will be loaded by importing it. If the cell below returns an error, un-comment the installation line `!pip install spyndex` by removing the `#`."
   ]
  },
  {
   "cell_type": "code",
   "execution_count": 1,
   "id": "32b9297c-02c5-4def-a74b-578e965f9d8a",
   "metadata": {},
   "outputs": [],
   "source": [
    "#!pip install spyndex"
   ]
  },
  {
   "cell_type": "code",
   "execution_count": 2,
   "id": "8656219a-9cf2-4807-b7ec-e219dea50e45",
   "metadata": {},
   "outputs": [],
   "source": [
    "# Load the python packages.\n",
    "%matplotlib inline\n",
    "\n",
    "import os\n",
    "\n",
    "os.environ[\"USE_PYGEOS\"] = \"0\"\n",
    "\n",
    "import matplotlib.pyplot as plt\n",
    "import geopandas as gpd\n",
    "\n",
    "#import spyndex packages\n",
    "import spyndex\n",
    "\n",
    "import datacube\n",
    "\n",
    "from deafrica_tools.datahandling import load_ard, mostcommon_crs\n",
    "from deafrica_tools.plotting import rgb\n",
    "from deafrica_tools.bandindices import calculate_indices\n",
    "from datacube.utils.geometry import Geometry\n",
    "from deafrica_tools.areaofinterest import define_area"
   ]
  },
  {
   "cell_type": "markdown",
   "id": "ec0fa7e6-d059-4c67-95a4-4bb0df7a691d",
   "metadata": {},
   "source": [
    "### Connect to the datacube\n",
    "Connect to the datacube database to enable loading Digital Earth Africa data."
   ]
  },
  {
   "cell_type": "code",
   "execution_count": 3,
   "id": "6e722156-a038-4cf0-b9e5-9fe5d332ccae",
   "metadata": {},
   "outputs": [],
   "source": [
    "# Connect to the datacube\n",
    "dc = datacube.Datacube(app=\"spyndex_function\")"
   ]
  },
  {
   "cell_type": "markdown",
   "id": "a0dc3afc-ae76-4795-aa84-c265f0beb12f",
   "metadata": {},
   "source": [
    "### Select location\n",
    "Using the `define_area` function, select area of interest by specifying `lat`,`lon` and `buffer`. If you have the vector or shapefile uncomment the code below **Method 2** and replace the `aoi.shp` with the path of your  shapefile."
   ]
  },
  {
   "cell_type": "code",
   "execution_count": 4,
   "id": "36f34209-88ae-43e8-b4f7-e586240c7937",
   "metadata": {},
   "outputs": [],
   "source": [
    "# Method 1: Specify the latitude, longitude, and buffer\n",
    "aoi = define_area(lat=31.23394, lon=31.05560, buffer=0.02)\n",
    "\n",
    "# Method 2: Use a polygon as a GeoJSON or Esri Shapefile. \n",
    "#aoi = define_area(shapefile_path='aoi.shp')\n",
    "\n",
    "#Create a geopolygon and geodataframe of the area of interest\n",
    "geopolygon = Geometry(aoi[\"features\"][0][\"geometry\"], crs=\"epsg:4326\")\n",
    "geopolygon_gdf = gpd.GeoDataFrame(geometry=[geopolygon], crs=geopolygon.crs)\n",
    "\n",
    "# Get the latitude and longitude range of the geopolygon\n",
    "lat_range = (geopolygon_gdf.total_bounds[1], geopolygon_gdf.total_bounds[3])\n",
    "lon_range = (geopolygon_gdf.total_bounds[0], geopolygon_gdf.total_bounds[2])"
   ]
  },
  {
   "cell_type": "markdown",
   "id": "6f6a0788-ad28-45e6-8607-129199d69539",
   "metadata": {},
   "source": [
    "### Create a query and load satellite data\n",
    "\n",
    "To demonstrate how to compute a remote sensing index, we first need to load time series of satellite data for an area. Sentinel-2 satellite data will be used:\n",
    "\n",
    "It is highly recommended to load data with `load_ard` when calculating indices. This is because `load_ard` performs the necessary data cleaning and scaling for more robust index results. Refer to [Using_load_ard](../Frequently_used_code/Using_load_ard.ipynb) to learn more"
   ]
  },
  {
   "cell_type": "code",
   "execution_count": null,
   "id": "785240d0-c985-48af-8377-2d2a74d39782",
   "metadata": {},
   "outputs": [
    {
     "name": "stdout",
     "output_type": "stream",
     "text": [
      "Using pixel quality parameters for Sentinel 2\n",
      "Finding datasets\n",
      "    s2_l2a\n",
      "Counting good quality pixels for each time step\n",
      "Filtering to 78 out of 158 time steps with at least 99.0% good quality pixels\n",
      "Applying pixel quality/cloud mask\n",
      "Loading 78 time steps\n"
     ]
    }
   ],
   "source": [
    "# time_range.\n",
    "time_range = (\"2019-06\", \"2020-06\")\n",
    "\n",
    "\n",
    "# Create a reusable query object.\n",
    "query = {\n",
    "    \"x\": lon_range, \n",
    "    \"y\": lat_range, \n",
    "    \"time\": time_range, \n",
    "    \"resolution\": (-10, 10)\n",
    "}\n",
    "\n",
    "# Identify the most common projection system in the input query\n",
    "output_crs = mostcommon_crs(dc=dc, product=\"s2_l2a\", query=query)\n",
    "\n",
    "# Load available data from Sentinel-2 and filter to retain only times\n",
    "# with at least 99% good data\n",
    "ds = load_ard(\n",
    "    dc=dc,\n",
    "    products=[\"s2_l2a\"],\n",
    "    min_gooddata=0.99,\n",
    "    measurements=[\"red\", \"green\", \"blue\", \"nir\"],\n",
    "    output_crs=output_crs,\n",
    "    **query\n",
    ")"
   ]
  },
  {
   "cell_type": "markdown",
   "id": "95b627ac-8a94-48e8-95ef-a068547fb6fd",
   "metadata": {
    "tags": []
   },
   "source": [
    "#### Selecting a time slide"
   ]
  },
  {
   "cell_type": "code",
   "execution_count": null,
   "id": "dfa94a99-7a8c-43a1-8604-53159ff00e01",
   "metadata": {},
   "outputs": [],
   "source": [
    "ds = ds.isel(time=[4, 11, 15, 23])"
   ]
  },
  {
   "cell_type": "markdown",
   "id": "2f953b6a-cd12-4bfa-a2f9-40fc80c8cc60",
   "metadata": {},
   "source": [
    "#### Print the xarray dataset"
   ]
  },
  {
   "cell_type": "code",
   "execution_count": null,
   "id": "4719716f-aaa5-4482-8ced-d5d6ebda043c",
   "metadata": {},
   "outputs": [],
   "source": [
    "print(ds)"
   ]
  },
  {
   "cell_type": "markdown",
   "id": "71b8327f-f93c-4b69-b367-cda23eef35fb",
   "metadata": {},
   "source": [
    "### Plot the images in true colour\n",
    "The `rgb` function is used to plot the timesteps in our dataset as true colour RGB images:"
   ]
  },
  {
   "cell_type": "code",
   "execution_count": null,
   "id": "8280884f-ef70-4f8e-9200-3bb71023d987",
   "metadata": {},
   "outputs": [],
   "source": [
    "rgb(ds, col='time')"
   ]
  },
  {
   "cell_type": "markdown",
   "id": "f3cfd8e3-7a36-45df-bb7e-5b2f90573ab7",
   "metadata": {},
   "source": [
    "### Viewing the attributes for an index \n",
    "`spyndex.indices[indexName]` provides the specifications for the index of interest. The cell below prints out the information for the `NDVI`"
   ]
  },
  {
   "cell_type": "code",
   "execution_count": null,
   "id": "0a936532-c957-453d-b0a8-d74f67f1aedd",
   "metadata": {},
   "outputs": [],
   "source": [
    "print(spyndex.indices[\"NDVI\"])"
   ]
  },
  {
   "cell_type": "markdown",
   "id": "d54d717e-a3fc-4e5b-bd8a-636d5eee194a",
   "metadata": {},
   "source": [
    "### Calculate the Normalized Difference Vegetation Index using the `spectral computeIndex` method."
   ]
  },
  {
   "cell_type": "markdown",
   "id": "af3cc9e5-f0b2-42f5-984d-38746e5513b1",
   "metadata": {},
   "source": [
    "The cell below shows how spyndex computes the spectral indices using `spectral computeindex` function.\n",
    "The `spectral computeindex function` takes the \n",
    "*  `index` argument and it specifies the spectral indices that is to be calculated\n",
    "* `params` argument takes the bands from the DE Africa dataset and its corresponding formula name shown in the `print(spyndex.indices[\"NDVI\"])` above. `NDVI` NDVI requires `N` and `R` bands as input which are defined for the DE Africa dataset as `ds.nir` and `ds.red`."
   ]
  },
  {
   "cell_type": "code",
   "execution_count": null,
   "id": "054b8002-095c-491f-b02f-2cd4f84a0e8f",
   "metadata": {},
   "outputs": [],
   "source": [
    "ds[\"NDVI\"] = spyndex.computeIndex(\n",
    "    index=[\"NDVI\"], \n",
    "    params={\n",
    "        \"N\": ds.nir, \n",
    "        \"R\": ds.red\n",
    "    }\n",
    ")"
   ]
  },
  {
   "cell_type": "markdown",
   "id": "61c34ede-d1f6-4124-8d92-3692271ddc12",
   "metadata": {},
   "source": [
    "### Calculate Enhanced Vegetation Index using spyndex\n",
    "\n",
    "Using `spyndex.indices[indexName]` gives the details of the Spectral Index being used.\n",
    "The cell below prints information concerning the `EVI` Spectral Index."
   ]
  },
  {
   "cell_type": "code",
   "execution_count": null,
   "id": "d2f3107f-0eed-43ff-b0ab-f6b18e8cd80c",
   "metadata": {},
   "outputs": [],
   "source": [
    "print(spyndex.indices[\"EVI\"])"
   ]
  },
  {
   "cell_type": "markdown",
   "id": "73aa7ef6-9d38-4f57-aedd-04ca32bb9447",
   "metadata": {},
   "source": [
    "### Calculate the Enhanced Vegetation Index index using the `spectral computeIndex` method."
   ]
  },
  {
   "cell_type": "markdown",
   "id": "6d231221-96d9-4a0e-8ecb-4ad180e9f83d",
   "metadata": {},
   "source": [
    "The `EVI` has constant values for its computation, as we can see in the formula above. \n",
    "\n",
    "\n",
    "The Spyndex package provides default constant values which can also be overwritten. The [constants](https://github.com/awesome-spectral-indices/awesome-spectral-indices/blob/main/output/constants.json) can be accessed using `spyndex.constants` as shown below."
   ]
  },
  {
   "cell_type": "code",
   "execution_count": null,
   "id": "a2873eb3-41ae-497a-9036-5421c13f9d66",
   "metadata": {},
   "outputs": [],
   "source": [
    "ds[\"EVI\"] = spyndex.computeIndex(\n",
    "    index=[\"EVI\"],\n",
    "    params={\n",
    "        \"C1\": spyndex.constants[\"C1\"].value,\n",
    "        \"C2\": spyndex.constants[\"C2\"].value,\n",
    "        \"g\": spyndex.constants[\"g\"].value,\n",
    "        \"L\": spyndex.constants[\"L\"].value,\n",
    "        \"N\": ds.nir,\n",
    "        \"R\": ds.red,\n",
    "        \"B\": ds.blue,\n",
    "    },\n",
    ")"
   ]
  },
  {
   "cell_type": "markdown",
   "id": "d1d2aa5d-f8b3-4f80-a985-686244526224",
   "metadata": {},
   "source": [
    "### Normalisation\n",
    "\n",
    "The `calculate_indices` function from `deafrica_tools` normalises Sentinel-2 values according to a maximum surface reflectance value of `10,000`. We can adapt the Spyndex calculation, as below, to match this normalisation procedure."
   ]
  },
  {
   "cell_type": "code",
   "execution_count": null,
   "id": "106306d6-d5e5-4ef8-8ccb-0023be53ecf7",
   "metadata": {},
   "outputs": [],
   "source": [
    "ds[\"EVI\"] = spyndex.computeIndex(\n",
    "    index=[\"EVI\"],\n",
    "    params={\n",
    "        \"C1\": spyndex.constants[\"C1\"].value,\n",
    "        \"C2\": spyndex.constants[\"C2\"].value,\n",
    "        \"g\": spyndex.constants[\"g\"].value,\n",
    "        \"L\": spyndex.constants[\"L\"].value,\n",
    "        \"N\": ds.nir/10000,\n",
    "        \"R\": ds.red/10000,\n",
    "        \"B\": ds.blue/10000,\n",
    "    },\n",
    ")"
   ]
  },
  {
   "cell_type": "markdown",
   "id": "df6621fd-f655-4d93-a5ec-15e85ff8e75a",
   "metadata": {},
   "source": [
    "#### Green Normalized Difference Vegetation Index (GNDVI)"
   ]
  },
  {
   "cell_type": "markdown",
   "id": "ff0362b3-8da2-44ec-915b-6c60e20c2337",
   "metadata": {},
   "source": [
    "The Green Normalized Difference Vegetation Index [GNDVI](https://pro.arcgis.com/en/pro-app/latest/arcpy/image-analyst/gnvdi.htm#:~:text=The%20Green%20Normalized%20Difference%20Vegetation%20Index%20(GNDVI)%20method%20is%20a,uptake%20into%20the%20plant%20canopy.) is a vegetation index for estimating photosynthetic activity and is a commonly used to determine water and nitrogen uptake into the plant canopy.\n",
    "GNDVI is more sensitive to chlorophyll variation in the crop and has a higher saturation point than NDVI. It can be used in crops with dense canopies or in more advanced stages of development. More information can be found in the Reference in the cell below."
   ]
  },
  {
   "cell_type": "markdown",
   "id": "9398b994-cc2a-4530-b98d-f491f2aa766a",
   "metadata": {},
   "source": [
    "#### Viewing the attributes of the Green Normalized Difference Vegetation Index"
   ]
  },
  {
   "cell_type": "code",
   "execution_count": null,
   "id": "eff625f5-ee2c-47e0-bf9e-490bb112349c",
   "metadata": {},
   "outputs": [],
   "source": [
    "print(spyndex.indices[\"GNDVI\"])"
   ]
  },
  {
   "cell_type": "markdown",
   "id": "32c5f03b-f8c1-47ae-bb2d-e5472d9771fa",
   "metadata": {},
   "source": [
    "#### Calculate Green Normalized Difference Vegetation Index using spyndex"
   ]
  },
  {
   "cell_type": "code",
   "execution_count": null,
   "id": "8286087a-cb92-4530-83c6-fca551074b5f",
   "metadata": {},
   "outputs": [],
   "source": [
    "ds[\"GNDVI\"] = spyndex.computeIndex(\n",
    "    index=[\"GNDVI\"], \n",
    "    params={\n",
    "        \"N\": ds.nir, \n",
    "        \"G\": ds.green\n",
    "    }\n",
    ")"
   ]
  },
  {
   "cell_type": "markdown",
   "id": "92f9e7b7-ed11-46fa-8130-75c946be1f0b",
   "metadata": {},
   "source": [
    "### Kernel Normalized Difference Vegetation Index (kNDVI)\n",
    "\n",
    "The NDVI can only capture linear relationships of the near infrared (NIR) - red difference and a parameter of interest, such as green biomass. In reality, this relationship is nonlinear. [Kernel NDVI (kNDVI) was developed](https://www.science.org/doi/10.1126/sciadv.abc7447) to account for higher-order relations between the spectral channels with a nonlinear generalization of the commonly used Normalized Difference Vegetation Index (NDVI). kNDVI has been shown to produce more accurate estimates of key physical variables such as gross primary productivity."
   ]
  },
  {
   "cell_type": "code",
   "execution_count": null,
   "id": "6e1134c9-95cd-4fd3-9ebd-bd571275ccdd",
   "metadata": {},
   "outputs": [],
   "source": [
    "print(spyndex.indices[\"kNDVI\"])"
   ]
  },
  {
   "cell_type": "code",
   "execution_count": null,
   "id": "2e31903a-9af7-4268-aa6d-a40c37f3c535",
   "metadata": {},
   "outputs": [],
   "source": [
    "# Use the computeKernel() method to compute the required kernel for kernel indices like the kNDVI\n",
    "# Kernel Normalized Difference Vegetation Index\n",
    "parameters = {\n",
    "    \"kNN\": 1.0,\n",
    "    \"kNR\": spyndex.computeKernel(\n",
    "        kernel=\"RBF\",\n",
    "        params={\"a\": ds.nir , \"b\": ds.red, \"sigma\": 0.5 * (ds.nir + ds.red)},\n",
    "    ),\n",
    "}\n",
    "ds[\"kNDVI\"] = spyndex.computeIndex(\"kNDVI\", parameters)"
   ]
  },
  {
   "cell_type": "markdown",
   "id": "9e8c71fd-085f-4bc5-88c9-50d39b993fb7",
   "metadata": {},
   "source": [
    "### Plot each vegetation index\n",
    "\n",
    "The plot below enables comparison of NDVI, EVI, GNDVI, and kNDVI. Can you observe any differences between the indices? For example, there appears to be more saturation (greater frequency of higher/greener values) for NDVI and GNDVI in the July timestep compared with EVI and kNDVI."
   ]
  },
  {
   "cell_type": "code",
   "execution_count": null,
   "id": "5b9f2884-0b0d-42fe-90a3-93a625dfb0ab",
   "metadata": {},
   "outputs": [],
   "source": [
    "#NDVI\n",
    "fig_ndvi = ds.NDVI.clip(-1,1).plot(col=\"time\", cmap=\"RdYlGn\", vmin=-1, vmax=1)\n",
    "fig_ndvi.fig.suptitle(\"NDVI\", y= 1.0)\n",
    "#EVI\n",
    "fig_evi = ds.EVI.clip(-1,1).plot(col=\"time\", cmap=\"RdYlGn\", vmin=-1, vmax=1)\n",
    "fig_evi.fig.suptitle(\"EVI\", y= 1.0);\n",
    "#GNDVI\n",
    "fig_gndvi = ds.GNDVI.clip(-1,1).plot(col=\"time\", cmap=\"RdYlGn\", vmin=-1, vmax=1)\n",
    "fig_gndvi.fig.suptitle(\"GNDVI\", y= 1.0)\n",
    "#kNDVI\n",
    "fig_kndvi = ds.kNDVI.clip(-1,1).plot(col=\"time\", cmap=\"RdYlGn\", vmin=-1, vmax=1)\n",
    "fig_kndvi.fig.suptitle(\"kNDVI\", y= 1.0)\n",
    "plt.show()"
   ]
  },
  {
   "cell_type": "markdown",
   "id": "02cb2d7b-3753-4745-b78a-40c6362244cf",
   "metadata": {},
   "source": [
    "## Conclusion\n",
    "\n",
    "This notebook demonstrates how the `Spyndex package` can be used with DE Africa datasets to compute Spectral Indices. There are [232 optical and radar](https://github.com/awesome-spectral-indices/awesome-spectral-indices/blob/main/output/spectral-indices-table.csv) indices available through the package, try it out and modify the notebook to test different indices and their results."
   ]
  },
  {
   "cell_type": "markdown",
   "id": "1295e0dd-1762-4ddb-b9c9-c23c69d2dccc",
   "metadata": {
    "tags": []
   },
   "source": [
    "---\n",
    "\n",
    "## Additional information\n",
    "\n",
    "**License:** The code in this notebook is licensed under the [Apache License, Version 2.0](https://www.apache.org/licenses/LICENSE-2.0). \n",
    "Digital Earth Africa data is licensed under the [Creative Commons by Attribution 4.0](https://creativecommons.org/licenses/by/4.0/) license.\n",
    "\n",
    "**Contact:** If you need assistance, please post a question on the [Open Data Cube Slack channel](http://slack.opendatacube.org/) or on the [GIS Stack Exchange](https://gis.stackexchange.com/questions/ask?tags=open-data-cube) using the `open-data-cube` tag (you can view previously asked questions [here](https://gis.stackexchange.com/questions/tagged/open-data-cube)).\n",
    "If you would like to report an issue with this notebook, you can file one on [Github](https://github.com/digitalearthafrica/deafrica-sandbox-notebooks).\n",
    "\n",
    "**Compatible datacube version:**"
   ]
  },
  {
   "cell_type": "code",
   "execution_count": null,
   "id": "ea16d6cc-b254-4f7d-96a5-021f35277688",
   "metadata": {},
   "outputs": [],
   "source": [
    "print(datacube.__version__)"
   ]
  },
  {
   "cell_type": "markdown",
   "id": "18b3d4c0-3c26-41a4-ba5a-3eeb7dd69bf0",
   "metadata": {},
   "source": [
    "**Last Tested:**"
   ]
  },
  {
   "cell_type": "code",
   "execution_count": null,
   "id": "c9439ef2-735e-44fd-b7c2-f875a3002bf7",
   "metadata": {},
   "outputs": [],
   "source": [
    "from datetime import date\n",
    "print(date.today())"
   ]
  }
 ],
 "metadata": {
  "kernelspec": {
   "display_name": "Python 3 (ipykernel)",
   "language": "python",
   "name": "python3"
  },
  "language_info": {
   "codemirror_mode": {
    "name": "ipython",
    "version": 3
   },
   "file_extension": ".py",
   "mimetype": "text/x-python",
   "name": "python",
   "nbconvert_exporter": "python",
   "pygments_lexer": "ipython3",
   "version": "3.10.6"
  }
 },
 "nbformat": 4,
 "nbformat_minor": 5
}
