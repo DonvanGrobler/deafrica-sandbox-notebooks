{
 "cells": [
  {
   "cell_type": "markdown",
   "metadata": {},
   "source": [
    "# Generating continental animated time series using `xr_animation`\n",
    "\n",
    "* **Products used:** \n",
    "[ndvi_anomaly](https://explorer.digitalearth.africa/ndvi_anomaly)"
   ]
  },
  {
   "cell_type": "raw",
   "metadata": {
    "raw_mimetype": "text/restructuredtext"
   },
   "source": [
    "**Keywords** :index:`data used; ndvi_anomaly`, :index:`data methods; animation`, :index:`band index; ndvi_mean`"
   ]
  },
  {
   "cell_type": "markdown",
   "metadata": {},
   "source": [
    "## Background\n",
    "Animations can be a powerful method for visualising change in the landscape across time using satellite imagery. Satellite data from Digital Earth Africa is an ideal subject for animations as it has been georeferenced, processed to analysis-ready surface reflectance, and stacked into a spatio-temporal 'data cube', allowing landscape conditions to be extracted and  visualised consistently across time.\n",
    "\n",
    "Using the DE Africa functions in `Scripts/deafrica_plotting`, which are based on `matplotlib.animation` and `xarray`, we can take a time series of Digital Earth Africa satellite imagery and export a visually appealing time series animation that shows how any location in Africa has changed."
   ]
  },
  {
   "cell_type": "markdown",
   "metadata": {},
   "source": [
    "## Description\n",
    "This notebook demonstrates how to:\n",
    "\n",
    "1. Import a time series of NDVI Anomaly as an xarray dataset\n",
    "2. Export the resulting animations as either a GIF\n",
    "\n",
    "***"
   ]
  },
  {
   "cell_type": "markdown",
   "metadata": {},
   "source": [
    "## Getting started\n",
    "To run this analysis, run all the cells in the notebook, starting with the \"Load packages\" cell. "
   ]
  },
  {
   "cell_type": "markdown",
   "metadata": {},
   "source": [
    "### Load packages"
   ]
  },
  {
   "cell_type": "code",
   "execution_count": 1,
   "metadata": {},
   "outputs": [
    {
     "name": "stderr",
     "output_type": "stream",
     "text": [
      "/usr/local/lib/python3.8/dist-packages/geopandas/_compat.py:112: UserWarning: The Shapely GEOS version (3.8.0-CAPI-1.13.1 ) is incompatible with the GEOS version PyGEOS was compiled with (3.10.3-CAPI-1.16.1). Conversions between both will be slow.\n",
      "  warnings.warn(\n"
     ]
    }
   ],
   "source": [
    "%matplotlib inline\n",
    "\n",
    "import datacube\n",
    "import matplotlib.pyplot as plt\n",
    "from IPython.display import Image\n",
    "\n",
    "from deafrica_tools.plotting import xr_animation\n",
    "from deafrica_tools.dask import create_local_dask_cluster"
   ]
  },
  {
   "cell_type": "code",
   "execution_count": 2,
   "metadata": {},
   "outputs": [
    {
     "data": {
      "text/html": [
       "<table style=\"border: 2px solid white;\">\n",
       "<tr>\n",
       "<td style=\"vertical-align: top; border: 0px solid white\">\n",
       "<h3 style=\"text-align: left;\">Client</h3>\n",
       "<ul style=\"text-align: left; list-style: none; margin: 0; padding: 0;\">\n",
       "  <li><b>Scheduler: </b>tcp://127.0.0.1:40727</li>\n",
       "  <li><b>Dashboard: </b><a href='/user/nanaboamah89@gmail.com/proxy/8787/status' target='_blank'>/user/nanaboamah89@gmail.com/proxy/8787/status</a></li>\n",
       "</ul>\n",
       "</td>\n",
       "<td style=\"vertical-align: top; border: 0px solid white\">\n",
       "<h3 style=\"text-align: left;\">Cluster</h3>\n",
       "<ul style=\"text-align: left; list-style:none; margin: 0; padding: 0;\">\n",
       "  <li><b>Workers: </b>1</li>\n",
       "  <li><b>Cores: </b>4</li>\n",
       "  <li><b>Memory: </b>28.14 GB</li>\n",
       "</ul>\n",
       "</td>\n",
       "</tr>\n",
       "</table>"
      ],
      "text/plain": [
       "<Client: 'tcp://127.0.0.1:40727' processes=1 threads=4, memory=28.14 GB>"
      ]
     },
     "metadata": {},
     "output_type": "display_data"
    }
   ],
   "source": [
    "create_local_dask_cluster()"
   ]
  },
  {
   "cell_type": "markdown",
   "metadata": {},
   "source": [
    "### Connect to the datacube"
   ]
  },
  {
   "cell_type": "code",
   "execution_count": 3,
   "metadata": {},
   "outputs": [],
   "source": [
    "dc = datacube.Datacube(app='export_animated_timeseries')"
   ]
  },
  {
   "cell_type": "markdown",
   "metadata": {},
   "source": [
    "## Load satellite data from datacube\n",
    "We can use the dc load function to load data (i.e. ndvi_anomaly), and return an `xarray.Dataset`. \n",
    "This will allow us to create a visually appealing time series animation of observations for the selected time."
   ]
  },
  {
   "cell_type": "code",
   "execution_count": null,
   "metadata": {},
   "outputs": [],
   "source": [
    "# Load available data\n",
    "ds = dc.load(product='ndvi_anomaly',\n",
    "              output_crs='epsg:6933',\n",
    "              time='2019',\n",
    "              resolution=(-2500, 2500),\n",
    "              dask_chunks=dict(x=2000,y=2000)\n",
    "              )\n",
    "\n",
    "ds = ds.compute()"
   ]
  },
  {
   "cell_type": "markdown",
   "metadata": {},
   "source": [
    "## Animations"
   ]
  },
  {
   "cell_type": "code",
   "execution_count": null,
   "metadata": {},
   "outputs": [],
   "source": [
    "# Produce time series animation\n",
    "xr_animation(ds=ds, \n",
    "             output_path='results/ndvi_mean.gif',\n",
    "             bands=['ndvi_mean'],  \n",
    "             show_date='%B-%Y',\n",
    "             interval=500,\n",
    "             imshow_kwargs={'cmap': 'RdYlGn', 'vmin': 0.0, 'vmax': 0.9},\n",
    "             colorbar_kwargs={'colors': 'black'},\n",
    "             width_pixels=600,\n",
    "             annotation_kwargs= {'color':'black', 'animated': True}\n",
    "    ) \n",
    "\n",
    "# Plot animated gif\n",
    "plt.close()\n",
    "Image(filename='results/ndvi_mean.gif')"
   ]
  },
  {
   "cell_type": "markdown",
   "metadata": {},
   "source": [
    "***\n",
    "\n",
    "## Additional information\n",
    "\n",
    "**License:** The code in this notebook is licensed under the [Apache License, Version 2.0](https://www.apache.org/licenses/LICENSE-2.0). \n",
    "Digital Earth Africa data is licensed under the [Creative Commons by Attribution 4.0](https://creativecommons.org/licenses/by/4.0/) license.\n",
    "\n",
    "**Contact:** If you need assistance, please post a question on the [Open Data Cube Slack channel](http://slack.opendatacube.org/) or on the [GIS Stack Exchange](https://gis.stackexchange.com/questions/ask?tags=open-data-cube) using the `open-data-cube` tag (you can view previously asked questions [here](https://gis.stackexchange.com/questions/tagged/open-data-cube)).\n",
    "If you would like to report an issue with this notebook, you can file one on [Github](https://github.com/digitalearthafrica/deafrica-sandbox-notebooks).\n",
    "\n",
    "**Compatible datacube version:** "
   ]
  },
  {
   "cell_type": "code",
   "execution_count": null,
   "metadata": {},
   "outputs": [],
   "source": [
    "print(datacube.__version__)"
   ]
  },
  {
   "cell_type": "markdown",
   "metadata": {},
   "source": [
    "**Last Tested:**"
   ]
  },
  {
   "cell_type": "code",
   "execution_count": null,
   "metadata": {},
   "outputs": [],
   "source": [
    "from datetime import datetime\n",
    "datetime.today().strftime('%Y-%m-%d')"
   ]
  }
 ],
 "metadata": {
  "kernelspec": {
   "display_name": "Python 3 (ipykernel)",
   "language": "python",
   "name": "python3"
  },
  "language_info": {
   "codemirror_mode": {
    "name": "ipython",
    "version": 3
   },
   "file_extension": ".py",
   "mimetype": "text/x-python",
   "name": "python",
   "nbconvert_exporter": "python",
   "pygments_lexer": "ipython3",
   "version": "3.8.10"
  },
  "widgets": {
   "application/vnd.jupyter.widget-state+json": {
    "state": {
     "051a9e4d25e64db0a8cb0c36c46712e1": {
      "model_module": "@jupyter-widgets/base",
      "model_module_version": "1.2.0",
      "model_name": "LayoutModel",
      "state": {}
     },
     "062f2796ffc04640870b2b27227f221d": {
      "model_module": "@jupyter-widgets/base",
      "model_module_version": "1.2.0",
      "model_name": "LayoutModel",
      "state": {}
     },
     "092558a562494413922a2aac4d21613f": {
      "model_module": "@jupyter-widgets/controls",
      "model_module_version": "1.5.0",
      "model_name": "ProgressStyleModel",
      "state": {
       "description_width": "initial"
      }
     },
     "0a432da82d6b4037b74eaccbe571082e": {
      "model_module": "@jupyter-widgets/controls",
      "model_module_version": "1.5.0",
      "model_name": "HTMLModel",
      "state": {
       "layout": "IPY_MODEL_73ff0de751614999917ed7860f78bd80",
       "style": "IPY_MODEL_d184b04851d24e31bc5b6cc692b2fd79",
       "value": " 13/13 (0.0 seconds remaining at  8.62 frames/s)"
      }
     },
     "0af01e9fa23b484e906e99f4be6c926f": {
      "model_module": "@jupyter-widgets/controls",
      "model_module_version": "1.5.0",
      "model_name": "FloatProgressModel",
      "state": {
       "bar_style": "success",
       "description": "100%",
       "layout": "IPY_MODEL_d5aa3d6ee4674d84afac1bb1c58fade4",
       "max": 13,
       "style": "IPY_MODEL_14340f3d89ba4962ba30ea0de95c9e77",
       "value": 13
      }
     },
     "0be163515c544d74bd4159320fb04723": {
      "model_module": "@jupyter-widgets/controls",
      "model_module_version": "1.5.0",
      "model_name": "HBoxModel",
      "state": {
       "children": [
        "IPY_MODEL_d06b9c766f984dde974ec9e954d61f92",
        "IPY_MODEL_5c3b912d5c684d7d96f5a14702fffc60"
       ],
       "layout": "IPY_MODEL_fbd2d0627e8346be988758b526fda9fa"
      }
     },
     "0c9a41c9f6d044efbc82d005fece9050": {
      "model_module": "@jupyter-widgets/controls",
      "model_module_version": "1.5.0",
      "model_name": "ProgressStyleModel",
      "state": {
       "description_width": "initial"
      }
     },
     "103447c4bf674bf5bb6fdf89da7c3bab": {
      "model_module": "@jupyter-widgets/base",
      "model_module_version": "1.2.0",
      "model_name": "LayoutModel",
      "state": {}
     },
     "14340f3d89ba4962ba30ea0de95c9e77": {
      "model_module": "@jupyter-widgets/controls",
      "model_module_version": "1.5.0",
      "model_name": "ProgressStyleModel",
      "state": {
       "description_width": "initial"
      }
     },
     "17333d71ecb749ff983fdd6caa76fcfa": {
      "model_module": "@jupyter-widgets/base",
      "model_module_version": "1.2.0",
      "model_name": "LayoutModel",
      "state": {}
     },
     "1858c809732a42e39725a1231460f98a": {
      "model_module": "@jupyter-widgets/controls",
      "model_module_version": "1.5.0",
      "model_name": "HTMLModel",
      "state": {
       "layout": "IPY_MODEL_103447c4bf674bf5bb6fdf89da7c3bab",
       "style": "IPY_MODEL_2604d202c3354f538ab8426d0a59c7e2",
       "value": " 13/13 (0.0 seconds remaining at  4.12 frames/s)"
      }
     },
     "1aa68dcf8f844f5aa637b4c5619fc594": {
      "model_module": "@jupyter-widgets/controls",
      "model_module_version": "1.5.0",
      "model_name": "ProgressStyleModel",
      "state": {
       "description_width": "initial"
      }
     },
     "1b0cdb6e3fad4114b46e831f12c80dad": {
      "model_module": "@jupyter-widgets/controls",
      "model_module_version": "1.5.0",
      "model_name": "FloatProgressModel",
      "state": {
       "layout": "IPY_MODEL_ef47e4cddc9746bba3a2d20cb69ed035",
       "max": 13,
       "style": "IPY_MODEL_0c9a41c9f6d044efbc82d005fece9050",
       "value": 13
      }
     },
     "1f03fdeca5a946438b34a48e794ae0bc": {
      "model_module": "@jupyter-widgets/base",
      "model_module_version": "1.2.0",
      "model_name": "LayoutModel",
      "state": {}
     },
     "2173ff9a2987459d92f4fc8658fabe44": {
      "model_module": "@jupyter-widgets/controls",
      "model_module_version": "1.5.0",
      "model_name": "HBoxModel",
      "state": {
       "children": [
        "IPY_MODEL_c278211d619a4434a300777b5e5650f5",
        "IPY_MODEL_b632d0e7f388480e99e48dfe3ac7b466"
       ],
       "layout": "IPY_MODEL_17333d71ecb749ff983fdd6caa76fcfa"
      }
     },
     "25375774a41b4e5990faee0271272c8a": {
      "model_module": "@jupyter-widgets/controls",
      "model_module_version": "1.5.0",
      "model_name": "HBoxModel",
      "state": {
       "children": [
        "IPY_MODEL_893cebe3ea7c4f51b316b083119b1581",
        "IPY_MODEL_71e2d1824a49466ebf8cabc552483a4e"
       ],
       "layout": "IPY_MODEL_66b20ef7f7394b26843c694bf64c74a0"
      }
     },
     "2604d202c3354f538ab8426d0a59c7e2": {
      "model_module": "@jupyter-widgets/controls",
      "model_module_version": "1.5.0",
      "model_name": "DescriptionStyleModel",
      "state": {
       "description_width": ""
      }
     },
     "26954ae45caf48fbb5aa2f94b112b608": {
      "model_module": "@jupyter-widgets/base",
      "model_module_version": "1.2.0",
      "model_name": "LayoutModel",
      "state": {}
     },
     "2d7e974ad4c5453eaeeb63822673743f": {
      "model_module": "@jupyter-widgets/controls",
      "model_module_version": "1.5.0",
      "model_name": "DescriptionStyleModel",
      "state": {
       "description_width": ""
      }
     },
     "2f278095108a45a991dfd7462df30b64": {
      "model_module": "@jupyter-widgets/base",
      "model_module_version": "1.2.0",
      "model_name": "LayoutModel",
      "state": {}
     },
     "2f704ef9c90344ad98f2c4ae87266f57": {
      "model_module": "@jupyter-widgets/controls",
      "model_module_version": "1.5.0",
      "model_name": "ProgressStyleModel",
      "state": {
       "description_width": "initial"
      }
     },
     "36666c57947947d79a9fd24352e70a53": {
      "model_module": "@jupyter-widgets/base",
      "model_module_version": "1.2.0",
      "model_name": "LayoutModel",
      "state": {}
     },
     "38e6554660e14120928b91d6230c0d60": {
      "model_module": "@jupyter-widgets/controls",
      "model_module_version": "1.5.0",
      "model_name": "HTMLModel",
      "state": {
       "layout": "IPY_MODEL_8cef891d34e149f5990a1b3386a28ea6",
       "style": "IPY_MODEL_2d7e974ad4c5453eaeeb63822673743f",
       "value": " 13/13 (0.0 seconds remaining at  2.36 frames/s)"
      }
     },
     "422f7ea51b234dfcbbe0cbe9ca6d7386": {
      "model_module": "@jupyter-widgets/base",
      "model_module_version": "1.2.0",
      "model_name": "LayoutModel",
      "state": {}
     },
     "42f12b2e72ed4b30b64f31c5a310aa4d": {
      "model_module": "@jupyter-widgets/base",
      "model_module_version": "1.2.0",
      "model_name": "LayoutModel",
      "state": {}
     },
     "46ad6086dbc844029617260f3de22e9f": {
      "model_module": "@jupyter-widgets/controls",
      "model_module_version": "1.5.0",
      "model_name": "DescriptionStyleModel",
      "state": {
       "description_width": ""
      }
     },
     "4719a18887e040928c6a63dfbf017ca2": {
      "model_module": "jupyter-leaflet",
      "model_module_version": "^0.11.1",
      "model_name": "LeafletAttributionControlModel",
      "state": {
       "_model_module_version": "^0.11.1",
       "_view_count": null,
       "_view_module_version": "^0.11.1",
       "options": [
        "position",
        "prefix"
       ],
       "position": "bottomright",
       "prefix": "Leaflet"
      }
     },
     "4850dc5d8ac34357a154c38bb4a8ff09": {
      "model_module": "@jupyter-widgets/controls",
      "model_module_version": "1.5.0",
      "model_name": "ProgressStyleModel",
      "state": {
       "description_width": "initial"
      }
     },
     "50595d5f0a15455b891144b1a3c86473": {
      "model_module": "@jupyter-widgets/controls",
      "model_module_version": "1.5.0",
      "model_name": "FloatProgressModel",
      "state": {
       "bar_style": "success",
       "description": "100%",
       "layout": "IPY_MODEL_26954ae45caf48fbb5aa2f94b112b608",
       "max": 13,
       "style": "IPY_MODEL_092558a562494413922a2aac4d21613f",
       "value": 13
      }
     },
     "575fdaf6b2d84e3bb37240836ba4f3e5": {
      "model_module": "@jupyter-widgets/base",
      "model_module_version": "1.2.0",
      "model_name": "LayoutModel",
      "state": {}
     },
     "5c3b912d5c684d7d96f5a14702fffc60": {
      "model_module": "@jupyter-widgets/controls",
      "model_module_version": "1.5.0",
      "model_name": "HTMLModel",
      "state": {
       "layout": "IPY_MODEL_051a9e4d25e64db0a8cb0c36c46712e1",
       "style": "IPY_MODEL_6801e7bb9ce442e096d56c91c39a0c1a",
       "value": " 13/13 (0.0 seconds remaining at  6.13 frames/s)"
      }
     },
     "5d94c1cc6cc44b10aa08537c886c4887": {
      "model_module": "@jupyter-widgets/base",
      "model_module_version": "1.2.0",
      "model_name": "LayoutModel",
      "state": {}
     },
     "62634d665f2344028c14e772aa87a4e1": {
      "model_module": "@jupyter-widgets/controls",
      "model_module_version": "1.5.0",
      "model_name": "HTMLModel",
      "state": {
       "layout": "IPY_MODEL_af84fa9a52a84125996cfaf661b8af85",
       "style": "IPY_MODEL_7ea5d80c3ca64d1f917d114f64826492",
       "value": " 14/? (0.0 seconds remaining at  4.93 frames/s)"
      }
     },
     "63113b8b598446c7b7241a286b16c123": {
      "model_module": "@jupyter-widgets/controls",
      "model_module_version": "1.5.0",
      "model_name": "FloatProgressModel",
      "state": {
       "bar_style": "success",
       "description": "100%",
       "layout": "IPY_MODEL_422f7ea51b234dfcbbe0cbe9ca6d7386",
       "max": 13,
       "style": "IPY_MODEL_870f7ef972534decb9597852578a196c",
       "value": 13
      }
     },
     "65b77d7ec6ca412da6a7ba4385c70d8a": {
      "model_module": "@jupyter-widgets/controls",
      "model_module_version": "1.5.0",
      "model_name": "HTMLModel",
      "state": {
       "layout": "IPY_MODEL_36666c57947947d79a9fd24352e70a53",
       "style": "IPY_MODEL_6ebc6c52c3e249d383e2191903e11b20",
       "value": " 13/13 (0.0 seconds remaining at  3.09 frames/s)"
      }
     },
     "66b20ef7f7394b26843c694bf64c74a0": {
      "model_module": "@jupyter-widgets/base",
      "model_module_version": "1.2.0",
      "model_name": "LayoutModel",
      "state": {}
     },
     "6801e7bb9ce442e096d56c91c39a0c1a": {
      "model_module": "@jupyter-widgets/controls",
      "model_module_version": "1.5.0",
      "model_name": "DescriptionStyleModel",
      "state": {
       "description_width": ""
      }
     },
     "6ebc6c52c3e249d383e2191903e11b20": {
      "model_module": "@jupyter-widgets/controls",
      "model_module_version": "1.5.0",
      "model_name": "DescriptionStyleModel",
      "state": {
       "description_width": ""
      }
     },
     "6f7dc7b2b73c4ffeb22a50704c70b409": {
      "model_module": "@jupyter-widgets/base",
      "model_module_version": "1.2.0",
      "model_name": "LayoutModel",
      "state": {}
     },
     "71e2d1824a49466ebf8cabc552483a4e": {
      "model_module": "@jupyter-widgets/controls",
      "model_module_version": "1.5.0",
      "model_name": "HTMLModel",
      "state": {
       "layout": "IPY_MODEL_75e29e127044457bb11005280ff7ab37",
       "style": "IPY_MODEL_b3b821c752054dd193e21a8b911d687e",
       "value": " 13/13 (0.0 seconds remaining at 31.88 frames/s)"
      }
     },
     "73ff0de751614999917ed7860f78bd80": {
      "model_module": "@jupyter-widgets/base",
      "model_module_version": "1.2.0",
      "model_name": "LayoutModel",
      "state": {}
     },
     "75e29e127044457bb11005280ff7ab37": {
      "model_module": "@jupyter-widgets/base",
      "model_module_version": "1.2.0",
      "model_name": "LayoutModel",
      "state": {}
     },
     "77b371ae6f604e37a876c8fc1ec135c5": {
      "model_module": "@jupyter-widgets/controls",
      "model_module_version": "1.5.0",
      "model_name": "HTMLModel",
      "state": {
       "layout": "IPY_MODEL_9929074fd308415a97514492ac77b71c",
       "style": "IPY_MODEL_f082ffec56a249da8b0f6cdd1f7abb1d",
       "value": " 13/13 (0.0 seconds remaining at 19.25 frames/s)"
      }
     },
     "7cd1559ab00c4805a34e82e16efcbbee": {
      "model_module": "@jupyter-widgets/base",
      "model_module_version": "1.2.0",
      "model_name": "LayoutModel",
      "state": {}
     },
     "7ea5d80c3ca64d1f917d114f64826492": {
      "model_module": "@jupyter-widgets/controls",
      "model_module_version": "1.5.0",
      "model_name": "DescriptionStyleModel",
      "state": {
       "description_width": ""
      }
     },
     "7ea8d8378ce04f83b910090f0c07123c": {
      "model_module": "@jupyter-widgets/base",
      "model_module_version": "1.2.0",
      "model_name": "LayoutModel",
      "state": {}
     },
     "7f407955aab144029790014f5aa7a5ed": {
      "model_module": "@jupyter-widgets/base",
      "model_module_version": "1.2.0",
      "model_name": "LayoutModel",
      "state": {}
     },
     "81d843fd8bba47d08306bbba80aabf43": {
      "model_module": "@jupyter-widgets/controls",
      "model_module_version": "1.5.0",
      "model_name": "HBoxModel",
      "state": {
       "children": [
        "IPY_MODEL_ce4c1d0c17054efeb86ddd79f712aee7",
        "IPY_MODEL_38e6554660e14120928b91d6230c0d60"
       ],
       "layout": "IPY_MODEL_eccb0b4d014c42a7a02328ef05a77892"
      }
     },
     "83013183e37542eeac8623eb3c756778": {
      "model_module": "@jupyter-widgets/base",
      "model_module_version": "1.2.0",
      "model_name": "LayoutModel",
      "state": {}
     },
     "870f7ef972534decb9597852578a196c": {
      "model_module": "@jupyter-widgets/controls",
      "model_module_version": "1.5.0",
      "model_name": "ProgressStyleModel",
      "state": {
       "description_width": "initial"
      }
     },
     "88286416475548b89494cf54b9869858": {
      "model_module": "@jupyter-widgets/controls",
      "model_module_version": "1.5.0",
      "model_name": "HTMLModel",
      "state": {
       "layout": "IPY_MODEL_42f12b2e72ed4b30b64f31c5a310aa4d",
       "style": "IPY_MODEL_eb134de1f91c4f63afb428cda2e4a250",
       "value": " 13/13 (0.0 seconds remaining at  2.67 frames/s)"
      }
     },
     "893cebe3ea7c4f51b316b083119b1581": {
      "model_module": "@jupyter-widgets/controls",
      "model_module_version": "1.5.0",
      "model_name": "FloatProgressModel",
      "state": {
       "description": "100%",
       "layout": "IPY_MODEL_83013183e37542eeac8623eb3c756778",
       "max": 13,
       "style": "IPY_MODEL_1aa68dcf8f844f5aa637b4c5619fc594",
       "value": 13
      }
     },
     "8b05b8c2d7b142efa33a380df55c6630": {
      "model_module": "@jupyter-widgets/controls",
      "model_module_version": "1.5.0",
      "model_name": "HBoxModel",
      "state": {
       "children": [
        "IPY_MODEL_9cc972fa7a7445a4b14df1921c77a217",
        "IPY_MODEL_88286416475548b89494cf54b9869858"
       ],
       "layout": "IPY_MODEL_a5bef23481f847cd8723116c8a9ee1ea"
      }
     },
     "8cef891d34e149f5990a1b3386a28ea6": {
      "model_module": "@jupyter-widgets/base",
      "model_module_version": "1.2.0",
      "model_name": "LayoutModel",
      "state": {}
     },
     "91e9c8c62aab4d588666f4c004d64fd0": {
      "model_module": "@jupyter-widgets/controls",
      "model_module_version": "1.5.0",
      "model_name": "HBoxModel",
      "state": {
       "children": [
        "IPY_MODEL_63113b8b598446c7b7241a286b16c123",
        "IPY_MODEL_1858c809732a42e39725a1231460f98a"
       ],
       "layout": "IPY_MODEL_5d94c1cc6cc44b10aa08537c886c4887"
      }
     },
     "9929074fd308415a97514492ac77b71c": {
      "model_module": "@jupyter-widgets/base",
      "model_module_version": "1.2.0",
      "model_name": "LayoutModel",
      "state": {}
     },
     "99db185983b2465aa1e0de203fdf1d41": {
      "model_module": "@jupyter-widgets/base",
      "model_module_version": "1.2.0",
      "model_name": "LayoutModel",
      "state": {}
     },
     "9be0ed36f7d943f28b390e9413408c18": {
      "model_module": "@jupyter-widgets/base",
      "model_module_version": "1.2.0",
      "model_name": "LayoutModel",
      "state": {}
     },
     "9cc972fa7a7445a4b14df1921c77a217": {
      "model_module": "@jupyter-widgets/controls",
      "model_module_version": "1.5.0",
      "model_name": "FloatProgressModel",
      "state": {
       "bar_style": "success",
       "description": "100%",
       "layout": "IPY_MODEL_062f2796ffc04640870b2b27227f221d",
       "max": 13,
       "style": "IPY_MODEL_4850dc5d8ac34357a154c38bb4a8ff09",
       "value": 13
      }
     },
     "9d6e7a4aa9a54a8380fce1f4345be5d2": {
      "model_module": "jupyter-leaflet",
      "model_module_version": "^0.11.1",
      "model_name": "LeafletZoomControlModel",
      "state": {
       "_model_module_version": "^0.11.1",
       "_view_count": null,
       "_view_module_version": "^0.11.1",
       "options": [
        "position",
        "zoom_in_text",
        "zoom_in_title",
        "zoom_out_text",
        "zoom_out_title"
       ]
      }
     },
     "9f89511a8ef146b1a964af9604843f31": {
      "model_module": "@jupyter-widgets/controls",
      "model_module_version": "1.5.0",
      "model_name": "ProgressStyleModel",
      "state": {
       "description_width": "initial"
      }
     },
     "a5bef23481f847cd8723116c8a9ee1ea": {
      "model_module": "@jupyter-widgets/base",
      "model_module_version": "1.2.0",
      "model_name": "LayoutModel",
      "state": {}
     },
     "a65ff6ba0f974c7a9e72235faa2d5b30": {
      "model_module": "@jupyter-widgets/base",
      "model_module_version": "1.2.0",
      "model_name": "LayoutModel",
      "state": {}
     },
     "ab347d198c974596bc4ccd192e567c57": {
      "model_module": "@jupyter-widgets/controls",
      "model_module_version": "1.5.0",
      "model_name": "ProgressStyleModel",
      "state": {
       "description_width": "initial"
      }
     },
     "af84fa9a52a84125996cfaf661b8af85": {
      "model_module": "@jupyter-widgets/base",
      "model_module_version": "1.2.0",
      "model_name": "LayoutModel",
      "state": {}
     },
     "b00c7d62983c4019a86c6522ea050794": {
      "model_module": "@jupyter-widgets/base",
      "model_module_version": "1.2.0",
      "model_name": "LayoutModel",
      "state": {}
     },
     "b31c3473086e48d2b1bb9884a4c7e827": {
      "model_module": "@jupyter-widgets/controls",
      "model_module_version": "1.5.0",
      "model_name": "ProgressStyleModel",
      "state": {
       "description_width": "initial"
      }
     },
     "b3b821c752054dd193e21a8b911d687e": {
      "model_module": "@jupyter-widgets/controls",
      "model_module_version": "1.5.0",
      "model_name": "DescriptionStyleModel",
      "state": {
       "description_width": ""
      }
     },
     "b632d0e7f388480e99e48dfe3ac7b466": {
      "model_module": "@jupyter-widgets/controls",
      "model_module_version": "1.5.0",
      "model_name": "HTMLModel",
      "state": {
       "layout": "IPY_MODEL_575fdaf6b2d84e3bb37240836ba4f3e5",
       "style": "IPY_MODEL_46ad6086dbc844029617260f3de22e9f",
       "value": " 14/? (0.0 seconds remaining at  7.71 frames/s)"
      }
     },
     "bbb1c7f2b0b248b5975e79a68d037454": {
      "model_module": "@jupyter-widgets/controls",
      "model_module_version": "1.5.0",
      "model_name": "HTMLModel",
      "state": {
       "layout": "IPY_MODEL_c14d1d46e6e54dbaa5babe65d6efdac9",
       "style": "IPY_MODEL_e895057363e24e3ab041120f7381dfa7",
       "value": " 13/13 (0.0 seconds remaining at  2.79 frames/s)"
      }
     },
     "bd02f67e6d4748ab8bd36a2d92fda23a": {
      "model_module": "@jupyter-widgets/controls",
      "model_module_version": "1.5.0",
      "model_name": "HBoxModel",
      "state": {
       "children": [
        "IPY_MODEL_1b0cdb6e3fad4114b46e831f12c80dad",
        "IPY_MODEL_62634d665f2344028c14e772aa87a4e1"
       ],
       "layout": "IPY_MODEL_2f278095108a45a991dfd7462df30b64"
      }
     },
     "c14d1d46e6e54dbaa5babe65d6efdac9": {
      "model_module": "@jupyter-widgets/base",
      "model_module_version": "1.2.0",
      "model_name": "LayoutModel",
      "state": {}
     },
     "c278211d619a4434a300777b5e5650f5": {
      "model_module": "@jupyter-widgets/controls",
      "model_module_version": "1.5.0",
      "model_name": "FloatProgressModel",
      "state": {
       "layout": "IPY_MODEL_1f03fdeca5a946438b34a48e794ae0bc",
       "max": 13,
       "style": "IPY_MODEL_b31c3473086e48d2b1bb9884a4c7e827",
       "value": 13
      }
     },
     "ca2a20889798447db067f844e03848c6": {
      "model_module": "@jupyter-widgets/controls",
      "model_module_version": "1.5.0",
      "model_name": "ProgressStyleModel",
      "state": {
       "description_width": "initial"
      }
     },
     "ce4c1d0c17054efeb86ddd79f712aee7": {
      "model_module": "@jupyter-widgets/controls",
      "model_module_version": "1.5.0",
      "model_name": "FloatProgressModel",
      "state": {
       "bar_style": "success",
       "description": "100%",
       "layout": "IPY_MODEL_7f407955aab144029790014f5aa7a5ed",
       "max": 13,
       "style": "IPY_MODEL_ca2a20889798447db067f844e03848c6",
       "value": 13
      }
     },
     "d06b9c766f984dde974ec9e954d61f92": {
      "model_module": "@jupyter-widgets/controls",
      "model_module_version": "1.5.0",
      "model_name": "FloatProgressModel",
      "state": {
       "bar_style": "success",
       "description": "100%",
       "layout": "IPY_MODEL_a65ff6ba0f974c7a9e72235faa2d5b30",
       "max": 13,
       "style": "IPY_MODEL_2f704ef9c90344ad98f2c4ae87266f57",
       "value": 13
      }
     },
     "d0ab12673dca4117912934441587c677": {
      "model_module": "@jupyter-widgets/controls",
      "model_module_version": "1.5.0",
      "model_name": "HBoxModel",
      "state": {
       "children": [
        "IPY_MODEL_0af01e9fa23b484e906e99f4be6c926f",
        "IPY_MODEL_bbb1c7f2b0b248b5975e79a68d037454"
       ],
       "layout": "IPY_MODEL_7cd1559ab00c4805a34e82e16efcbbee"
      }
     },
     "d184b04851d24e31bc5b6cc692b2fd79": {
      "model_module": "@jupyter-widgets/controls",
      "model_module_version": "1.5.0",
      "model_name": "DescriptionStyleModel",
      "state": {
       "description_width": ""
      }
     },
     "d20db7245ccc47a78c4634186caa73cc": {
      "model_module": "@jupyter-widgets/controls",
      "model_module_version": "1.5.0",
      "model_name": "HBoxModel",
      "state": {
       "children": [
        "IPY_MODEL_e084715b42174022aa24bb003e523cf8",
        "IPY_MODEL_65b77d7ec6ca412da6a7ba4385c70d8a"
       ],
       "layout": "IPY_MODEL_7ea8d8378ce04f83b910090f0c07123c"
      }
     },
     "d517c27fc6a74cd8b7505dbfeff0618b": {
      "model_module": "@jupyter-widgets/controls",
      "model_module_version": "1.5.0",
      "model_name": "HBoxModel",
      "state": {
       "children": [
        "IPY_MODEL_50595d5f0a15455b891144b1a3c86473",
        "IPY_MODEL_0a432da82d6b4037b74eaccbe571082e"
       ],
       "layout": "IPY_MODEL_6f7dc7b2b73c4ffeb22a50704c70b409"
      }
     },
     "d5aa3d6ee4674d84afac1bb1c58fade4": {
      "model_module": "@jupyter-widgets/base",
      "model_module_version": "1.2.0",
      "model_name": "LayoutModel",
      "state": {}
     },
     "da7b234acde24cf99e99692566bb1a20": {
      "model_module": "@jupyter-widgets/controls",
      "model_module_version": "1.5.0",
      "model_name": "FloatProgressModel",
      "state": {
       "description": "100%",
       "layout": "IPY_MODEL_9be0ed36f7d943f28b390e9413408c18",
       "max": 13,
       "style": "IPY_MODEL_ab347d198c974596bc4ccd192e567c57",
       "value": 13
      }
     },
     "e084715b42174022aa24bb003e523cf8": {
      "model_module": "@jupyter-widgets/controls",
      "model_module_version": "1.5.0",
      "model_name": "FloatProgressModel",
      "state": {
       "bar_style": "success",
       "description": "100%",
       "layout": "IPY_MODEL_99db185983b2465aa1e0de203fdf1d41",
       "max": 13,
       "style": "IPY_MODEL_9f89511a8ef146b1a964af9604843f31",
       "value": 13
      }
     },
     "e895057363e24e3ab041120f7381dfa7": {
      "model_module": "@jupyter-widgets/controls",
      "model_module_version": "1.5.0",
      "model_name": "DescriptionStyleModel",
      "state": {
       "description_width": ""
      }
     },
     "eb134de1f91c4f63afb428cda2e4a250": {
      "model_module": "@jupyter-widgets/controls",
      "model_module_version": "1.5.0",
      "model_name": "DescriptionStyleModel",
      "state": {
       "description_width": ""
      }
     },
     "eccb0b4d014c42a7a02328ef05a77892": {
      "model_module": "@jupyter-widgets/base",
      "model_module_version": "1.2.0",
      "model_name": "LayoutModel",
      "state": {}
     },
     "ef47e4cddc9746bba3a2d20cb69ed035": {
      "model_module": "@jupyter-widgets/base",
      "model_module_version": "1.2.0",
      "model_name": "LayoutModel",
      "state": {}
     },
     "f082ffec56a249da8b0f6cdd1f7abb1d": {
      "model_module": "@jupyter-widgets/controls",
      "model_module_version": "1.5.0",
      "model_name": "DescriptionStyleModel",
      "state": {
       "description_width": ""
      }
     },
     "fbd2d0627e8346be988758b526fda9fa": {
      "model_module": "@jupyter-widgets/base",
      "model_module_version": "1.2.0",
      "model_name": "LayoutModel",
      "state": {}
     }
    },
    "version_major": 2,
    "version_minor": 0
   }
  }
 },
 "nbformat": 4,
 "nbformat_minor": 4
}
