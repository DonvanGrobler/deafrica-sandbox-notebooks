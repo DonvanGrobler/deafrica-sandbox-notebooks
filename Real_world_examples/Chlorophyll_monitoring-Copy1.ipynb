{
 "cells": [
  {
   "cell_type": "markdown",
   "metadata": {},
   "source": [
    "# Monitoring chlorophyll-*a* in African waterbodies\n",
    "\n",
    "* **Products used:** \n",
    "[s2_l2a](https://explorer.digitalearth.africa/s2_l2a)"
   ]
  },
  {
   "cell_type": "raw",
   "metadata": {
    "raw_mimetype": "text/restructuredtext"
   },
   "source": [
    "**Keywords**: :index:`data used; sentinel 2`, :index:`band index; MNDWI`, :index:`band index; NDCI`, :index:`analysis; change monitoring`, :index:`water quality`"
   ]
  },
  {
   "cell_type": "markdown",
   "metadata": {},
   "source": [
    "## Background\n",
    "Inland waterbodies are essential for supporting human life, both through the supply of drinking water and the support of agriculture and aquaculture.\n",
    "Such waterbodies can be contaminated by [urban pollutants](https://www.ghanaweb.com/GhanaHomePage/NewsArchive/Lake-Bosumtwi-Dying-From-Pollution-159303) from the communities living nearby, causing health issues for people and animals. \n",
    "While the health of waterbodies can be monitored from the ground through sampling, satellite imagery can complement this.\n",
    "One particular event that is related to poor water quality is the presence of algal blooms.\n",
    "Specifically, waters with high levels of nutrients from fertilizers, sewage or urban runoff can host large algal blooms.\n",
    "However, there needs to be a well-understood and tested way to link satellite observations to the presence of algal blooms.\n",
    "\n",
    "### Sentinel-2 use case\n",
    "Algal blooms are associated with the presence of chlorophyll-*a* in waterbodies.\n",
    "[Mishra and Mishra (2012)](https://doi.org/10.1016/j.rse.2011.10.016) developed the normalised difference chlorophyll index (NDCI), which serves as a qualitative indicator for the concentration of clorophyll-*a* on the surface of a waterbody.\n",
    "The index requires information from a specific part of the infrared specturm, known as the 'red edge'. \n",
    "This is captured as part of Sentinel-2's 13 spectral bands, making it possible to measure the NDCI with Sentinel-2. \n",
    "\n",
    "## Description\n",
    "\n",
    "In this example, we measure the NDCI for Lake Bosomtwe, which is getting affected by the pollution as mentioned in the Background section.\n",
    "This is combined with information about the size of the waterbody, which is used to build a helpful visualisation of how the water-level and presence of chlorophyll-*a* changes over time.\n",
    "The worked example takes users through the code required to:\n",
    "\n",
    "1. Load cloud-free Sentinel-2 images for an area of interest.\n",
    "2. Compute indices to measure the presence of water and clorophyll-*a*.\n",
    "3. Generate informative visualisations to identify the presence of clorophyll-*a*.\n",
    "\n",
    "### Some caveats\n",
    "\n",
    "* The NDCI is currently treated as an experimental index for Sentinel-2 sensors, as futher work is needed to calibrate and validate how well the index relates to the presence of clorophyll-*a*. \n",
    "* It is also important to remember that algal blooms will usually result in increased values of the NDCI, but not all NDCI increases will be from algal blooms.\n",
    "For example, there may be seasonal fluctuations in the amount of clorophyll-*a* in a waterbody.\n",
    "* Further validation work is required to understand how shallow water and atmospheric effects affect the NDCI, and its use in identifying high concentrations of clorophyll-*a*.\n",
    "\n",
    "***"
   ]
  },
  {
   "cell_type": "markdown",
   "metadata": {},
   "source": [
    "## Getting started\n",
    "\n",
    "**To run this analysis**, run all the cells in the notebook, starting with the \"Load packages\" cell.\n",
    "\n",
    "**After finishing the analysis**, return to the \"Analysis parameters\" cell, modify some values (e.g. choose a different location or time period to analyse) and re-run the analysis.\n",
    "There are additional instructions on modifying the notebook at the end."
   ]
  },
  {
   "cell_type": "markdown",
   "metadata": {},
   "source": [
    "### Load packages\n",
    "Load key Python packages and supporting functions for the analysis."
   ]
  },
  {
   "cell_type": "code",
   "execution_count": 1,
   "metadata": {},
   "outputs": [],
   "source": [
    "%matplotlib inline\n",
    "\n",
    "import datacube\n",
    "import matplotlib\n",
    "import matplotlib.pyplot as plt\n",
    "import numpy as np\n",
    "import pandas as pd\n",
    "import sys\n",
    "import xarray as xr\n",
    "import warnings\n",
    "import fiona\n",
    "import ipyleaflet as leaflet\n",
    "import deafrica_tools.app.widgetconstructors as deawidgets\n",
    "warnings.filterwarnings(\"ignore\")\n",
    "\n",
    "from ipywidgets import FileUpload\n",
    "from IPython.display import display\n",
    "from ipyleaflet import basemap_to_tiles, basemaps\n",
    "from deafrica_tools.plotting import display_map, rgb\n",
    "from deafrica_tools.datahandling import load_ard, mostcommon_crs\n",
    "from deafrica_tools.bandindices import calculate_indices\n",
    "from deafrica_tools.dask import create_local_dask_cluster"
   ]
  },
  {
   "cell_type": "markdown",
   "metadata": {},
   "source": [
    "### Set up a Dask cluster\n",
    "\n",
    "Dask can be used to better manage memory use down and conduct the analysis in parallel. \n",
    "For an introduction to using Dask with Digital Earth Africa, see the [Dask notebook](../Beginners_guide/08_Parallel_processing_with_dask.ipynb).\n",
    "\n",
    ">**Note**: We recommend opening the Dask processing window to view the different computations that are being executed; to do this, see the *Dask dashboard in DE Africa* section of the [Dask notebook](../Beginners_guide/08_Parallel_processing_with_dask.ipynb).\n",
    "\n",
    "To use Dask, set up the local computing cluster using the cell below."
   ]
  },
  {
   "cell_type": "code",
   "execution_count": 2,
   "metadata": {},
   "outputs": [
    {
     "data": {
      "text/html": [
       "<table style=\"border: 2px solid white;\">\n",
       "<tr>\n",
       "<td style=\"vertical-align: top; border: 0px solid white\">\n",
       "<h3 style=\"text-align: left;\">Client</h3>\n",
       "<ul style=\"text-align: left; list-style: none; margin: 0; padding: 0;\">\n",
       "  <li><b>Scheduler: </b>tcp://127.0.0.1:40643</li>\n",
       "  <li><b>Dashboard: </b><a href='/user/mpho.sadiki@digitalearthafrica.org/proxy/8787/status' target='_blank'>/user/mpho.sadiki@digitalearthafrica.org/proxy/8787/status</a></li>\n",
       "</ul>\n",
       "</td>\n",
       "<td style=\"vertical-align: top; border: 0px solid white\">\n",
       "<h3 style=\"text-align: left;\">Cluster</h3>\n",
       "<ul style=\"text-align: left; list-style:none; margin: 0; padding: 0;\">\n",
       "  <li><b>Workers: </b>1</li>\n",
       "  <li><b>Cores: </b>4</li>\n",
       "  <li><b>Memory: </b>28.14 GB</li>\n",
       "</ul>\n",
       "</td>\n",
       "</tr>\n",
       "</table>"
      ],
      "text/plain": [
       "<Client: 'tcp://127.0.0.1:40643' processes=1 threads=4, memory=28.14 GB>"
      ]
     },
     "metadata": {},
     "output_type": "display_data"
    }
   ],
   "source": [
    "create_local_dask_cluster()"
   ]
  },
  {
   "cell_type": "markdown",
   "metadata": {},
   "source": [
    "### Connect to the datacube\n",
    "Activate the datacube database, which provides functionality for loading and displaying stored Earth observation data."
   ]
  },
  {
   "cell_type": "code",
   "execution_count": 3,
   "metadata": {},
   "outputs": [],
   "source": [
    "dc = datacube.Datacube(app=\"Chlorophyll_monitoring\")"
   ]
  },
  {
   "cell_type": "markdown",
   "metadata": {},
   "source": [
    "### Define and view the area of interest (AOI)"
   ]
  },
  {
   "cell_type": "markdown",
   "metadata": {},
   "source": [
    "This notebook allows for multiple ways in which the area of interest can be define and viewed. These include defining the area of interest:\n",
    "1. using the latitude and longitude values at the centre of your AOI, allong with a buffer value\n",
    "2. by adding a shapefile of the area of interest (as a zipped folder)\n",
    "3. Select the region of interest from a map\n",
    "\n",
    "By default, the notebook will use the first method of specifying the latitude, longitude and buffer to define the area of interest. However, if you wish to use the second (shapefile) and third (draw shape on map) methods, the code is also available below. All you need to do is change the relevant code from markdown to code so you can run it."
   ]
  },
  {
   "cell_type": "markdown",
   "metadata": {},
   "source": [
    "#### Add area of interest using latitude and longitude\n",
    "* `latitude`: The latitude at the centre of your AOI (e.g. `6.502).`).\n",
    "* `longitude`: The longitude at the centre of your AOI (e.g. `-1.409`).\n",
    "* `buffer`: The number of degrees to load around the central latitude and longitude. For reasonable loading times, set this as 0.1 or lower.\n",
    "\n",
    "**If running the notebook for the first time**, keep the default settings below.\n",
    "This will demonstrate how the analysis works and provide meaningful results.\n",
    "\n",
    "**To run the notebook for a different area**, make sure Sentinel-2 data is available for the chosen area using the [DEAfrica Explorer](https://explorer.digitalearth.africa).\n",
    "Use the drop-down menu to check coverage for  `s2_l2a`."
   ]
  },
  {
   "cell_type": "code",
   "execution_count": 4,
   "metadata": {},
   "outputs": [
    {
     "data": {
      "text/html": [
       "<div style=\"width:100%;\"><div style=\"position:relative;width:100%;height:0;padding-bottom:60%;\"><span style=\"color:#565656\">Make this Notebook Trusted to load map: File -> Trust Notebook</span><iframe srcdoc=\"&lt;!DOCTYPE html&gt;\n",
       "&lt;head&gt;    \n",
       "    &lt;meta http-equiv=&quot;content-type&quot; content=&quot;text/html; charset=UTF-8&quot; /&gt;\n",
       "    \n",
       "        &lt;script&gt;\n",
       "            L_NO_TOUCH = false;\n",
       "            L_DISABLE_3D = false;\n",
       "        &lt;/script&gt;\n",
       "    \n",
       "    &lt;style&gt;html, body {width: 100%;height: 100%;margin: 0;padding: 0;}&lt;/style&gt;\n",
       "    &lt;style&gt;#map {position:absolute;top:0;bottom:0;right:0;left:0;}&lt;/style&gt;\n",
       "    &lt;script src=&quot;https://cdn.jsdelivr.net/npm/leaflet@1.6.0/dist/leaflet.js&quot;&gt;&lt;/script&gt;\n",
       "    &lt;script src=&quot;https://code.jquery.com/jquery-1.12.4.min.js&quot;&gt;&lt;/script&gt;\n",
       "    &lt;script src=&quot;https://maxcdn.bootstrapcdn.com/bootstrap/3.2.0/js/bootstrap.min.js&quot;&gt;&lt;/script&gt;\n",
       "    &lt;script src=&quot;https://cdnjs.cloudflare.com/ajax/libs/Leaflet.awesome-markers/2.0.2/leaflet.awesome-markers.js&quot;&gt;&lt;/script&gt;\n",
       "    &lt;link rel=&quot;stylesheet&quot; href=&quot;https://cdn.jsdelivr.net/npm/leaflet@1.6.0/dist/leaflet.css&quot;/&gt;\n",
       "    &lt;link rel=&quot;stylesheet&quot; href=&quot;https://maxcdn.bootstrapcdn.com/bootstrap/3.2.0/css/bootstrap.min.css&quot;/&gt;\n",
       "    &lt;link rel=&quot;stylesheet&quot; href=&quot;https://maxcdn.bootstrapcdn.com/bootstrap/3.2.0/css/bootstrap-theme.min.css&quot;/&gt;\n",
       "    &lt;link rel=&quot;stylesheet&quot; href=&quot;https://maxcdn.bootstrapcdn.com/font-awesome/4.6.3/css/font-awesome.min.css&quot;/&gt;\n",
       "    &lt;link rel=&quot;stylesheet&quot; href=&quot;https://cdnjs.cloudflare.com/ajax/libs/Leaflet.awesome-markers/2.0.2/leaflet.awesome-markers.css&quot;/&gt;\n",
       "    &lt;link rel=&quot;stylesheet&quot; href=&quot;https://cdn.jsdelivr.net/gh/python-visualization/folium/folium/templates/leaflet.awesome.rotate.min.css&quot;/&gt;\n",
       "    \n",
       "            &lt;meta name=&quot;viewport&quot; content=&quot;width=device-width,\n",
       "                initial-scale=1.0, maximum-scale=1.0, user-scalable=no&quot; /&gt;\n",
       "            &lt;style&gt;\n",
       "                #map_1af1f1d413ed8f9d6f6785f20423fbd5 {\n",
       "                    position: relative;\n",
       "                    width: 100.0%;\n",
       "                    height: 100.0%;\n",
       "                    left: 0.0%;\n",
       "                    top: 0.0%;\n",
       "                }\n",
       "            &lt;/style&gt;\n",
       "        \n",
       "&lt;/head&gt;\n",
       "&lt;body&gt;    \n",
       "    \n",
       "            &lt;div class=&quot;folium-map&quot; id=&quot;map_1af1f1d413ed8f9d6f6785f20423fbd5&quot; &gt;&lt;/div&gt;\n",
       "        \n",
       "&lt;/body&gt;\n",
       "&lt;script&gt;    \n",
       "    \n",
       "            var map_1af1f1d413ed8f9d6f6785f20423fbd5 = L.map(\n",
       "                &quot;map_1af1f1d413ed8f9d6f6785f20423fbd5&quot;,\n",
       "                {\n",
       "                    center: [-17.9, 30.8],\n",
       "                    crs: L.CRS.EPSG3857,\n",
       "                    zoom: 13,\n",
       "                    zoomControl: true,\n",
       "                    preferCanvas: false,\n",
       "                }\n",
       "            );\n",
       "\n",
       "            \n",
       "\n",
       "        \n",
       "    \n",
       "            var tile_layer_83c0876d1b00cd79126302e5d4255c67 = L.tileLayer(\n",
       "                &quot;http://mt1.google.com/vt/lyrs=y\\u0026z={z}\\u0026x={x}\\u0026y={y}&quot;,\n",
       "                {&quot;attribution&quot;: &quot;Google&quot;, &quot;detectRetina&quot;: false, &quot;maxNativeZoom&quot;: 18, &quot;maxZoom&quot;: 18, &quot;minZoom&quot;: 0, &quot;noWrap&quot;: false, &quot;opacity&quot;: 1, &quot;subdomains&quot;: &quot;abc&quot;, &quot;tms&quot;: false}\n",
       "            ).addTo(map_1af1f1d413ed8f9d6f6785f20423fbd5);\n",
       "        \n",
       "    \n",
       "            var poly_line_11cc1f62b0bb4da392a6a75c7dbf2ccd = L.polyline(\n",
       "                [[-17.939999999999998, 30.76], [-17.939999999999998, 30.84], [-17.86, 30.84], [-17.86, 30.76], [-17.939999999999998, 30.76]],\n",
       "                {&quot;bubblingMouseEvents&quot;: true, &quot;color&quot;: &quot;red&quot;, &quot;dashArray&quot;: null, &quot;dashOffset&quot;: null, &quot;fill&quot;: false, &quot;fillColor&quot;: &quot;red&quot;, &quot;fillOpacity&quot;: 0.2, &quot;fillRule&quot;: &quot;evenodd&quot;, &quot;lineCap&quot;: &quot;round&quot;, &quot;lineJoin&quot;: &quot;round&quot;, &quot;noClip&quot;: false, &quot;opacity&quot;: 0.8, &quot;smoothFactor&quot;: 1.0, &quot;stroke&quot;: true, &quot;weight&quot;: 3}\n",
       "            ).addTo(map_1af1f1d413ed8f9d6f6785f20423fbd5);\n",
       "        \n",
       "    \n",
       "                var lat_lng_popup_e2ddf5664b6ca0d0c01a24cf6023a469 = L.popup();\n",
       "                function latLngPop(e) {\n",
       "                    lat_lng_popup_e2ddf5664b6ca0d0c01a24cf6023a469\n",
       "                        .setLatLng(e.latlng)\n",
       "                        .setContent(&quot;Latitude: &quot; + e.latlng.lat.toFixed(4) +\n",
       "                                    &quot;&lt;br&gt;Longitude: &quot; + e.latlng.lng.toFixed(4))\n",
       "                        .openOn(map_1af1f1d413ed8f9d6f6785f20423fbd5);\n",
       "                    }\n",
       "                map_1af1f1d413ed8f9d6f6785f20423fbd5.on(&#x27;click&#x27;, latLngPop);\n",
       "            \n",
       "&lt;/script&gt;\" style=\"position:absolute;width:100%;height:100%;left:0;top:0;border:none !important;\" allowfullscreen webkitallowfullscreen mozallowfullscreen></iframe></div></div>"
      ],
      "text/plain": [
       "<folium.folium.Map at 0x7ff9c6fecfa0>"
      ]
     },
     "execution_count": 4,
     "metadata": {},
     "output_type": "execute_result"
    }
   ],
   "source": [
    "#lake Chivero\n",
    "lat = -17.9\n",
    "lon = 30.8\n",
    "buffer = 0.04\n",
    "\n",
    "# Combine central lat,lon with buffer to get area of interest\n",
    "lat_range = (lat-buffer, lat+buffer)\n",
    "lon_range = (lon-buffer, lon+buffer)\n",
    "\n",
    "display_map(x=lon_range, y=lat_range)"
   ]
  },
  {
   "cell_type": "markdown",
   "metadata": {
    "tags": []
   },
   "source": [
    "#### Upload area of interest from shapefile\n",
    "Make sure to upload the shapefile as a zipped folder containing all the associated file (.shp, .shx, .dbf, .prj)"
   ]
  },
  {
   "cell_type": "code",
   "execution_count": 5,
   "metadata": {},
   "outputs": [
    {
     "data": {
      "application/vnd.jupyter.widget-view+json": {
       "model_id": "553217e8056b4289b8a198dc11fa6b82",
       "version_major": 2,
       "version_minor": 0
      },
      "text/plain": [
       "FileUpload(value={}, accept='.zip', description='Upload', multiple=True)"
      ]
     },
     "metadata": {},
     "output_type": "display_data"
    }
   ],
   "source": [
    "#Upload shapefile zip folder\n",
    "upload = FileUpload(accept = '.zip', multiple = True)\n",
    "display(upload)"
   ]
  },
  {
   "cell_type": "code",
   "execution_count": 6,
   "metadata": {},
   "outputs": [
    {
     "data": {
      "text/html": [
       "<div style=\"width:100%;\"><div style=\"position:relative;width:100%;height:0;padding-bottom:60%;\"><span style=\"color:#565656\">Make this Notebook Trusted to load map: File -> Trust Notebook</span><iframe srcdoc=\"&lt;!DOCTYPE html&gt;\n",
       "&lt;head&gt;    \n",
       "    &lt;meta http-equiv=&quot;content-type&quot; content=&quot;text/html; charset=UTF-8&quot; /&gt;\n",
       "    \n",
       "        &lt;script&gt;\n",
       "            L_NO_TOUCH = false;\n",
       "            L_DISABLE_3D = false;\n",
       "        &lt;/script&gt;\n",
       "    \n",
       "    &lt;style&gt;html, body {width: 100%;height: 100%;margin: 0;padding: 0;}&lt;/style&gt;\n",
       "    &lt;style&gt;#map {position:absolute;top:0;bottom:0;right:0;left:0;}&lt;/style&gt;\n",
       "    &lt;script src=&quot;https://cdn.jsdelivr.net/npm/leaflet@1.6.0/dist/leaflet.js&quot;&gt;&lt;/script&gt;\n",
       "    &lt;script src=&quot;https://code.jquery.com/jquery-1.12.4.min.js&quot;&gt;&lt;/script&gt;\n",
       "    &lt;script src=&quot;https://maxcdn.bootstrapcdn.com/bootstrap/3.2.0/js/bootstrap.min.js&quot;&gt;&lt;/script&gt;\n",
       "    &lt;script src=&quot;https://cdnjs.cloudflare.com/ajax/libs/Leaflet.awesome-markers/2.0.2/leaflet.awesome-markers.js&quot;&gt;&lt;/script&gt;\n",
       "    &lt;link rel=&quot;stylesheet&quot; href=&quot;https://cdn.jsdelivr.net/npm/leaflet@1.6.0/dist/leaflet.css&quot;/&gt;\n",
       "    &lt;link rel=&quot;stylesheet&quot; href=&quot;https://maxcdn.bootstrapcdn.com/bootstrap/3.2.0/css/bootstrap.min.css&quot;/&gt;\n",
       "    &lt;link rel=&quot;stylesheet&quot; href=&quot;https://maxcdn.bootstrapcdn.com/bootstrap/3.2.0/css/bootstrap-theme.min.css&quot;/&gt;\n",
       "    &lt;link rel=&quot;stylesheet&quot; href=&quot;https://maxcdn.bootstrapcdn.com/font-awesome/4.6.3/css/font-awesome.min.css&quot;/&gt;\n",
       "    &lt;link rel=&quot;stylesheet&quot; href=&quot;https://cdnjs.cloudflare.com/ajax/libs/Leaflet.awesome-markers/2.0.2/leaflet.awesome-markers.css&quot;/&gt;\n",
       "    &lt;link rel=&quot;stylesheet&quot; href=&quot;https://cdn.jsdelivr.net/gh/python-visualization/folium/folium/templates/leaflet.awesome.rotate.min.css&quot;/&gt;\n",
       "    \n",
       "            &lt;meta name=&quot;viewport&quot; content=&quot;width=device-width,\n",
       "                initial-scale=1.0, maximum-scale=1.0, user-scalable=no&quot; /&gt;\n",
       "            &lt;style&gt;\n",
       "                #map_452133d6d74a4bd3774615b24a5cf36b {\n",
       "                    position: relative;\n",
       "                    width: 100.0%;\n",
       "                    height: 100.0%;\n",
       "                    left: 0.0%;\n",
       "                    top: 0.0%;\n",
       "                }\n",
       "            &lt;/style&gt;\n",
       "        \n",
       "&lt;/head&gt;\n",
       "&lt;body&gt;    \n",
       "    \n",
       "            &lt;div class=&quot;folium-map&quot; id=&quot;map_452133d6d74a4bd3774615b24a5cf36b&quot; &gt;&lt;/div&gt;\n",
       "        \n",
       "&lt;/body&gt;\n",
       "&lt;script&gt;    \n",
       "    \n",
       "            var map_452133d6d74a4bd3774615b24a5cf36b = L.map(\n",
       "                &quot;map_452133d6d74a4bd3774615b24a5cf36b&quot;,\n",
       "                {\n",
       "                    center: [-28.472533053691773, 29.029705210333017],\n",
       "                    crs: L.CRS.EPSG3857,\n",
       "                    zoom: 11,\n",
       "                    zoomControl: true,\n",
       "                    preferCanvas: false,\n",
       "                }\n",
       "            );\n",
       "\n",
       "            \n",
       "\n",
       "        \n",
       "    \n",
       "            var tile_layer_f5632d42e3dfe406d149dead6b63b684 = L.tileLayer(\n",
       "                &quot;http://mt1.google.com/vt/lyrs=y\\u0026z={z}\\u0026x={x}\\u0026y={y}&quot;,\n",
       "                {&quot;attribution&quot;: &quot;Google&quot;, &quot;detectRetina&quot;: false, &quot;maxNativeZoom&quot;: 18, &quot;maxZoom&quot;: 18, &quot;minZoom&quot;: 0, &quot;noWrap&quot;: false, &quot;opacity&quot;: 1, &quot;subdomains&quot;: &quot;abc&quot;, &quot;tms&quot;: false}\n",
       "            ).addTo(map_452133d6d74a4bd3774615b24a5cf36b);\n",
       "        \n",
       "    \n",
       "            var poly_line_d30a9c03484700cfd12241206d498d69 = L.polyline(\n",
       "                [[-28.56361014662747, 28.965786000590306], [-28.56361014662747, 29.093624420075724], [-28.38145596075607, 29.093624420075724], [-28.38145596075607, 28.965786000590306], [-28.56361014662747, 28.965786000590306]],\n",
       "                {&quot;bubblingMouseEvents&quot;: true, &quot;color&quot;: &quot;red&quot;, &quot;dashArray&quot;: null, &quot;dashOffset&quot;: null, &quot;fill&quot;: false, &quot;fillColor&quot;: &quot;red&quot;, &quot;fillOpacity&quot;: 0.2, &quot;fillRule&quot;: &quot;evenodd&quot;, &quot;lineCap&quot;: &quot;round&quot;, &quot;lineJoin&quot;: &quot;round&quot;, &quot;noClip&quot;: false, &quot;opacity&quot;: 0.8, &quot;smoothFactor&quot;: 1.0, &quot;stroke&quot;: true, &quot;weight&quot;: 3}\n",
       "            ).addTo(map_452133d6d74a4bd3774615b24a5cf36b);\n",
       "        \n",
       "    \n",
       "                var lat_lng_popup_8bc90b0e1a21dab68faa09243e5a5172 = L.popup();\n",
       "                function latLngPop(e) {\n",
       "                    lat_lng_popup_8bc90b0e1a21dab68faa09243e5a5172\n",
       "                        .setLatLng(e.latlng)\n",
       "                        .setContent(&quot;Latitude: &quot; + e.latlng.lat.toFixed(4) +\n",
       "                                    &quot;&lt;br&gt;Longitude: &quot; + e.latlng.lng.toFixed(4))\n",
       "                        .openOn(map_452133d6d74a4bd3774615b24a5cf36b);\n",
       "                    }\n",
       "                map_452133d6d74a4bd3774615b24a5cf36b.on(&#x27;click&#x27;, latLngPop);\n",
       "            \n",
       "    \n",
       "\n",
       "        function geo_json_1a5d536717cd019bc09dee6fefdd29d5_onEachFeature(feature, layer) {\n",
       "            layer.on({\n",
       "            });\n",
       "        };\n",
       "        var geo_json_1a5d536717cd019bc09dee6fefdd29d5 = L.geoJson(null, {\n",
       "                onEachFeature: geo_json_1a5d536717cd019bc09dee6fefdd29d5_onEachFeature,\n",
       "            \n",
       "        });\n",
       "\n",
       "        function geo_json_1a5d536717cd019bc09dee6fefdd29d5_add (data) {\n",
       "            geo_json_1a5d536717cd019bc09dee6fefdd29d5\n",
       "                .addData(data)\n",
       "                .addTo(map_452133d6d74a4bd3774615b24a5cf36b);\n",
       "        }\n",
       "            geo_json_1a5d536717cd019bc09dee6fefdd29d5_add({&quot;bbox&quot;: [28.965786000590306, -28.56361014662747, 29.093624420075724, -28.38145596075607], &quot;features&quot;: [{&quot;bbox&quot;: [28.965786000590306, -28.56361014662747, 29.093624420075724, -28.38145596075607], &quot;geometry&quot;: {&quot;coordinates&quot;: [[[29.059934150680647, -28.441532566873608], [29.093624420075724, -28.56361014662747], [29.093624420075724, -28.56361014662747], [29.093624420075724, -28.56361014662747], [28.978708295700745, -28.523879467065633], [28.965786000590306, -28.38348613187423], [29.06547227715655, -28.38145596075607], [29.059934150680647, -28.441532566873608]]], &quot;type&quot;: &quot;Polygon&quot;}, &quot;id&quot;: &quot;0&quot;, &quot;properties&quot;: {}, &quot;type&quot;: &quot;Feature&quot;}], &quot;type&quot;: &quot;FeatureCollection&quot;});\n",
       "\n",
       "        \n",
       "&lt;/script&gt;\" style=\"position:absolute;width:100%;height:100%;left:0;top:0;border:none !important;\" allowfullscreen webkitallowfullscreen mozallowfullscreen></iframe></div></div>"
      ],
      "text/plain": [
       "<folium.folium.Map at 0x7ffa342a0580>"
      ]
     },
     "execution_count": 6,
     "metadata": {},
     "output_type": "execute_result"
    }
   ],
   "source": [
    "#View uploaded shapefile\n",
    "try:\n",
    "    with open('uploaded_shapefile.zip', 'wb') as output_file: \n",
    "        for uploaded_filename in upload.value:\n",
    "            content = upload.value[uploaded_filename]['content']\n",
    "            output_file.write(content)\n",
    "\n",
    "    import geopandas as gpd\n",
    "    shp = gpd.read_file(output_file.name).to_crs(epsg=4326)\n",
    "    #shp.plot() \n",
    "    #shp.loc[0, 'geometry']\n",
    "\n",
    "    xmin, ymin, xmax, ymax = shp.total_bounds\n",
    "    lon_range = (xmin, xmax)\n",
    "    lat_range = (ymin, ymax)\n",
    "\n",
    "    import folium  \n",
    "    m = display_map(lon_range, lat_range)\n",
    "    folium.GeoJson(data=shp[\"geometry\"]).add_to(m) \n",
    "\n",
    "\n",
    "except IndexError:\n",
    "    print(\n",
    "        \"Cannot read uploaded files. Please ensure that data is \"\n",
    "        \"in either GeoJSON or ESRI Shapefile format.\",\n",
    "        end='\\r')\n",
    "    gdf_uploaded = None\n",
    "\n",
    "except fiona.errors.DriverError:\n",
    "    print(\n",
    "        \"Shapefile is invalid. Please ensure that all shapefile \"\n",
    "        \"components (e.g. .shp, .shx, .dbf, .prj) are uploaded.\",\n",
    "        end='\\r')\n",
    "    gdf_uploaded = None\n",
    "m    "
   ]
  },
  {
   "cell_type": "markdown",
   "metadata": {
    "tags": []
   },
   "source": [
    "#### Select area of interest from a map"
   ]
  },
  {
   "cell_type": "code",
   "execution_count": 7,
   "metadata": {},
   "outputs": [
    {
     "data": {
      "application/vnd.jupyter.widget-view+json": {
       "model_id": "0335034a35cc422ea92a9d10213f119a",
       "version_major": 2,
       "version_minor": 0
      },
      "text/plain": [
       "Map(center=[6.587292, 1.532833], controls=(ZoomControl(options=['position', 'zoom_in_text', 'zoom_in_title', '…"
      ]
     },
     "metadata": {},
     "output_type": "display_data"
    },
    {
     "name": "stdout",
     "output_type": "stream",
     "text": [
      "Area Selected\n"
     ]
    }
   ],
   "source": [
    "size_limit=100000000\n",
    "from odc.ui import select_on_a_map\n",
    "# Select and load data #\n",
    "########################\n",
    "\n",
    "# Define centre_coords as a global variable\n",
    "global centre_coords\n",
    "\n",
    "# Test if centre_coords is in the global namespace;\n",
    "# use default value if it isn't\n",
    "if \"centre_coords\" not in globals():\n",
    "    centre_coords = (6.587292, 1.532833)\n",
    "\n",
    "# Plot interactive map to select area\n",
    "basemap = basemap_to_tiles(basemaps.Esri.WorldImagery)\n",
    "geopolygon = select_on_a_map(height=\"600px\",\n",
    "                             layers=(basemap,),\n",
    "                             center=centre_coords,\n",
    "                             zoom=14)\n",
    "\n",
    "# Set centre coords based on most recent selection to re-focus\n",
    "# subsequent data selections\n",
    "centre_coords = geopolygon.centroid.points[0][::-1]\n",
    "\n",
    "# Test size of selected area\n",
    "msq_per_hectare = 10000\n",
    "area = geopolygon.to_crs(crs=\"epsg:6933\").area / msq_per_hectare\n",
    "radius = np.round(np.sqrt(size_limit), 1)\n",
    "if area > size_limit:\n",
    "    print(f\"Warning: Your selected area is {area:.00f} hectares. \"\n",
    "          f\"Please select an area of less than {size_limit} hectares.\"\n",
    "          f\"\\nTo select a smaller area, re-run the cell \"\n",
    "          f\"above and draw a new polygon.\")\n",
    "\n",
    "else:\n",
    "    print(\"Area Selected\")"
   ]
  },
  {
   "cell_type": "code",
   "execution_count": null,
   "metadata": {},
   "outputs": [],
   "source": [
    "geopolygon?"
   ]
  },
  {
   "cell_type": "markdown",
   "metadata": {},
   "source": [
    "## Load and view Sentinel-2 data\n",
    "\n",
    "The first step in the analysis is to load Sentinel-2 data for the specified area of interest and time range.\n",
    "This uses the pre-defined `load_ard` utility function.\n",
    "This function will automatically mask any clouds in the dataset, and only return images where more than 80% of the pixels were classified as clear.\n",
    "\n",
    "> **Note**: This analysis performs calculations that use the on-ground area of each pixel. For this type of analysis, it is recommended that all data be reprojected to an equal area projection, such as [EPSG:6933](https://epsg.io/6933).\n",
    "This is done below by setting the `output_crs` parameter to `\"EPSG:6933\"`.\n",
    "\n",
    "**Please be patient**.\n",
    "The data may take a few minutes to load and progress will be indicated by text output.\n",
    "The load is complete when the cell status goes from `[*]` to `[number]`.\n",
    "\n",
    "\n",
    "* `time`: The date range to analyse (e.g. `(\"2017-08-01\", \"2019-11-01\")`).\n",
    "For reasonable loading times, make sure the range spans less than 3 years.\n",
    "Note that Sentinel-2 data is only available after July 2015.\n"
   ]
  },
  {
   "cell_type": "code",
   "execution_count": null,
   "metadata": {},
   "outputs": [],
   "source": [
    "# Choose the Sentinel-2 products to load\n",
    "products = [\"s2_l2a\"]\n",
    "\n",
    "# Set the range of dates for the analysis\n",
    "time = (\"2018-01-01\", \"2019-12-31\")\n",
    "\n",
    "# Create a reusable query\n",
    "query = {\n",
    "    #\"x\": lon_range,\n",
    "    #\"y\": lat_range,\n",
    "    \"geopolygon\": geopolygon,\n",
    "    \"time\": time,\n",
    "    \"resolution\": (-10, 10),\n",
    "    \"measurements\": [\"red_edge_1\",\n",
    "                    \"red\",\n",
    "                    \"green\",\n",
    "                    \"blue\",\n",
    "                    \"nir_1\",\n",
    "                    \"swir_1\",]\n",
    "}\n",
    "\n",
    "# Since this analysis calculates pixel areas,\n",
    "# set the output projection to equal area projection EPSG:6933\n",
    "output_crs = \"EPSG:6933\"\n",
    "\n",
    "# Load available data from Sentinel-2A and -2B and filter to retain only times\n",
    "# with at least 80% good data\n",
    "ds = load_ard(dc=dc, \n",
    "              products=products,\n",
    "              min_gooddata=0.8,\n",
    "              output_crs=output_crs,\n",
    "              group_by=\"solar_day\",\n",
    "              dask_chunks={'time':1, 'x':2000, 'y':2000},\n",
    "              **query)"
   ]
  },
  {
   "cell_type": "markdown",
   "metadata": {},
   "source": [
    "**Once the load is complete**, examine the data by printing it in the next cell.\n",
    "The `Dimensions` argument revels the number of time steps in the data set, as well as the number of pixels in the `x` (longitude) and `y` (latitude) dimensions."
   ]
  },
  {
   "cell_type": "code",
   "execution_count": null,
   "metadata": {},
   "outputs": [],
   "source": [
    "ds"
   ]
  },
  {
   "cell_type": "markdown",
   "metadata": {},
   "source": [
    "### Plot example timestep in true colour\n",
    "\n",
    "To visualise the data, use the pre-loaded `rgb` utility function to plot a true colour image for a given time-step. \n",
    "\n",
    "The settings below will display images for a two time steps, one in November 2017, one in January 2019.\n",
    "White areas indicate where clouds or other invalid pixels in the image have been masked.\n",
    "What are the key differences between the two images?\n",
    "\n",
    "Feel free to experiement with the values for the `initial_timestep` and `final_timestep` variables; re-run the cell to plot the images for the new timesteps.\n",
    "The values for the timesteps can be `0` to `n_time - 1` where `n_time` is the number of timesteps (see the `time` listing under the `Dimensions` category in the dataset print-out above).\n",
    "\n",
    "> **Note:** if the location and time are changed, you may need to change the `intial_timestep` and `final_timestep` parameters to view images at similar times of year."
   ]
  },
  {
   "cell_type": "code",
   "execution_count": null,
   "metadata": {},
   "outputs": [],
   "source": [
    "# Set the timesteps to visualise\n",
    "initial_timestep = 3\n",
    "final_timestep = 28\n",
    "\n",
    "# Generate RGB plots at each timestep\n",
    "rgb(ds, index=[initial_timestep, final_timestep],\n",
    "    percentile_stretch=[0.01, 0.99])"
   ]
  },
  {
   "cell_type": "markdown",
   "metadata": {},
   "source": [
    "## Compute band indices\n",
    "This study measures the presence of water through the modified normalised difference water index (MNDWI) and clorophyll-*a* through the normalised difference clorophyll index (NDCI).\n",
    "\n",
    "MNDWI is calculated from the green and shortwave infrared (SWIR) bands to identify water.\n",
    "The formula is\n",
    "\n",
    "$$\n",
    "\\begin{aligned}\n",
    "\\text{MNDWI} = \\frac{\\text{Green} - \\text{SWIR}}{\\text{Green} + \\text{SWIR}}.\n",
    "\\end{aligned}\n",
    "$$\n",
    "\n",
    "When interpreting this index, values greater than 0 indicate water.\n",
    "\n",
    "NDCI is calculated from the red edge 1 and red bands to identify water.\n",
    "The formula is\n",
    "\n",
    "$$\n",
    "\\begin{aligned}\n",
    "\\text{NDCI} = \\frac{\\text{Red edge 1} - \\text{Red}}{\\text{Red edge 1} + \\text{Red}}.\n",
    "\\end{aligned}\n",
    "$$\n",
    "\n",
    "When interpreting this index, high values indicate the presence of clorophyll-*a*.\n",
    "\n",
    "Both indices are available through the [calculate_indices](../Frequently_used_code/Calculating_band_indices.ipynb) function, imported from [deafrica_tools.bandindices](https://docs.digitalearthafrica.org/en/latest/sandbox/notebooks/Tools/gen/deafrica_tools.bandindices.html).\n",
    "Here, we use `satellite_mission=\"s2\"` since we're working with Sentinel-2 data."
   ]
  },
  {
   "cell_type": "code",
   "execution_count": null,
   "metadata": {},
   "outputs": [],
   "source": [
    "# Calculate MNDWI and add it to the loaded data set\n",
    "ds = calculate_indices(ds, index=\"MNDWI\", satellite_mission=\"s2\")\n",
    "\n",
    "# Calculate NDCI and add it to the loaded data set\n",
    "ds = calculate_indices(ds, index=\"NDCI\", satellite_mission=\"s2\")"
   ]
  },
  {
   "cell_type": "markdown",
   "metadata": {},
   "source": [
    "The MNDWI and NDCI values should now appear as data variables, along with the loaded measurements, in the `ds` data set.\n",
    "Check this by printing the data set below:"
   ]
  },
  {
   "cell_type": "code",
   "execution_count": null,
   "metadata": {},
   "outputs": [],
   "source": [
    "ds"
   ]
  },
  {
   "cell_type": "markdown",
   "metadata": {},
   "source": [
    "## Build summary plot\n",
    "To get an understanding of how the waterbody has changed over time, the following section builds a plot that uses the MNDWI to measure the rough area of the waterbody, along with the NDCI to track how the concentration of clorophyll-*a* is changing over time.\n",
    "This could be used to quickly assess the status of a given waterbody."
   ]
  },
  {
   "cell_type": "markdown",
   "metadata": {},
   "source": [
    "### Set up constants\n",
    "The number of pixels classified as water (MNDWI > 0) can be used as a proxy for the area of the waterbody if the pixel area is known. \n",
    "Run the following cell to generate the necessary constants for performing this conversion."
   ]
  },
  {
   "cell_type": "code",
   "execution_count": null,
   "metadata": {},
   "outputs": [],
   "source": [
    "# Constants for calculating waterbody area\n",
    "pixel_length = query[\"resolution\"][1]  # in metres\n",
    "m_per_km = 1000  # conversion from metres to kilometres\n",
    "\n",
    "area_per_pixel = pixel_length**2 / m_per_km**2"
   ]
  },
  {
   "cell_type": "markdown",
   "metadata": {},
   "source": [
    "### Compute the total water area\n",
    "The next cell starts by filtering the data set to only keep the pixels that are classified as water. \n",
    "It then calculates the water area by counting all of the MNDWI pixels in the filtered data set, calculating a rolling median (this helps smooth the results to account for variation from cloud-masking), then multiplies this median count by the area-per-pixel.\n",
    "\n",
    ">**Note**: We recommend opening the Dask processing window to view the different computations that are being executed; to do this, see the *Dask dashboard in DE Africa* section of the [Dask notebook](../Beginners_guide/08_Parallel_processing_with_dask.ipynb)."
   ]
  },
  {
   "cell_type": "code",
   "execution_count": null,
   "metadata": {},
   "outputs": [],
   "source": [
    "# Filter the data to contain only pixels classified as water\n",
    "ds_waterarea = ds.where(ds.MNDWI > 0.0)\n",
    "\n",
    "# Calculate the total water area (in km^2)\n",
    "waterarea = (\n",
    "    ds_waterarea.MNDWI.count(dim=[\"x\", \"y\"])\n",
    "    .rolling(time=3, center=True, min_periods=1)\n",
    "    .median(skipna=True)\n",
    "    * area_per_pixel\n",
    ").persist()\n",
    "\n",
    "# Plot the resulting water area through time\n",
    "fig, axes = plt.subplots(1, 1, figsize=(12, 4))\n",
    "waterarea.plot(linestyle=\":\", marker=\"s\", color=\"k\")\n",
    "axes.set_xlabel(\"Date\")\n",
    "axes.set_ylabel(\"Waterbody area (km$^2$)\")\n",
    "plt.show()"
   ]
  },
  {
   "cell_type": "markdown",
   "metadata": {},
   "source": [
    "### Compute the average NDCI\n",
    "The next cell computes the average NDCI for each time step using the filtered data set.\n",
    "This means that we're only tracking the NDCI in waterbody areas, and not on any land.\n",
    "To make the summary plot, we calculate NDCI across all pixels; this allows us to track overall changes in NDCI, but doesn't tell us where the increase occured within the waterbody (this is covered in the next section).\n",
    "\n",
    ">**Note**: We recommend opening the Dask processing window to view the different computations that are being executed; to do this, see the *Dask dashboard in DE Africa* section of the [Dask notebook](../Beginners_guide/08_Parallel_processing_with_dask.ipynb)."
   ]
  },
  {
   "cell_type": "code",
   "execution_count": null,
   "metadata": {},
   "outputs": [],
   "source": [
    "# Calculate the average NDCI\n",
    "average_ndci = ds_waterarea.NDCI.mean(dim=[\"x\", \"y\"], skipna=True).persist()\n",
    "\n",
    "# Plot average NDCI through time\n",
    "fig, axes = plt.subplots(1, 1, figsize=(12, 4))\n",
    "average_ndci.plot(linestyle=\":\", marker=\"s\", color=\"k\")\n",
    "axes.set_xlabel(\"Date\")\n",
    "axes.set_ylabel(\"Average NDCI\")\n",
    "plt.show()"
   ]
  },
  {
   "cell_type": "markdown",
   "metadata": {},
   "source": [
    "### Combine the data to build the summary plot\n",
    "The cell below combines the total water area and average NDCI time series we generated above into a single summary plot. \n",
    "Notice that Python can be used to build highly-customised plots.\n",
    "If you're interested, take some time to understand how the plot is built.\n",
    "Otherwise, run the cell to build the plot.\n",
    "\n",
    "> **Note**: The colour map used below is normalised so that the maximum `NDCI` value is 0.5, which is thought to correspond to a severe algal bloom event [(Mishra and Mishra 2012)](https://doi.org/10.1016/j.rse.2011.10.016). \n",
    "The minimum `NDCI` value of -0.1 corresponds to low conentrations of chlorophyll-*a*.\n",
    "This makes it more straightforward to identify severe algal bloom events in the plot."
   ]
  },
  {
   "cell_type": "code",
   "execution_count": null,
   "metadata": {},
   "outputs": [],
   "source": [
    "# Set up the figure\n",
    "fig, axes = plt.subplots(1, 1, figsize=(12, 4))\n",
    "\n",
    "# Set the colour map to use and the normalisation. NDCI is plotted on a scale\n",
    "# of -0.1 to 0.5 so the colour map is normalised to these values\n",
    "min_ndci_scale = -0.1\n",
    "max_ndci_scale = 0.5\n",
    "cmap = plt.get_cmap(\"cividis\")\n",
    "normal = plt.Normalize(vmin=min_ndci_scale, vmax=max_ndci_scale)\n",
    "\n",
    "# Store the dates from the data set as numbers for ease of plotting\n",
    "dates = matplotlib.dates.date2num(ds_waterarea.time.values)\n",
    "\n",
    "# Add the basic plot to the figure\n",
    "# This is just a line showing the area of the waterbody over time\n",
    "axes.plot_date(x=dates, y=waterarea, color=\"black\", linestyle=\"-\", marker=\"\")\n",
    "\n",
    "# Fill in the plot by looping over the possible threshold values and filling\n",
    "# the areas that are greater than the threshold\n",
    "color_vals = np.linspace(0, 1, 100)\n",
    "threshold_vals = np.linspace(min_ndci_scale, max_ndci_scale, 100)\n",
    "for ii, thresh in enumerate(threshold_vals):\n",
    "    im = axes.fill_between(dates,\n",
    "                           0,\n",
    "                           waterarea,\n",
    "                           where=(average_ndci >= thresh),\n",
    "                           norm=normal,\n",
    "                           facecolor=cmap(color_vals[ii]),\n",
    "                           alpha=1)\n",
    "\n",
    "# Add the colour bar to the plot\n",
    "cax, _ = matplotlib.colorbar.make_axes(axes)\n",
    "cb2 = matplotlib.colorbar.ColorbarBase(cax, cmap=cmap, norm=normal)\n",
    "cb2.set_label(\"NDCI\")\n",
    "\n",
    "# Add titles and labels to the plot\n",
    "axes.set_xlabel(\"Date\")\n",
    "axes.set_ylabel(\"Waterbody area (km$^2$)\")\n",
    "plt.show()"
   ]
  },
  {
   "cell_type": "markdown",
   "metadata": {},
   "source": [
    "What does the plot reveal about the waterbody? \n",
    "Are there periods that show high NDCI values?"
   ]
  },
  {
   "cell_type": "markdown",
   "metadata": {},
   "source": [
    "## Compare spatial NDCI at two different dates\n",
    "While the summary plot is useful at a glance it can be interesting to see the full spatial picture at times where the NDCI is low vs. high.\n",
    "The code below defines two useful functions: `closest_date` will find the date in a list of dates closest to any given date; `date_index` will return the position of a particular date in a list of dates. \n",
    "These functions are useful for selecting images to compare. "
   ]
  },
  {
   "cell_type": "code",
   "execution_count": null,
   "metadata": {},
   "outputs": [],
   "source": [
    "def closest_date(list_of_dates, desired_date):\n",
    "    return min(list_of_dates,\n",
    "               key=lambda x: abs(x - np.datetime64(desired_date)))\n",
    "\n",
    "def date_index(list_of_dates, known_date):\n",
    "    return (np.where(list_of_dates == known_date)[0][0])"
   ]
  },
  {
   "cell_type": "markdown",
   "metadata": {},
   "source": [
    "Run the cell below to set two dates to compare.\n",
    "Feel free to change the dates to look at the NDCI of the waterbody at different times."
   ]
  },
  {
   "cell_type": "code",
   "execution_count": null,
   "metadata": {},
   "outputs": [],
   "source": [
    "# Set the dates to view\n",
    "date_1 = \"2018-10-15\"\n",
    "date_2 = \"2018-12-15\"\n",
    "\n",
    "# Compute the closest date available from the data set\n",
    "closest_date_1 = closest_date(ds.time.values, date_1)\n",
    "closest_date_2 = closest_date(ds.time.values, date_2)\n",
    "\n",
    "# Make an xarray containing the closest dates, which is used to select\n",
    "# the dates from the data set\n",
    "time_xr = xr.DataArray([closest_date_1, closest_date_2], dims=[\"time\"])\n",
    "\n",
    "# Plot the NDCI values for pixels classified as water for the two dates.\n",
    "ds_waterarea.NDCI.sel(time=time_xr).plot.imshow(\"x\",\n",
    "                                               \"y\",\n",
    "                                               col=\"time\",\n",
    "                                               cmap=cmap,\n",
    "                                               vmin=min_ndci_scale,\n",
    "                                               vmax=max_ndci_scale,\n",
    "                                               col_wrap=2,\n",
    "                                               robust=True,\n",
    "                                               figsize=(12, 6))\n",
    "plt.show()"
   ]
  },
  {
   "cell_type": "markdown",
   "metadata": {},
   "source": [
    "Run the cell below to see the true-colour images for the same dates"
   ]
  },
  {
   "cell_type": "code",
   "execution_count": null,
   "metadata": {},
   "outputs": [],
   "source": [
    "# Compute the index of the closest dates\n",
    "closest_date_1_idx = date_index(ds.time.values, closest_date_1)\n",
    "closest_date_2_idx = date_index(ds.time.values, closest_date_2)\n",
    "\n",
    "# Make the true colour plots for the closest dates\n",
    "rgb(ds, index=[closest_date_1_idx, closest_date_2_idx],\n",
    "   percentile_stretch=[0.02, 0.95])"
   ]
  },
  {
   "cell_type": "markdown",
   "metadata": {},
   "source": [
    "## Drawing conclusions\n",
    "Here are some questions to think about:\n",
    "\n",
    "* How well do increased NDCI values match with what you see in the true-colour images?\n",
    "* When would it be more helpful to use the summary plot vs. the time comparison plot and vice-versa?\n",
    "* What does the water look like in the true-colour image when the NDCI is low-to-medium vs. high?\n",
    "* What other information might you seek if you detected an abnormally high NDCI value?"
   ]
  },
  {
   "cell_type": "markdown",
   "metadata": {},
   "source": [
    "## Next steps\n",
    "\n",
    "When you are done, return to the \"Analysis parameters\" section, modify some values (e.g. `lat`, `lon` or `time`) and rerun the analysis.\n",
    "You can use the interactive map in the \"View the selected location\" section to find new central latitude and longitude values by panning and zooming, and then clicking on the area you wish to extract location values for.\n",
    "You can also use Google maps to search for a location you know, then return the latitude and longitude values by clicking the map.\n",
    "\n",
    "If you're going to change the location, you'll need to make sure Sentinel-2 data is available for the new location, which you can check at the [DEAfrica Explorer](https://explorer.digitalearth.africa).\n",
    "Use the drop-down menu to check `s2a_l2a` coverage. \n",
    "\n",
    "If you want to look at Weija Reservoir, try the following coordinates over the same time period as the original example:\n",
    "\n",
    "```\n",
    "lat = 5.577\n",
    "lon = -0.362\n",
    "```"
   ]
  },
  {
   "cell_type": "markdown",
   "metadata": {},
   "source": [
    "---\n",
    "\n",
    "## Additional information\n",
    "\n",
    "**License:** The code in this notebook is licensed under the [Apache License, Version 2.0](https://www.apache.org/licenses/LICENSE-2.0). \n",
    "Digital Earth Africa data is licensed under the [Creative Commons by Attribution 4.0](https://creativecommons.org/licenses/by/4.0/) license.\n",
    "\n",
    "**Contact:** If you need assistance, please post a question on the [Open Data Cube Slack channel](http://slack.opendatacube.org/) or on the [GIS Stack Exchange](https://gis.stackexchange.com/questions/ask?tags=open-data-cube) using the `open-data-cube` tag (you can view previously asked questions [here](https://gis.stackexchange.com/questions/tagged/open-data-cube)).\n",
    "If you would like to report an issue with this notebook, you can file one on [Github](https://github.com/digitalearthafrica/deafrica-sandbox-notebooks).\n",
    "\n",
    "**Compatible datacube version:**"
   ]
  },
  {
   "cell_type": "code",
   "execution_count": null,
   "metadata": {},
   "outputs": [],
   "source": [
    "print(datacube.__version__)"
   ]
  },
  {
   "cell_type": "markdown",
   "metadata": {},
   "source": [
    "**Last Tested:**"
   ]
  },
  {
   "cell_type": "code",
   "execution_count": null,
   "metadata": {
    "raw_mimetype": "text/restructuredtext"
   },
   "outputs": [],
   "source": [
    "from datetime import datetime\n",
    "datetime.today().strftime('%Y-%m-%d')"
   ]
  }
 ],
 "metadata": {
  "kernelspec": {
   "display_name": "Python 3 (ipykernel)",
   "language": "python",
   "name": "python3"
  },
  "language_info": {
   "codemirror_mode": {
    "name": "ipython",
    "version": 3
   },
   "file_extension": ".py",
   "mimetype": "text/x-python",
   "name": "python",
   "nbconvert_exporter": "python",
   "pygments_lexer": "ipython3",
   "version": "3.8.10"
  },
  "widgets": {
   "application/vnd.jupyter.widget-state+json": {
    "state": {},
    "version_major": 2,
    "version_minor": 0
   }
  }
 },
 "nbformat": 4,
 "nbformat_minor": 4
}
