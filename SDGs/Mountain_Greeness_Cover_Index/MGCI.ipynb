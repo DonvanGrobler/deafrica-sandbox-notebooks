{
 "cells": [
  {
   "cell_type": "markdown",
   "metadata": {},
   "source": [
    "<img align=\"left\" src=\"../../Supplementary_data/DE_Africa_Logo_Stacked_RGB_small.jpg\" width=\"15%\">\n",
    "<img align=\"right\" src=\"../../Supplementary_data/MGCI/FAO_logo_Blue_3lines_en.jpeg\" width=\"50%\">"
   ]
  },
  {
   "cell_type": "markdown",
   "metadata": {
    "tags": []
   },
   "source": [
    "#  Mountain Green Cover Index Notebook (SDG 15.4.2)"
   ]
  },
  {
   "cell_type": "raw",
   "metadata": {},
   "source": [
    "**Disclaimer**:  The notebook is work in progress. This workshop will be a good forum to get feedback to refine the notebook. Thank you."
   ]
  },
  {
   "cell_type": "markdown",
   "metadata": {},
   "source": [
    "## Background\n",
    "\n",
    "<h3>Goal 15: </h3>\n",
    "\n",
    "Protect, restore and promote sustainable use of terrestrial ecosystems, manage sustainably forests, combat desertification,and halt and reverse land degradation and halt biodiversity loss.\n",
    "\n",
    "SDG indicators 15.4.2: The Mountain Green Cover Index (MGCI) is designed to measure the extent and the changes of green vegetation in mountain areas - i.e. forest, shrubs, trees, pasture land, crop land, etc. – in order to monitor progress towards the mountain target. MGCI is defined as the percentage of green cover over the total surface of the mountain region of a given country and for given reporting year. The aim of the index is to monitor the evolution of the green cover and thus assess the status of conservation of mountain ecosystems.More information on MGCI can be found [here](https://www.fao.org/sustainable-development-goals/indicators/1542/en/)"
   ]
  },
  {
   "cell_type": "markdown",
   "metadata": {},
   "source": [
    "## Description\n",
    "\n",
    "The methodology to calculate the Mountain Green Cover index was initially developed by FAO (De Simone et al., 2021, https://doi.org/10.3390/ijgi10070427)\n",
    "\n",
    "The Mountain Green Cover index is calculated using two descriptor layers of information:\n",
    "\n",
    "1. A mountain descriptor layer: mountains can be defined with reference to a variety of\n",
    "parameters, such as climate, elevation, ecology (Körner et al., 2011) (Karagulle et al., 2017). This\n",
    "methodology adheres to the UNEP- WCMC mountain definition, relying in turn on the mountain\n",
    "description proposed by Kapos et al. (2000).\n",
    "\n",
    "2. A vegetation descriptor layer: The vegetation descriptor layer categorizes land cover into green\n",
    "and non-green areas. Green vegetation includes both natural vegetation and vegetation resulting from\n",
    "anthropic activity (e.g. crops, afforestation, etc.). Non-green areas include very sparsely vegetated areas,\n",
    "bare land, water, permanent ice/snow and urban areas. The vegetation description layer can be derived in\n",
    "different ways, but remote sensing based land cover maps are the most convenient data source for this\n",
    "purpose, as they provide the required information on green and non-green areas in a spatially explicit\n",
    "manner and allow for comparison over time through land cover change analysis.\n",
    "\n",
    "Currently, FAO uses land cover time series produced by the European Space Agency (ESA) under the\n",
    "Climate Change Initiative (CCI) as a general solution.\n",
    "More information [here](https://hqfao.maps.arcgis.com/home/item.html?id=701f5aea91d141adbc0c4aa0bacb8739)"
   ]
  },
  {
   "cell_type": "markdown",
   "metadata": {},
   "source": [
    "The notebook does the following\n",
    "\n",
    "1. Calculate the Kapos Mountain Range class for the study area\n",
    "2. Reclassify ESA CCI to IPCC Classification and Green and Non Green\n",
    "3. Generate the Mountain Green Cover Index(MGCI)"
   ]
  },
  {
   "cell_type": "code",
   "execution_count": 1,
   "metadata": {},
   "outputs": [],
   "source": [
    "%matplotlib inline\n",
    "\n",
    "import os\n",
    "import datacube\n",
    "import matplotlib.pyplot as plt\n",
    "import xarray as xr\n",
    "import numpy as np\n",
    "import geopandas as gpd\n",
    "import pandas as pd\n",
    "from scipy.ndimage import uniform_filter, maximum_filter, minimum_filter\n",
    "from datacube.utils.cog import write_cog\n",
    "\n",
    "from deafrica_tools.datahandling import load_ard\n",
    "from deafrica_tools.plotting import rgb, display_map, plot_lulc\n",
    "from deafrica_tools.bandindices import calculate_indices\n",
    "from deafrica_tools.dask import create_local_dask_cluster\n",
    "from deafrica_tools.spatial import xr_rasterize\n",
    "\n",
    "from odc.algo import xr_reproject"
   ]
  },
  {
   "cell_type": "markdown",
   "metadata": {},
   "source": [
    "### Create the output directory to store the results."
   ]
  },
  {
   "cell_type": "code",
   "execution_count": 2,
   "metadata": {},
   "outputs": [],
   "source": [
    "output_dir = \"results\"\n",
    "os.makedirs(output_dir, exist_ok=True)"
   ]
  },
  {
   "cell_type": "code",
   "execution_count": 3,
   "metadata": {},
   "outputs": [],
   "source": [
    "dc = datacube.Datacube(app=\"mgci\")"
   ]
  },
  {
   "cell_type": "code",
   "execution_count": 4,
   "metadata": {},
   "outputs": [
    {
     "data": {
      "text/html": [
       "<table style=\"border: 2px solid white;\">\n",
       "<tr>\n",
       "<td style=\"vertical-align: top; border: 0px solid white\">\n",
       "<h3 style=\"text-align: left;\">Client</h3>\n",
       "<ul style=\"text-align: left; list-style: none; margin: 0; padding: 0;\">\n",
       "  <li><b>Scheduler: </b>tcp://127.0.0.1:40573</li>\n",
       "  <li><b>Dashboard: </b><a href='/user/nanaboamah89@gmail.com/proxy/8787/status' target='_blank'>/user/nanaboamah89@gmail.com/proxy/8787/status</a></li>\n",
       "</ul>\n",
       "</td>\n",
       "<td style=\"vertical-align: top; border: 0px solid white\">\n",
       "<h3 style=\"text-align: left;\">Cluster</h3>\n",
       "<ul style=\"text-align: left; list-style:none; margin: 0; padding: 0;\">\n",
       "  <li><b>Workers: </b>1</li>\n",
       "  <li><b>Cores: </b>4</li>\n",
       "  <li><b>Memory: </b>28.14 GB</li>\n",
       "</ul>\n",
       "</td>\n",
       "</tr>\n",
       "</table>"
      ],
      "text/plain": [
       "<Client: 'tcp://127.0.0.1:40573' processes=1 threads=4, memory=28.14 GB>"
      ]
     },
     "metadata": {},
     "output_type": "display_data"
    }
   ],
   "source": [
    "create_local_dask_cluster()"
   ]
  },
  {
   "cell_type": "code",
   "execution_count": 5,
   "metadata": {},
   "outputs": [],
   "source": [
    "africa_data = gpd.read_file('../../Supplementary_data/MGCI/africa_.geojson')\n",
    "time = '2019'"
   ]
  },
  {
   "cell_type": "markdown",
   "metadata": {},
   "source": [
    "### List of Countries "
   ]
  },
  {
   "cell_type": "code",
   "execution_count": 6,
   "metadata": {},
   "outputs": [
    {
     "data": {
      "text/plain": [
       "array(['Algeria', 'Angola', 'Benin', 'Botswana', 'Burkina Faso',\n",
       "       'Burundi', 'Cameroon', 'Cape Verde', 'Central African Republic',\n",
       "       'Chad', 'Comoros', 'Congo-Brazzaville', 'Cote d`Ivoire',\n",
       "       'Democratic Republic of Congo', 'Djibouti', 'Egypt',\n",
       "       'Equatorial Guinea', 'Eritrea', 'Ethiopia', 'Gabon', 'Gambia',\n",
       "       'Ghana', 'Guinea', 'Guinea-Bissau', 'Kenya', 'Lesotho', 'Liberia',\n",
       "       'Libya', 'Madagascar', 'Malawi', 'Mali', 'Mauritania', 'Morocco',\n",
       "       'Mozambique', 'Namibia', 'Niger', 'Nigeria', 'Rwanda',\n",
       "       'Sao Tome and Principe', 'Senegal', 'Sierra Leone', 'Somalia',\n",
       "       'South Africa', 'Sudan', 'Swaziland', 'Tanzania', 'Togo',\n",
       "       'Tunisia', 'Uganda', 'Western Sahara', 'Zambia', 'Zimbabwe'],\n",
       "      dtype=object)"
      ]
     },
     "execution_count": 6,
     "metadata": {},
     "output_type": "execute_result"
    }
   ],
   "source": [
    "np.unique(africa_data['COUNTRY'])"
   ]
  },
  {
   "cell_type": "markdown",
   "metadata": {},
   "source": [
    "From the Countries above, you can choose any and type it at the country variable below"
   ]
  },
  {
   "cell_type": "code",
   "execution_count": 7,
   "metadata": {},
   "outputs": [],
   "source": [
    "country = 'Rwanda'\n",
    "africa_ds = africa_data.where(africa_data['COUNTRY'] == country)"
   ]
  },
  {
   "cell_type": "code",
   "execution_count": 8,
   "metadata": {},
   "outputs": [],
   "source": [
    "bbox=list(africa_ds.total_bounds)\n",
    "lon_range = (bbox[0], bbox[2])\n",
    "lat_range = (bbox[1], bbox[3])"
   ]
  },
  {
   "cell_type": "code",
   "execution_count": 9,
   "metadata": {},
   "outputs": [
    {
     "data": {
      "text/html": [
       "<div style=\"width:100%;\"><div style=\"position:relative;width:100%;height:0;padding-bottom:60%;\"><span style=\"color:#565656\">Make this Notebook Trusted to load map: File -> Trust Notebook</span><iframe src=\"about:blank\" style=\"position:absolute;width:100%;height:100%;left:0;top:0;border:none !important;\" data-html=%3C%21DOCTYPE%20html%3E%0A%3Chead%3E%20%20%20%20%0A%20%20%20%20%3Cmeta%20http-equiv%3D%22content-type%22%20content%3D%22text/html%3B%20charset%3DUTF-8%22%20/%3E%0A%20%20%20%20%0A%20%20%20%20%20%20%20%20%3Cscript%3E%0A%20%20%20%20%20%20%20%20%20%20%20%20L_NO_TOUCH%20%3D%20false%3B%0A%20%20%20%20%20%20%20%20%20%20%20%20L_DISABLE_3D%20%3D%20false%3B%0A%20%20%20%20%20%20%20%20%3C/script%3E%0A%20%20%20%20%0A%20%20%20%20%3Cstyle%3Ehtml%2C%20body%20%7Bwidth%3A%20100%25%3Bheight%3A%20100%25%3Bmargin%3A%200%3Bpadding%3A%200%3B%7D%3C/style%3E%0A%20%20%20%20%3Cstyle%3E%23map%20%7Bposition%3Aabsolute%3Btop%3A0%3Bbottom%3A0%3Bright%3A0%3Bleft%3A0%3B%7D%3C/style%3E%0A%20%20%20%20%3Cscript%20src%3D%22https%3A//cdn.jsdelivr.net/npm/leaflet%401.6.0/dist/leaflet.js%22%3E%3C/script%3E%0A%20%20%20%20%3Cscript%20src%3D%22https%3A//code.jquery.com/jquery-1.12.4.min.js%22%3E%3C/script%3E%0A%20%20%20%20%3Cscript%20src%3D%22https%3A//maxcdn.bootstrapcdn.com/bootstrap/3.2.0/js/bootstrap.min.js%22%3E%3C/script%3E%0A%20%20%20%20%3Cscript%20src%3D%22https%3A//cdnjs.cloudflare.com/ajax/libs/Leaflet.awesome-markers/2.0.2/leaflet.awesome-markers.js%22%3E%3C/script%3E%0A%20%20%20%20%3Clink%20rel%3D%22stylesheet%22%20href%3D%22https%3A//cdn.jsdelivr.net/npm/leaflet%401.6.0/dist/leaflet.css%22/%3E%0A%20%20%20%20%3Clink%20rel%3D%22stylesheet%22%20href%3D%22https%3A//maxcdn.bootstrapcdn.com/bootstrap/3.2.0/css/bootstrap.min.css%22/%3E%0A%20%20%20%20%3Clink%20rel%3D%22stylesheet%22%20href%3D%22https%3A//maxcdn.bootstrapcdn.com/bootstrap/3.2.0/css/bootstrap-theme.min.css%22/%3E%0A%20%20%20%20%3Clink%20rel%3D%22stylesheet%22%20href%3D%22https%3A//maxcdn.bootstrapcdn.com/font-awesome/4.6.3/css/font-awesome.min.css%22/%3E%0A%20%20%20%20%3Clink%20rel%3D%22stylesheet%22%20href%3D%22https%3A//cdnjs.cloudflare.com/ajax/libs/Leaflet.awesome-markers/2.0.2/leaflet.awesome-markers.css%22/%3E%0A%20%20%20%20%3Clink%20rel%3D%22stylesheet%22%20href%3D%22https%3A//cdn.jsdelivr.net/gh/python-visualization/folium/folium/templates/leaflet.awesome.rotate.min.css%22/%3E%0A%20%20%20%20%0A%20%20%20%20%20%20%20%20%20%20%20%20%3Cmeta%20name%3D%22viewport%22%20content%3D%22width%3Ddevice-width%2C%0A%20%20%20%20%20%20%20%20%20%20%20%20%20%20%20%20initial-scale%3D1.0%2C%20maximum-scale%3D1.0%2C%20user-scalable%3Dno%22%20/%3E%0A%20%20%20%20%20%20%20%20%20%20%20%20%3Cstyle%3E%0A%20%20%20%20%20%20%20%20%20%20%20%20%20%20%20%20%23map_6e7c7e75799b48beb79b6469f51131db%20%7B%0A%20%20%20%20%20%20%20%20%20%20%20%20%20%20%20%20%20%20%20%20position%3A%20relative%3B%0A%20%20%20%20%20%20%20%20%20%20%20%20%20%20%20%20%20%20%20%20width%3A%20100.0%25%3B%0A%20%20%20%20%20%20%20%20%20%20%20%20%20%20%20%20%20%20%20%20height%3A%20100.0%25%3B%0A%20%20%20%20%20%20%20%20%20%20%20%20%20%20%20%20%20%20%20%20left%3A%200.0%25%3B%0A%20%20%20%20%20%20%20%20%20%20%20%20%20%20%20%20%20%20%20%20top%3A%200.0%25%3B%0A%20%20%20%20%20%20%20%20%20%20%20%20%20%20%20%20%7D%0A%20%20%20%20%20%20%20%20%20%20%20%20%3C/style%3E%0A%20%20%20%20%20%20%20%20%0A%3C/head%3E%0A%3Cbody%3E%20%20%20%20%0A%20%20%20%20%0A%20%20%20%20%20%20%20%20%20%20%20%20%3Cdiv%20class%3D%22folium-map%22%20id%3D%22map_6e7c7e75799b48beb79b6469f51131db%22%20%3E%3C/div%3E%0A%20%20%20%20%20%20%20%20%0A%3C/body%3E%0A%3Cscript%3E%20%20%20%20%0A%20%20%20%20%0A%20%20%20%20%20%20%20%20%20%20%20%20var%20map_6e7c7e75799b48beb79b6469f51131db%20%3D%20L.map%28%0A%20%20%20%20%20%20%20%20%20%20%20%20%20%20%20%20%22map_6e7c7e75799b48beb79b6469f51131db%22%2C%0A%20%20%20%20%20%20%20%20%20%20%20%20%20%20%20%20%7B%0A%20%20%20%20%20%20%20%20%20%20%20%20%20%20%20%20%20%20%20%20center%3A%20%5B-1.94275000000016%2C%2029.87637499999255%5D%2C%0A%20%20%20%20%20%20%20%20%20%20%20%20%20%20%20%20%20%20%20%20crs%3A%20L.CRS.EPSG3857%2C%0A%20%20%20%20%20%20%20%20%20%20%20%20%20%20%20%20%20%20%20%20zoom%3A%208%2C%0A%20%20%20%20%20%20%20%20%20%20%20%20%20%20%20%20%20%20%20%20zoomControl%3A%20true%2C%0A%20%20%20%20%20%20%20%20%20%20%20%20%20%20%20%20%20%20%20%20preferCanvas%3A%20false%2C%0A%20%20%20%20%20%20%20%20%20%20%20%20%20%20%20%20%7D%0A%20%20%20%20%20%20%20%20%20%20%20%20%29%3B%0A%0A%20%20%20%20%20%20%20%20%20%20%20%20%0A%0A%20%20%20%20%20%20%20%20%0A%20%20%20%20%0A%20%20%20%20%20%20%20%20%20%20%20%20var%20tile_layer_3ebce3970ab645559a8fdeadddf062e9%20%3D%20L.tileLayer%28%0A%20%20%20%20%20%20%20%20%20%20%20%20%20%20%20%20%22http%3A//mt1.google.com/vt/lyrs%3Dy%5Cu0026z%3D%7Bz%7D%5Cu0026x%3D%7Bx%7D%5Cu0026y%3D%7By%7D%22%2C%0A%20%20%20%20%20%20%20%20%20%20%20%20%20%20%20%20%7B%22attribution%22%3A%20%22Google%22%2C%20%22detectRetina%22%3A%20false%2C%20%22maxNativeZoom%22%3A%2018%2C%20%22maxZoom%22%3A%2018%2C%20%22minZoom%22%3A%200%2C%20%22noWrap%22%3A%20false%2C%20%22opacity%22%3A%201%2C%20%22subdomains%22%3A%20%22abc%22%2C%20%22tms%22%3A%20false%7D%0A%20%20%20%20%20%20%20%20%20%20%20%20%29.addTo%28map_6e7c7e75799b48beb79b6469f51131db%29%3B%0A%20%20%20%20%20%20%20%20%0A%20%20%20%20%0A%20%20%20%20%20%20%20%20%20%20%20%20var%20poly_line_7341e38b65a141b0a8d11b9c3fef369d%20%3D%20L.polyline%28%0A%20%20%20%20%20%20%20%20%20%20%20%20%20%20%20%20%5B%5B-2.840680000001157%2C%2028.856789999990724%5D%2C%20%5B-2.840680000001157%2C%2030.895959999994375%5D%2C%20%5B-1.044819999999163%2C%2030.895959999994375%5D%2C%20%5B-1.044819999999163%2C%2028.856789999990724%5D%2C%20%5B-2.840680000001157%2C%2028.856789999990724%5D%5D%2C%0A%20%20%20%20%20%20%20%20%20%20%20%20%20%20%20%20%7B%22bubblingMouseEvents%22%3A%20true%2C%20%22color%22%3A%20%22red%22%2C%20%22dashArray%22%3A%20null%2C%20%22dashOffset%22%3A%20null%2C%20%22fill%22%3A%20false%2C%20%22fillColor%22%3A%20%22red%22%2C%20%22fillOpacity%22%3A%200.2%2C%20%22fillRule%22%3A%20%22evenodd%22%2C%20%22lineCap%22%3A%20%22round%22%2C%20%22lineJoin%22%3A%20%22round%22%2C%20%22noClip%22%3A%20false%2C%20%22opacity%22%3A%200.8%2C%20%22smoothFactor%22%3A%201.0%2C%20%22stroke%22%3A%20true%2C%20%22weight%22%3A%203%7D%0A%20%20%20%20%20%20%20%20%20%20%20%20%29.addTo%28map_6e7c7e75799b48beb79b6469f51131db%29%3B%0A%20%20%20%20%20%20%20%20%0A%20%20%20%20%0A%20%20%20%20%20%20%20%20%20%20%20%20%20%20%20%20var%20lat_lng_popup_8b96c71ca948457d8eaa289830cb1b5a%20%3D%20L.popup%28%29%3B%0A%20%20%20%20%20%20%20%20%20%20%20%20%20%20%20%20function%20latLngPop%28e%29%20%7B%0A%20%20%20%20%20%20%20%20%20%20%20%20%20%20%20%20%20%20%20%20lat_lng_popup_8b96c71ca948457d8eaa289830cb1b5a%0A%20%20%20%20%20%20%20%20%20%20%20%20%20%20%20%20%20%20%20%20%20%20%20%20.setLatLng%28e.latlng%29%0A%20%20%20%20%20%20%20%20%20%20%20%20%20%20%20%20%20%20%20%20%20%20%20%20.setContent%28%22Latitude%3A%20%22%20%2B%20e.latlng.lat.toFixed%284%29%20%2B%0A%20%20%20%20%20%20%20%20%20%20%20%20%20%20%20%20%20%20%20%20%20%20%20%20%20%20%20%20%20%20%20%20%20%20%20%20%22%3Cbr%3ELongitude%3A%20%22%20%2B%20e.latlng.lng.toFixed%284%29%29%0A%20%20%20%20%20%20%20%20%20%20%20%20%20%20%20%20%20%20%20%20%20%20%20%20.openOn%28map_6e7c7e75799b48beb79b6469f51131db%29%3B%0A%20%20%20%20%20%20%20%20%20%20%20%20%20%20%20%20%20%20%20%20%7D%0A%20%20%20%20%20%20%20%20%20%20%20%20%20%20%20%20map_6e7c7e75799b48beb79b6469f51131db.on%28%27click%27%2C%20latLngPop%29%3B%0A%20%20%20%20%20%20%20%20%20%20%20%20%0A%3C/script%3E onload=\"this.contentDocument.open();this.contentDocument.write(    decodeURIComponent(this.getAttribute('data-html')));this.contentDocument.close();\" allowfullscreen webkitallowfullscreen mozallowfullscreen></iframe></div></div>"
      ],
      "text/plain": [
       "<folium.folium.Map at 0x7f305147bd30>"
      ]
     },
     "execution_count": 9,
     "metadata": {},
     "output_type": "execute_result"
    }
   ],
   "source": [
    "display_map(lon_range, lat_range)"
   ]
  },
  {
   "cell_type": "code",
   "execution_count": 10,
   "metadata": {},
   "outputs": [],
   "source": [
    "#set up daatcube query object\n",
    "query = {\n",
    "    'x': lon_range,\n",
    "    'y': lat_range,\n",
    "    'output_crs': 'epsg:6933',\n",
    "    'dask_chunks': {'time': 1, 'x': 3000, 'y': 3000}\n",
    "}"
   ]
  },
  {
   "cell_type": "markdown",
   "metadata": {},
   "source": [
    "### Load dem_strm dataset at 1000m resolution "
   ]
  },
  {
   "cell_type": "code",
   "execution_count": 11,
   "metadata": {},
   "outputs": [],
   "source": [
    "ds = dc.load(product=\"dem_srtm\", resolution=(-1000, 1000), measurements='elevation', **query)"
   ]
  },
  {
   "cell_type": "markdown",
   "metadata": {},
   "source": [
    "### Neighborhood reduction operation"
   ]
  },
  {
   "cell_type": "code",
   "execution_count": 12,
   "metadata": {},
   "outputs": [],
   "source": [
    "#Implmenting the reducers on the dem results\n",
    "#var ler = dem.reduceNeighborhood({reducer: ee.Reducer.minMax(), \n",
    "#kernel: ee.Kernel.circle({radius:7000, units:’meter’})});\n",
    "def reduce_nei(da, size, pre):\n",
    "    img = da.values\n",
    "    if pre == 'max':\n",
    "        img = maximum_filter(img, size=size, mode='nearest')\n",
    "    else:\n",
    "        img = minimum_filter(img, size=size, mode='nearest')\n",
    "    \n",
    "    return img\n",
    "\n",
    "ds_max = ds.elevation.groupby(\"time\").apply(reduce_nei, size=7, pre='max')\n",
    "ds_min = ds.elevation.groupby(\"time\").apply(reduce_nei, size=7, pre='min')"
   ]
  },
  {
   "cell_type": "markdown",
   "metadata": {},
   "source": [
    "### Calculating the local elevation range (LER)"
   ]
  },
  {
   "cell_type": "code",
   "execution_count": 13,
   "metadata": {},
   "outputs": [],
   "source": [
    "ds[\"ler_range\"] = ds_max - ds_min"
   ]
  },
  {
   "cell_type": "markdown",
   "metadata": {},
   "source": [
    "### Load dem_strm_deriv dataset at 30m resolution "
   ]
  },
  {
   "cell_type": "code",
   "execution_count": 14,
   "metadata": {},
   "outputs": [],
   "source": [
    "ds_slope = dc.load(product=\"dem_srtm_deriv\", resolution=(-30, 30), measurements='slope', **query)"
   ]
  },
  {
   "cell_type": "markdown",
   "metadata": {},
   "source": [
    "### Upsampling dem_strm dataset at 1000m to 30m resolution"
   ]
  },
  {
   "cell_type": "code",
   "execution_count": 15,
   "metadata": {},
   "outputs": [],
   "source": [
    "ds = xr_reproject(src=ds, geobox=ds_slope.geobox,resampling=\"nearest\")\n",
    "mask = xr_rasterize(africa_data[africa_data['COUNTRY'] == country], ds)\n",
    "ds = ds.where(mask)"
   ]
  },
  {
   "cell_type": "markdown",
   "metadata": {},
   "source": [
    "### Generating Kapos range mountain classes"
   ]
  },
  {
   "cell_type": "code",
   "execution_count": 16,
   "metadata": {},
   "outputs": [],
   "source": [
    "classess = [0, 1, 2, 3, 4, 5, 6]\n",
    "class_label = ['Class 0', 'Class 1', 'Class 2', 'Class 3', 'Class 4', 'Class 5', 'Class 6']\n",
    "\n",
    "elevation = ds['elevation']\n",
    "slope = ds_slope['slope']\n",
    "ler_range = ds['ler_range']\n",
    "\n",
    "conditions = [\n",
    "    (elevation < 300),\n",
    "    (elevation > 4500),\n",
    "    (elevation >= 3500) & (elevation < 4500),\n",
    "    (elevation >= 2500) & (elevation < 3500),\n",
    "    (elevation >= 1500) & (elevation < 2500) & \n",
    "        (slope > 2),\n",
    "    (elevation >= 1000) & (elevation < 1500) & \n",
    "        ((slope > 5) | (ler_range > 300)),\n",
    "    (elevation >= 300) & (elevation < 1000) & (ler_range > 300),\n",
    "    ]\n",
    "\n",
    "ds['kapo_class'] = (xr.DataArray(np.select(conditions, classess), \n",
    "                                coords={'time': ds.time, 'y': ds.y, 'x': ds.x},\n",
    "             dims=['time', 'y', 'x'])).astype('int8')"
   ]
  },
  {
   "cell_type": "markdown",
   "metadata": {},
   "source": [
    "### Plotting the Kapos Mountain range classes"
   ]
  },
  {
   "cell_type": "code",
   "execution_count": null,
   "metadata": {},
   "outputs": [],
   "source": [
    "kap = ds['kapo_class'].where(mask).plot(size=6, add_colorbar=False, cmap='YlGn')\n",
    "kap_c = plt.colorbar(kap)\n",
    "kap_c.set_ticks(classess)\n",
    "kap_c.set_ticklabels(class_label)\n",
    "plt.title('KAPOS Mountain Range')\n",
    "plt.savefig(f'results/kapos_{country}')\n",
    "plt.show()"
   ]
  },
  {
   "cell_type": "markdown",
   "metadata": {},
   "source": [
    "### Loading ESA Climate Change Initiative Land Cover dataset at 300m resolution "
   ]
  },
  {
   "cell_type": "code",
   "execution_count": null,
   "metadata": {},
   "outputs": [],
   "source": [
    "#load the data\n",
    "ds_cci = dc.load(product='cci_landcover', time=time, measurements='classification',\n",
    "                  resolution=(-300, 300), **query)\n",
    "mask = xr_rasterize(africa_data[africa_data['COUNTRY'] == country], ds_cci)\n",
    "ds_cci = ds_cci.where(mask)"
   ]
  },
  {
   "cell_type": "markdown",
   "metadata": {},
   "source": [
    "### Plotting ESA CCI Land Cover classification"
   ]
  },
  {
   "cell_type": "code",
   "execution_count": null,
   "metadata": {},
   "outputs": [],
   "source": [
    "plot_lulc(ds_cci['classification'].squeeze(), product=\"CCI\", size=6)"
   ]
  },
  {
   "cell_type": "markdown",
   "metadata": {},
   "source": [
    "### Reclassify CCI land Cover to IPCC Land Cover Classes"
   ]
  },
  {
   "cell_type": "code",
   "execution_count": null,
   "metadata": {},
   "outputs": [],
   "source": [
    "ipcc_classess = ['Forest', 'Cropland', 'Grassland', 'Wetland', 'Other land', 'Settlement']\n",
    "ipcc_classess_num = [1, 2, 3, 4, 5, 6]\n",
    "\n",
    "ds_clas = ds_cci['classification']\n",
    "#IPCC Classification\n",
    "forest = [50, 60, 61, 62, 70, 71, 72, 80, 81, 82, 90, 100]\n",
    "cropland = [10, 11, 12, 20, 30, 110]\n",
    "grassland = [40, 120, 121, 122, 130, 140]\n",
    "wetland = [160, 170, 180]\n",
    "otherland = [150, 151, 152, 153, 200, 201, 202, 210, 220]\n",
    "settlement = [190]\n",
    "\n",
    "ipcc_condition = [\n",
    "    ds_clas.isin(forest),\n",
    "    ds_clas.isin(cropland),\n",
    "    ds_clas.isin(grassland),\n",
    "    ds_clas.isin(wetland),\n",
    "    ds_clas.isin(otherland),\n",
    "    ds_clas.isin(settlement),\n",
    "]\n",
    "\n",
    "ds_cci['ipcc_classification'] = (xr.DataArray(np.select(ipcc_condition, ipcc_classess_num), \n",
    "                                   coords={'time': ds_cci.time, 'y': ds_cci.y, 'x': ds_cci.x},\n",
    "                                   dims=['time', 'y', 'x'])).astype('int8')"
   ]
  },
  {
   "cell_type": "markdown",
   "metadata": {},
   "source": [
    "### Plotting IPCC Classification"
   ]
  },
  {
   "cell_type": "code",
   "execution_count": null,
   "metadata": {},
   "outputs": [],
   "source": [
    "clas = ds_cci['ipcc_classification'].where(mask).plot(add_colorbar=False, size=6, cmap='RdYlGn_r')\n",
    "clasp = plt.colorbar(clas)\n",
    "clasp.set_ticks(ipcc_classess_num)\n",
    "clasp.set_ticklabels(ipcc_classess)\n",
    "plt.title('IPCC Classification')\n",
    "plt.savefig(f'results/IPCC_{country}')\n",
    "plt.show()"
   ]
  },
  {
   "cell_type": "markdown",
   "metadata": {},
   "source": [
    "### Reclassify IPCC Classification to Green and Non Green Classes"
   ]
  },
  {
   "cell_type": "code",
   "execution_count": null,
   "metadata": {},
   "outputs": [],
   "source": [
    "gng_classess = ['Green', 'Non Green']\n",
    "gng_classess_num = [1, 2]\n",
    "recl_condition = [\n",
    "    ds_cci['ipcc_classification'].isin([1, 2, 3, 4]),\n",
    "    ds_cci['ipcc_classification'].isin([5, 6]),\n",
    "]\n",
    "ds_cci['green_non_green'] = (xr.DataArray(np.select(recl_condition, gng_classess_num), \n",
    "                                   coords={'time': ds_cci.time, 'y': ds_cci.y, 'x': ds_cci.x},\n",
    "                                   dims=['time', 'y', 'x'])).astype('int8')"
   ]
  },
  {
   "cell_type": "markdown",
   "metadata": {},
   "source": [
    "### Plotting Green/Non Green Classification"
   ]
  },
  {
   "cell_type": "code",
   "execution_count": null,
   "metadata": {},
   "outputs": [],
   "source": [
    "gng = ds_cci['green_non_green'].where(mask).plot(add_colorbar=False, size=6, cmap='RdYlGn_r')\n",
    "gngp = plt.colorbar(gng)\n",
    "gngp.set_ticks(gng_classess_num)\n",
    "gngp.set_ticklabels(gng_classess)\n",
    "plt.savefig(f'results/Green_Non_Green_{country}')\n",
    "plt.title('Green/Non Green')\n",
    "plt.show()"
   ]
  },
  {
   "cell_type": "markdown",
   "metadata": {},
   "source": [
    "### Downsampling dem_strm dataset at 30m to 300m resolution"
   ]
  },
  {
   "cell_type": "code",
   "execution_count": null,
   "metadata": {},
   "outputs": [],
   "source": [
    "ds = (xr_reproject(src=ds, geobox=ds_cci.geobox)).squeeze()"
   ]
  },
  {
   "cell_type": "markdown",
   "metadata": {},
   "source": [
    "### Pixel Area Conversion"
   ]
  },
  {
   "cell_type": "code",
   "execution_count": null,
   "metadata": {},
   "outputs": [],
   "source": [
    "pixel_length = 300  # in metres\n",
    "m_per_km = 1000  # conversion from metres to kilometres\n",
    "area_per_pixel = pixel_length**2 / m_per_km**2"
   ]
  },
  {
   "cell_type": "markdown",
   "metadata": {},
   "source": [
    "### Calculating the Mountain Green Cover Index (MGCI)"
   ]
  },
  {
   "cell_type": "markdown",
   "metadata": {},
   "source": [
    "<img align=\"center\" src=\"../../Supplementary_data/MGCI/formulae.png\" width=600>"
   ]
  },
  {
   "cell_type": "code",
   "execution_count": null,
   "metadata": {},
   "outputs": [],
   "source": [
    "#Total Mountain Area = total area (Km2) of mountains. In both the numerator and\n",
    "# denominator, Mountain is defined according to Kapos et al. in 2000\n",
    "total_mountain_area = ds['kapo_class'].where(ds['kapo_class'] != 0).sum(dim=['x', 'y']) * area_per_pixel\n",
    "\n",
    "mgci = {}\n",
    "mountain_indices=[y[0] for y in ds.groupby('kapo_class')]\n",
    "#Mountain Green Cover Area = sum of mountain area (Km2) covered by cropland,\n",
    "#grassland, forestland, shrubland, and wetland, as defined based on the IPCC classification;\n",
    "Kapos_filter = (ds['kapo_class'].where(ds_cci['ipcc_classification'].isin([1, 2, 3, 4]), np.nan)\n",
    "                   ).astype('int8')\n",
    "\n",
    "for mountain_index in mountain_indices:\n",
    "    #Mountain Green Cover Area (Numerator)\n",
    "    numerator = Kapos_filter.where(Kapos_filter == mountain_index).sum(dim=['x', 'y']) * area_per_pixel\n",
    "    #(MGCI)\n",
    "    mgci[mountain_index] = numerator.values / total_mountain_area.values\n",
    "\n",
    "result = pd.DataFrame.from_dict(mgci,  orient='index', columns=[time])"
   ]
  },
  {
   "cell_type": "markdown",
   "metadata": {},
   "source": [
    "### Plotting Mountain Green Cover Index"
   ]
  },
  {
   "cell_type": "code",
   "execution_count": null,
   "metadata": {
    "tags": []
   },
   "outputs": [],
   "source": [
    "result.plot(kind='bar', width=1)\n",
    "plt.title(f'Mountain Green Cover Index for {country}')\n",
    "plt.xlabel('Kapos Mountain Range')\n",
    "plt.ylabel('MGCI')\n",
    "plt.xticks(rotation=0)\n",
    "plt.grid()\n",
    "plt.savefig(f'results/MGCI_{country}')\n",
    "plt.show()"
   ]
  },
  {
   "cell_type": "markdown",
   "metadata": {},
   "source": [
    "---\n",
    "\n",
    "## Additional information\n",
    "\n",
    "**License:** The code in this notebook is licensed under the [Apache License, Version 2.0](https://www.apache.org/licenses/LICENSE-2.0). \n",
    "Digital Earth Africa data is licensed under the [Creative Commons by Attribution 4.0](https://creativecommons.org/licenses/by/4.0/) license.\n",
    "\n",
    "**Contact:** If you need assistance, please post a question on the [Open Data Cube Slack channel](http://slack.opendatacube.org/) or on the [GIS Stack Exchange](https://gis.stackexchange.com/questions/ask?tags=open-data-cube) using the `open-data-cube` tag (you can view previously asked questions [here](https://gis.stackexchange.com/questions/tagged/open-data-cube)).\n",
    "If you would like to report an issue with this notebook, you can file one on [Github](https://github.com/digitalearthafrica/deafrica-sandbox-notebooks).\n",
    "\n",
    "**Compatible datacube version:**"
   ]
  },
  {
   "cell_type": "code",
   "execution_count": null,
   "metadata": {},
   "outputs": [],
   "source": [
    "print(datacube.__version__)"
   ]
  },
  {
   "cell_type": "markdown",
   "metadata": {},
   "source": [
    "**Last Tested:**"
   ]
  },
  {
   "cell_type": "code",
   "execution_count": null,
   "metadata": {},
   "outputs": [],
   "source": [
    "from datetime import datetime\n",
    "datetime.today().strftime('%Y-%m-%d')"
   ]
  }
 ],
 "metadata": {
  "kernelspec": {
   "display_name": "Python 3 (ipykernel)",
   "language": "python",
   "name": "python3"
  },
  "language_info": {
   "codemirror_mode": {
    "name": "ipython",
    "version": 3
   },
   "file_extension": ".py",
   "mimetype": "text/x-python",
   "name": "python",
   "nbconvert_exporter": "python",
   "pygments_lexer": "ipython3",
   "version": "3.8.10"
  },
  "widgets": {
   "application/vnd.jupyter.widget-state+json": {
    "state": {
     "08b89a9e41b24874bc711c43740a5bae": {
      "model_module": "jupyter-leaflet",
      "model_module_version": "^0.11.1",
      "model_name": "LeafletZoomControlModel",
      "state": {
       "_model_module_version": "^0.11.1",
       "_view_count": null,
       "_view_module_version": "^0.11.1",
       "options": [
        "position",
        "zoom_in_text",
        "zoom_in_title",
        "zoom_out_text",
        "zoom_out_title"
       ]
      }
     },
     "5c951467067e49edb37270971de0fd3b": {
      "model_module": "jupyter-leaflet",
      "model_module_version": "^0.11.1",
      "model_name": "LeafletAttributionControlModel",
      "state": {
       "_model_module_version": "^0.11.1",
       "_view_count": null,
       "_view_module_version": "^0.11.1",
       "options": [
        "position",
        "prefix"
       ],
       "position": "bottomright",
       "prefix": "Leaflet"
      }
     }
    },
    "version_major": 2,
    "version_minor": 0
   }
  }
 },
 "nbformat": 4,
 "nbformat_minor": 4
}
